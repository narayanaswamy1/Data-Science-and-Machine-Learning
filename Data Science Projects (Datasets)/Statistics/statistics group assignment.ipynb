{
 "cells": [
  {
   "cell_type": "code",
   "execution_count": 19,
   "metadata": {},
   "outputs": [],
   "source": [
    "import numpy as np\n",
    "import pandas as pd\n",
    "import matplotlib.pyplot as plt\n",
    "from scipy import stats\n",
    "import seaborn as sns"
   ]
  },
  {
   "cell_type": "code",
   "execution_count": 20,
   "metadata": {},
   "outputs": [
    {
     "data": {
      "text/html": [
       "<div>\n",
       "<style scoped>\n",
       "    .dataframe tbody tr th:only-of-type {\n",
       "        vertical-align: middle;\n",
       "    }\n",
       "\n",
       "    .dataframe tbody tr th {\n",
       "        vertical-align: top;\n",
       "    }\n",
       "\n",
       "    .dataframe thead th {\n",
       "        text-align: right;\n",
       "    }\n",
       "</style>\n",
       "<table border=\"1\" class=\"dataframe\">\n",
       "  <thead>\n",
       "    <tr style=\"text-align: right;\">\n",
       "      <th></th>\n",
       "      <th>Country</th>\n",
       "      <th>Real coffee</th>\n",
       "      <th>Instant coffee</th>\n",
       "      <th>Tea</th>\n",
       "      <th>Sweetener</th>\n",
       "      <th>Biscuits</th>\n",
       "      <th>Powder soup</th>\n",
       "      <th>Tin soup</th>\n",
       "      <th>Potatoes</th>\n",
       "      <th>Frozen fish</th>\n",
       "      <th>...</th>\n",
       "      <th>Apples</th>\n",
       "      <th>Oranges</th>\n",
       "      <th>Tinned fruit</th>\n",
       "      <th>Jam</th>\n",
       "      <th>Garlic</th>\n",
       "      <th>Butter</th>\n",
       "      <th>Margarine</th>\n",
       "      <th>Olive oil</th>\n",
       "      <th>Yoghurt</th>\n",
       "      <th>Crisp bread</th>\n",
       "    </tr>\n",
       "  </thead>\n",
       "  <tbody>\n",
       "    <tr>\n",
       "      <th>0</th>\n",
       "      <td>Germany</td>\n",
       "      <td>90</td>\n",
       "      <td>49</td>\n",
       "      <td>88</td>\n",
       "      <td>19.0</td>\n",
       "      <td>57.0</td>\n",
       "      <td>51</td>\n",
       "      <td>19</td>\n",
       "      <td>21</td>\n",
       "      <td>27</td>\n",
       "      <td>...</td>\n",
       "      <td>81</td>\n",
       "      <td>75</td>\n",
       "      <td>44</td>\n",
       "      <td>71</td>\n",
       "      <td>22</td>\n",
       "      <td>91</td>\n",
       "      <td>85</td>\n",
       "      <td>74</td>\n",
       "      <td>30.0</td>\n",
       "      <td>26</td>\n",
       "    </tr>\n",
       "    <tr>\n",
       "      <th>1</th>\n",
       "      <td>Italy</td>\n",
       "      <td>82</td>\n",
       "      <td>10</td>\n",
       "      <td>60</td>\n",
       "      <td>2.0</td>\n",
       "      <td>55.0</td>\n",
       "      <td>41</td>\n",
       "      <td>3</td>\n",
       "      <td>2</td>\n",
       "      <td>4</td>\n",
       "      <td>...</td>\n",
       "      <td>67</td>\n",
       "      <td>71</td>\n",
       "      <td>9</td>\n",
       "      <td>46</td>\n",
       "      <td>80</td>\n",
       "      <td>66</td>\n",
       "      <td>24</td>\n",
       "      <td>94</td>\n",
       "      <td>5.0</td>\n",
       "      <td>18</td>\n",
       "    </tr>\n",
       "    <tr>\n",
       "      <th>2</th>\n",
       "      <td>France</td>\n",
       "      <td>88</td>\n",
       "      <td>42</td>\n",
       "      <td>63</td>\n",
       "      <td>4.0</td>\n",
       "      <td>76.0</td>\n",
       "      <td>53</td>\n",
       "      <td>11</td>\n",
       "      <td>23</td>\n",
       "      <td>11</td>\n",
       "      <td>...</td>\n",
       "      <td>87</td>\n",
       "      <td>84</td>\n",
       "      <td>40</td>\n",
       "      <td>45</td>\n",
       "      <td>88</td>\n",
       "      <td>94</td>\n",
       "      <td>47</td>\n",
       "      <td>36</td>\n",
       "      <td>57.0</td>\n",
       "      <td>3</td>\n",
       "    </tr>\n",
       "    <tr>\n",
       "      <th>3</th>\n",
       "      <td>Holland</td>\n",
       "      <td>96</td>\n",
       "      <td>62</td>\n",
       "      <td>98</td>\n",
       "      <td>32.0</td>\n",
       "      <td>62.0</td>\n",
       "      <td>67</td>\n",
       "      <td>43</td>\n",
       "      <td>7</td>\n",
       "      <td>14</td>\n",
       "      <td>...</td>\n",
       "      <td>83</td>\n",
       "      <td>89</td>\n",
       "      <td>61</td>\n",
       "      <td>81</td>\n",
       "      <td>15</td>\n",
       "      <td>31</td>\n",
       "      <td>97</td>\n",
       "      <td>13</td>\n",
       "      <td>53.0</td>\n",
       "      <td>15</td>\n",
       "    </tr>\n",
       "    <tr>\n",
       "      <th>4</th>\n",
       "      <td>Belgium</td>\n",
       "      <td>94</td>\n",
       "      <td>38</td>\n",
       "      <td>48</td>\n",
       "      <td>11.0</td>\n",
       "      <td>74.0</td>\n",
       "      <td>37</td>\n",
       "      <td>23</td>\n",
       "      <td>9</td>\n",
       "      <td>13</td>\n",
       "      <td>...</td>\n",
       "      <td>76</td>\n",
       "      <td>76</td>\n",
       "      <td>42</td>\n",
       "      <td>57</td>\n",
       "      <td>29</td>\n",
       "      <td>84</td>\n",
       "      <td>80</td>\n",
       "      <td>83</td>\n",
       "      <td>20.0</td>\n",
       "      <td>5</td>\n",
       "    </tr>\n",
       "    <tr>\n",
       "      <th>5</th>\n",
       "      <td>Luxembourg</td>\n",
       "      <td>97</td>\n",
       "      <td>61</td>\n",
       "      <td>86</td>\n",
       "      <td>28.0</td>\n",
       "      <td>79.0</td>\n",
       "      <td>73</td>\n",
       "      <td>12</td>\n",
       "      <td>7</td>\n",
       "      <td>26</td>\n",
       "      <td>...</td>\n",
       "      <td>85</td>\n",
       "      <td>94</td>\n",
       "      <td>83</td>\n",
       "      <td>20</td>\n",
       "      <td>91</td>\n",
       "      <td>94</td>\n",
       "      <td>94</td>\n",
       "      <td>84</td>\n",
       "      <td>31.0</td>\n",
       "      <td>24</td>\n",
       "    </tr>\n",
       "    <tr>\n",
       "      <th>6</th>\n",
       "      <td>England</td>\n",
       "      <td>27</td>\n",
       "      <td>86</td>\n",
       "      <td>99</td>\n",
       "      <td>22.0</td>\n",
       "      <td>91.0</td>\n",
       "      <td>55</td>\n",
       "      <td>76</td>\n",
       "      <td>17</td>\n",
       "      <td>20</td>\n",
       "      <td>...</td>\n",
       "      <td>76</td>\n",
       "      <td>68</td>\n",
       "      <td>89</td>\n",
       "      <td>91</td>\n",
       "      <td>11</td>\n",
       "      <td>95</td>\n",
       "      <td>94</td>\n",
       "      <td>57</td>\n",
       "      <td>11.0</td>\n",
       "      <td>28</td>\n",
       "    </tr>\n",
       "    <tr>\n",
       "      <th>7</th>\n",
       "      <td>Portugal</td>\n",
       "      <td>72</td>\n",
       "      <td>26</td>\n",
       "      <td>77</td>\n",
       "      <td>2.0</td>\n",
       "      <td>22.0</td>\n",
       "      <td>34</td>\n",
       "      <td>1</td>\n",
       "      <td>5</td>\n",
       "      <td>20</td>\n",
       "      <td>...</td>\n",
       "      <td>22</td>\n",
       "      <td>51</td>\n",
       "      <td>8</td>\n",
       "      <td>16</td>\n",
       "      <td>89</td>\n",
       "      <td>65</td>\n",
       "      <td>78</td>\n",
       "      <td>92</td>\n",
       "      <td>6.0</td>\n",
       "      <td>9</td>\n",
       "    </tr>\n",
       "    <tr>\n",
       "      <th>8</th>\n",
       "      <td>Austria</td>\n",
       "      <td>55</td>\n",
       "      <td>31</td>\n",
       "      <td>61</td>\n",
       "      <td>15.0</td>\n",
       "      <td>29.0</td>\n",
       "      <td>33</td>\n",
       "      <td>1</td>\n",
       "      <td>5</td>\n",
       "      <td>15</td>\n",
       "      <td>...</td>\n",
       "      <td>49</td>\n",
       "      <td>42</td>\n",
       "      <td>14</td>\n",
       "      <td>41</td>\n",
       "      <td>51</td>\n",
       "      <td>51</td>\n",
       "      <td>72</td>\n",
       "      <td>28</td>\n",
       "      <td>13.0</td>\n",
       "      <td>11</td>\n",
       "    </tr>\n",
       "    <tr>\n",
       "      <th>9</th>\n",
       "      <td>Switzerland</td>\n",
       "      <td>73</td>\n",
       "      <td>72</td>\n",
       "      <td>85</td>\n",
       "      <td>25.0</td>\n",
       "      <td>31.0</td>\n",
       "      <td>69</td>\n",
       "      <td>10</td>\n",
       "      <td>17</td>\n",
       "      <td>19</td>\n",
       "      <td>...</td>\n",
       "      <td>79</td>\n",
       "      <td>70</td>\n",
       "      <td>46</td>\n",
       "      <td>61</td>\n",
       "      <td>64</td>\n",
       "      <td>82</td>\n",
       "      <td>48</td>\n",
       "      <td>61</td>\n",
       "      <td>48.0</td>\n",
       "      <td>30</td>\n",
       "    </tr>\n",
       "    <tr>\n",
       "      <th>10</th>\n",
       "      <td>Sweden</td>\n",
       "      <td>97</td>\n",
       "      <td>13</td>\n",
       "      <td>93</td>\n",
       "      <td>31.0</td>\n",
       "      <td>NaN</td>\n",
       "      <td>43</td>\n",
       "      <td>43</td>\n",
       "      <td>39</td>\n",
       "      <td>54</td>\n",
       "      <td>...</td>\n",
       "      <td>56</td>\n",
       "      <td>78</td>\n",
       "      <td>53</td>\n",
       "      <td>75</td>\n",
       "      <td>9</td>\n",
       "      <td>68</td>\n",
       "      <td>32</td>\n",
       "      <td>48</td>\n",
       "      <td>2.0</td>\n",
       "      <td>93</td>\n",
       "    </tr>\n",
       "    <tr>\n",
       "      <th>11</th>\n",
       "      <td>Denmark</td>\n",
       "      <td>96</td>\n",
       "      <td>17</td>\n",
       "      <td>92</td>\n",
       "      <td>35.0</td>\n",
       "      <td>66.0</td>\n",
       "      <td>32</td>\n",
       "      <td>17</td>\n",
       "      <td>11</td>\n",
       "      <td>51</td>\n",
       "      <td>...</td>\n",
       "      <td>81</td>\n",
       "      <td>72</td>\n",
       "      <td>50</td>\n",
       "      <td>64</td>\n",
       "      <td>11</td>\n",
       "      <td>92</td>\n",
       "      <td>91</td>\n",
       "      <td>30</td>\n",
       "      <td>11.0</td>\n",
       "      <td>34</td>\n",
       "    </tr>\n",
       "    <tr>\n",
       "      <th>12</th>\n",
       "      <td>Norway</td>\n",
       "      <td>92</td>\n",
       "      <td>17</td>\n",
       "      <td>83</td>\n",
       "      <td>13.0</td>\n",
       "      <td>62.0</td>\n",
       "      <td>51</td>\n",
       "      <td>4</td>\n",
       "      <td>17</td>\n",
       "      <td>30</td>\n",
       "      <td>...</td>\n",
       "      <td>61</td>\n",
       "      <td>72</td>\n",
       "      <td>34</td>\n",
       "      <td>51</td>\n",
       "      <td>11</td>\n",
       "      <td>63</td>\n",
       "      <td>94</td>\n",
       "      <td>28</td>\n",
       "      <td>2.0</td>\n",
       "      <td>62</td>\n",
       "    </tr>\n",
       "    <tr>\n",
       "      <th>13</th>\n",
       "      <td>Finland</td>\n",
       "      <td>98</td>\n",
       "      <td>12</td>\n",
       "      <td>84</td>\n",
       "      <td>20.0</td>\n",
       "      <td>64.0</td>\n",
       "      <td>27</td>\n",
       "      <td>10</td>\n",
       "      <td>8</td>\n",
       "      <td>18</td>\n",
       "      <td>...</td>\n",
       "      <td>50</td>\n",
       "      <td>57</td>\n",
       "      <td>22</td>\n",
       "      <td>37</td>\n",
       "      <td>15</td>\n",
       "      <td>96</td>\n",
       "      <td>94</td>\n",
       "      <td>17</td>\n",
       "      <td>NaN</td>\n",
       "      <td>64</td>\n",
       "    </tr>\n",
       "    <tr>\n",
       "      <th>14</th>\n",
       "      <td>Spain</td>\n",
       "      <td>70</td>\n",
       "      <td>40</td>\n",
       "      <td>40</td>\n",
       "      <td>NaN</td>\n",
       "      <td>62.0</td>\n",
       "      <td>43</td>\n",
       "      <td>2</td>\n",
       "      <td>14</td>\n",
       "      <td>23</td>\n",
       "      <td>...</td>\n",
       "      <td>59</td>\n",
       "      <td>77</td>\n",
       "      <td>30</td>\n",
       "      <td>38</td>\n",
       "      <td>86</td>\n",
       "      <td>44</td>\n",
       "      <td>51</td>\n",
       "      <td>91</td>\n",
       "      <td>16.0</td>\n",
       "      <td>13</td>\n",
       "    </tr>\n",
       "    <tr>\n",
       "      <th>15</th>\n",
       "      <td>Ireland</td>\n",
       "      <td>30</td>\n",
       "      <td>52</td>\n",
       "      <td>99</td>\n",
       "      <td>11.0</td>\n",
       "      <td>80.0</td>\n",
       "      <td>75</td>\n",
       "      <td>18</td>\n",
       "      <td>2</td>\n",
       "      <td>5</td>\n",
       "      <td>...</td>\n",
       "      <td>57</td>\n",
       "      <td>52</td>\n",
       "      <td>46</td>\n",
       "      <td>89</td>\n",
       "      <td>5</td>\n",
       "      <td>97</td>\n",
       "      <td>25</td>\n",
       "      <td>31</td>\n",
       "      <td>3.0</td>\n",
       "      <td>9</td>\n",
       "    </tr>\n",
       "  </tbody>\n",
       "</table>\n",
       "<p>16 rows × 21 columns</p>\n",
       "</div>"
      ],
      "text/plain": [
       "        Country  Real coffee  Instant coffee  Tea  Sweetener  Biscuits  \\\n",
       "0       Germany           90              49   88       19.0      57.0   \n",
       "1         Italy           82              10   60        2.0      55.0   \n",
       "2        France           88              42   63        4.0      76.0   \n",
       "3       Holland           96              62   98       32.0      62.0   \n",
       "4       Belgium           94              38   48       11.0      74.0   \n",
       "5    Luxembourg           97              61   86       28.0      79.0   \n",
       "6       England           27              86   99       22.0      91.0   \n",
       "7      Portugal           72              26   77        2.0      22.0   \n",
       "8       Austria           55              31   61       15.0      29.0   \n",
       "9   Switzerland           73              72   85       25.0      31.0   \n",
       "10       Sweden           97              13   93       31.0       NaN   \n",
       "11      Denmark           96              17   92       35.0      66.0   \n",
       "12       Norway           92              17   83       13.0      62.0   \n",
       "13      Finland           98              12   84       20.0      64.0   \n",
       "14        Spain           70              40   40        NaN      62.0   \n",
       "15      Ireland           30              52   99       11.0      80.0   \n",
       "\n",
       "    Powder soup  Tin soup  Potatoes  Frozen fish  ...  Apples  Oranges  \\\n",
       "0            51        19        21           27  ...      81       75   \n",
       "1            41         3         2            4  ...      67       71   \n",
       "2            53        11        23           11  ...      87       84   \n",
       "3            67        43         7           14  ...      83       89   \n",
       "4            37        23         9           13  ...      76       76   \n",
       "5            73        12         7           26  ...      85       94   \n",
       "6            55        76        17           20  ...      76       68   \n",
       "7            34         1         5           20  ...      22       51   \n",
       "8            33         1         5           15  ...      49       42   \n",
       "9            69        10        17           19  ...      79       70   \n",
       "10           43        43        39           54  ...      56       78   \n",
       "11           32        17        11           51  ...      81       72   \n",
       "12           51         4        17           30  ...      61       72   \n",
       "13           27        10         8           18  ...      50       57   \n",
       "14           43         2        14           23  ...      59       77   \n",
       "15           75        18         2            5  ...      57       52   \n",
       "\n",
       "    Tinned fruit  Jam  Garlic  Butter  Margarine  Olive oil  Yoghurt  \\\n",
       "0             44   71      22      91         85         74     30.0   \n",
       "1              9   46      80      66         24         94      5.0   \n",
       "2             40   45      88      94         47         36     57.0   \n",
       "3             61   81      15      31         97         13     53.0   \n",
       "4             42   57      29      84         80         83     20.0   \n",
       "5             83   20      91      94         94         84     31.0   \n",
       "6             89   91      11      95         94         57     11.0   \n",
       "7              8   16      89      65         78         92      6.0   \n",
       "8             14   41      51      51         72         28     13.0   \n",
       "9             46   61      64      82         48         61     48.0   \n",
       "10            53   75       9      68         32         48      2.0   \n",
       "11            50   64      11      92         91         30     11.0   \n",
       "12            34   51      11      63         94         28      2.0   \n",
       "13            22   37      15      96         94         17      NaN   \n",
       "14            30   38      86      44         51         91     16.0   \n",
       "15            46   89       5      97         25         31      3.0   \n",
       "\n",
       "    Crisp bread  \n",
       "0            26  \n",
       "1            18  \n",
       "2             3  \n",
       "3            15  \n",
       "4             5  \n",
       "5            24  \n",
       "6            28  \n",
       "7             9  \n",
       "8            11  \n",
       "9            30  \n",
       "10           93  \n",
       "11           34  \n",
       "12           62  \n",
       "13           64  \n",
       "14           13  \n",
       "15            9  \n",
       "\n",
       "[16 rows x 21 columns]"
      ]
     },
     "execution_count": 20,
     "metadata": {},
     "output_type": "execute_result"
    }
   ],
   "source": [
    "df = pd.read_csv('food-consumption.csv')\n",
    "df"
   ]
  },
  {
   "cell_type": "code",
   "execution_count": 21,
   "metadata": {},
   "outputs": [
    {
     "data": {
      "text/plain": [
       "(16, 21)"
      ]
     },
     "execution_count": 21,
     "metadata": {},
     "output_type": "execute_result"
    }
   ],
   "source": [
    "df.shape"
   ]
  },
  {
   "cell_type": "code",
   "execution_count": 22,
   "metadata": {},
   "outputs": [
    {
     "name": "stdout",
     "output_type": "stream",
     "text": [
      "<class 'pandas.core.frame.DataFrame'>\n",
      "RangeIndex: 16 entries, 0 to 15\n",
      "Data columns (total 21 columns):\n",
      "Country           16 non-null object\n",
      "Real coffee       16 non-null int64\n",
      "Instant coffee    16 non-null int64\n",
      "Tea               16 non-null int64\n",
      "Sweetener         15 non-null float64\n",
      "Biscuits          15 non-null float64\n",
      "Powder soup       16 non-null int64\n",
      "Tin soup          16 non-null int64\n",
      "Potatoes          16 non-null int64\n",
      "Frozen fish       16 non-null int64\n",
      "Frozen veggies    16 non-null int64\n",
      "Apples            16 non-null int64\n",
      "Oranges           16 non-null int64\n",
      "Tinned fruit      16 non-null int64\n",
      "Jam               16 non-null int64\n",
      "Garlic            16 non-null int64\n",
      "Butter            16 non-null int64\n",
      "Margarine         16 non-null int64\n",
      "Olive oil         16 non-null int64\n",
      "Yoghurt           15 non-null float64\n",
      "Crisp bread       16 non-null int64\n",
      "dtypes: float64(3), int64(17), object(1)\n",
      "memory usage: 2.7+ KB\n"
     ]
    }
   ],
   "source": [
    "df.info()"
   ]
  },
  {
   "cell_type": "code",
   "execution_count": 23,
   "metadata": {},
   "outputs": [
    {
     "data": {
      "text/plain": [
       "Country           0\n",
       "Real coffee       0\n",
       "Instant coffee    0\n",
       "Tea               0\n",
       "Sweetener         1\n",
       "Biscuits          1\n",
       "Powder soup       0\n",
       "Tin soup          0\n",
       "Potatoes          0\n",
       "Frozen fish       0\n",
       "Frozen veggies    0\n",
       "Apples            0\n",
       "Oranges           0\n",
       "Tinned fruit      0\n",
       "Jam               0\n",
       "Garlic            0\n",
       "Butter            0\n",
       "Margarine         0\n",
       "Olive oil         0\n",
       "Yoghurt           1\n",
       "Crisp bread       0\n",
       "dtype: int64"
      ]
     },
     "execution_count": 23,
     "metadata": {},
     "output_type": "execute_result"
    }
   ],
   "source": [
    "df.isnull().sum()"
   ]
  },
  {
   "cell_type": "code",
   "execution_count": 24,
   "metadata": {},
   "outputs": [
    {
     "data": {
      "text/plain": [
       "pandas.core.series.Series"
      ]
     },
     "execution_count": 24,
     "metadata": {},
     "output_type": "execute_result"
    }
   ],
   "source": [
    "type(df.Country)"
   ]
  },
  {
   "cell_type": "code",
   "execution_count": 25,
   "metadata": {},
   "outputs": [
    {
     "data": {
      "text/plain": [
       "[<matplotlib.lines.Line2D at 0x21a04ab65f8>]"
      ]
     },
     "execution_count": 25,
     "metadata": {},
     "output_type": "execute_result"
    },
    {
     "data": {
      "image/png": "[encoded data removed]",
      "text/plain": [
       "<Figure size 432x288 with 1 Axes>"
      ]
     },
     "metadata": {
      "needs_background": "light"
     },
     "output_type": "display_data"
    }
   ],
   "source": [
    "plt.plot(df.Tea)"
   ]
  },
  {
   "cell_type": "code",
   "execution_count": 26,
   "metadata": {},
   "outputs": [
    {
     "data": {
      "text/plain": [
       "-0.6402771918019692"
      ]
     },
     "execution_count": 26,
     "metadata": {},
     "output_type": "execute_result"
    }
   ],
   "source": [
    "stats.kurtosis(df.Tea)"
   ]
  },
  {
   "cell_type": "code",
   "execution_count": 27,
   "metadata": {},
   "outputs": [
    {
     "data": {
      "text/plain": [
       "<matplotlib.axes._subplots.AxesSubplot at 0x21a03798588>"
      ]
     },
     "execution_count": 27,
     "metadata": {},
     "output_type": "execute_result"
    },
    {
     "data": {
      "image/png": "[encoded data removed]",
      "text/plain": [
       "<Figure size 432x288 with 1 Axes>"
      ]
     },
     "metadata": {
      "needs_background": "light"
     },
     "output_type": "display_data"
    }
   ],
   "source": [
    "sns.boxplot(df.Tea)"
   ]
  },
  {
   "cell_type": "code",
   "execution_count": 28,
   "metadata": {},
   "outputs": [
    {
     "name": "stderr",
     "output_type": "stream",
     "text": [
      "'c' argument looks like a single numeric RGB or RGBA sequence, which should be avoided as value-mapping will have precedence in case its length matches with 'x' & 'y'.  Please use a 2-D array with a single row if you really want to specify the same RGB or RGBA value for all points.\n"
     ]
    },
    {
     "data": {
      "text/plain": [
       "<matplotlib.axes._subplots.AxesSubplot at 0x21a058e2908>"
      ]
     },
     "execution_count": 28,
     "metadata": {},
     "output_type": "execute_result"
    },
    {
     "data": {
      "image/png": "[encoded data removed]",
      "text/plain": [
       "<Figure size 432x288 with 1 Axes>"
      ]
     },
     "metadata": {
      "needs_background": "light"
     },
     "output_type": "display_data"
    }
   ],
   "source": [
    "sns.boxenplot(df.Tea)"
   ]
  },
  {
   "cell_type": "code",
   "execution_count": 107,
   "metadata": {},
   "outputs": [],
   "source": [
    "a = np.array([21,25,24,27,30,25,27,29,28,27,26,23,29,100])"
   ]
  },
  {
   "cell_type": "code",
   "execution_count": 80,
   "metadata": {},
   "outputs": [
    {
     "data": {
      "text/plain": [
       "95.78571428571429"
      ]
     },
     "execution_count": 80,
     "metadata": {},
     "output_type": "execute_result"
    }
   ],
   "source": [
    "np.mean(a)"
   ]
  },
  {
   "cell_type": "code",
   "execution_count": 81,
   "metadata": {},
   "outputs": [
    {
     "data": {
      "text/plain": [
       "27.0"
      ]
     },
     "execution_count": 81,
     "metadata": {},
     "output_type": "execute_result"
    }
   ],
   "source": [
    "np.median(a)"
   ]
  },
  {
   "cell_type": "code",
   "execution_count": 82,
   "metadata": {},
   "outputs": [
    {
     "data": {
      "text/plain": [
       "ModeResult(mode=array([27]), count=array([3]))"
      ]
     },
     "execution_count": 82,
     "metadata": {},
     "output_type": "execute_result"
    }
   ],
   "source": [
    "stats.mode(a)"
   ]
  },
  {
   "cell_type": "code",
   "execution_count": 83,
   "metadata": {},
   "outputs": [
    {
     "data": {
      "text/plain": [
       "1000.0"
      ]
     },
     "execution_count": 83,
     "metadata": {},
     "output_type": "execute_result"
    }
   ],
   "source": [
    "np.quantile(a,1)"
   ]
  },
  {
   "cell_type": "code",
   "execution_count": 84,
   "metadata": {},
   "outputs": [
    {
     "data": {
      "text/plain": [
       "3.75"
      ]
     },
     "execution_count": 84,
     "metadata": {},
     "output_type": "execute_result"
    }
   ],
   "source": [
    "stats.iqr(a)"
   ]
  },
  {
   "cell_type": "code",
   "execution_count": 85,
   "metadata": {},
   "outputs": [
    {
     "data": {
      "text/html": [
       "<div>\n",
       "<style scoped>\n",
       "    .dataframe tbody tr th:only-of-type {\n",
       "        vertical-align: middle;\n",
       "    }\n",
       "\n",
       "    .dataframe tbody tr th {\n",
       "        vertical-align: top;\n",
       "    }\n",
       "\n",
       "    .dataframe thead th {\n",
       "        text-align: right;\n",
       "    }\n",
       "</style>\n",
       "<table border=\"1\" class=\"dataframe\">\n",
       "  <thead>\n",
       "    <tr style=\"text-align: right;\">\n",
       "      <th></th>\n",
       "      <th>Real coffee</th>\n",
       "      <th>Instant coffee</th>\n",
       "      <th>Tea</th>\n",
       "      <th>Sweetener</th>\n",
       "      <th>Biscuits</th>\n",
       "      <th>Powder soup</th>\n",
       "      <th>Tin soup</th>\n",
       "      <th>Potatoes</th>\n",
       "      <th>Frozen fish</th>\n",
       "      <th>Frozen veggies</th>\n",
       "      <th>Apples</th>\n",
       "      <th>Oranges</th>\n",
       "      <th>Tinned fruit</th>\n",
       "      <th>Jam</th>\n",
       "      <th>Garlic</th>\n",
       "      <th>Butter</th>\n",
       "      <th>Margarine</th>\n",
       "      <th>Olive oil</th>\n",
       "      <th>Yoghurt</th>\n",
       "      <th>Crisp bread</th>\n",
       "    </tr>\n",
       "  </thead>\n",
       "  <tbody>\n",
       "    <tr>\n",
       "      <th>count</th>\n",
       "      <td>16.000000</td>\n",
       "      <td>16.000000</td>\n",
       "      <td>16.000000</td>\n",
       "      <td>15.000000</td>\n",
       "      <td>15.000000</td>\n",
       "      <td>16.000000</td>\n",
       "      <td>16.000000</td>\n",
       "      <td>16.000000</td>\n",
       "      <td>16.000000</td>\n",
       "      <td>16.00000</td>\n",
       "      <td>16.000000</td>\n",
       "      <td>16.000000</td>\n",
       "      <td>16.000000</td>\n",
       "      <td>16.000000</td>\n",
       "      <td>16.000000</td>\n",
       "      <td>16.000000</td>\n",
       "      <td>16.000000</td>\n",
       "      <td>16.000000</td>\n",
       "      <td>15.000000</td>\n",
       "      <td>16.000000</td>\n",
       "    </tr>\n",
       "    <tr>\n",
       "      <th>mean</th>\n",
       "      <td>78.562500</td>\n",
       "      <td>39.250000</td>\n",
       "      <td>78.500000</td>\n",
       "      <td>18.000000</td>\n",
       "      <td>60.666667</td>\n",
       "      <td>49.000000</td>\n",
       "      <td>18.312500</td>\n",
       "      <td>12.750000</td>\n",
       "      <td>21.875000</td>\n",
       "      <td>15.87500</td>\n",
       "      <td>66.812500</td>\n",
       "      <td>70.500000</td>\n",
       "      <td>41.937500</td>\n",
       "      <td>55.187500</td>\n",
       "      <td>42.312500</td>\n",
       "      <td>75.812500</td>\n",
       "      <td>69.125000</td>\n",
       "      <td>54.187500</td>\n",
       "      <td>20.533333</td>\n",
       "      <td>27.750000</td>\n",
       "    </tr>\n",
       "    <tr>\n",
       "      <th>std</th>\n",
       "      <td>23.145824</td>\n",
       "      <td>23.147354</td>\n",
       "      <td>18.540047</td>\n",
       "      <td>10.902162</td>\n",
       "      <td>19.841035</td>\n",
       "      <td>15.427249</td>\n",
       "      <td>20.178268</td>\n",
       "      <td>9.574271</td>\n",
       "      <td>13.980343</td>\n",
       "      <td>12.78997</td>\n",
       "      <td>17.581122</td>\n",
       "      <td>14.033294</td>\n",
       "      <td>23.256451</td>\n",
       "      <td>22.592679</td>\n",
       "      <td>34.677022</td>\n",
       "      <td>20.910026</td>\n",
       "      <td>26.849891</td>\n",
       "      <td>28.842604</td>\n",
       "      <td>18.980692</td>\n",
       "      <td>25.026652</td>\n",
       "    </tr>\n",
       "    <tr>\n",
       "      <th>min</th>\n",
       "      <td>27.000000</td>\n",
       "      <td>10.000000</td>\n",
       "      <td>40.000000</td>\n",
       "      <td>2.000000</td>\n",
       "      <td>22.000000</td>\n",
       "      <td>27.000000</td>\n",
       "      <td>1.000000</td>\n",
       "      <td>2.000000</td>\n",
       "      <td>4.000000</td>\n",
       "      <td>2.00000</td>\n",
       "      <td>22.000000</td>\n",
       "      <td>42.000000</td>\n",
       "      <td>8.000000</td>\n",
       "      <td>16.000000</td>\n",
       "      <td>5.000000</td>\n",
       "      <td>31.000000</td>\n",
       "      <td>24.000000</td>\n",
       "      <td>13.000000</td>\n",
       "      <td>2.000000</td>\n",
       "      <td>3.000000</td>\n",
       "    </tr>\n",
       "    <tr>\n",
       "      <th>25%</th>\n",
       "      <td>71.500000</td>\n",
       "      <td>17.000000</td>\n",
       "      <td>62.500000</td>\n",
       "      <td>11.000000</td>\n",
       "      <td>56.000000</td>\n",
       "      <td>36.250000</td>\n",
       "      <td>3.750000</td>\n",
       "      <td>6.500000</td>\n",
       "      <td>13.750000</td>\n",
       "      <td>6.50000</td>\n",
       "      <td>56.750000</td>\n",
       "      <td>65.250000</td>\n",
       "      <td>28.000000</td>\n",
       "      <td>40.250000</td>\n",
       "      <td>11.000000</td>\n",
       "      <td>64.500000</td>\n",
       "      <td>47.750000</td>\n",
       "      <td>29.500000</td>\n",
       "      <td>5.500000</td>\n",
       "      <td>10.500000</td>\n",
       "    </tr>\n",
       "    <tr>\n",
       "      <th>50%</th>\n",
       "      <td>89.000000</td>\n",
       "      <td>39.000000</td>\n",
       "      <td>84.500000</td>\n",
       "      <td>19.000000</td>\n",
       "      <td>62.000000</td>\n",
       "      <td>47.000000</td>\n",
       "      <td>11.500000</td>\n",
       "      <td>10.000000</td>\n",
       "      <td>19.500000</td>\n",
       "      <td>13.00000</td>\n",
       "      <td>71.500000</td>\n",
       "      <td>72.000000</td>\n",
       "      <td>43.000000</td>\n",
       "      <td>54.000000</td>\n",
       "      <td>25.500000</td>\n",
       "      <td>83.000000</td>\n",
       "      <td>79.000000</td>\n",
       "      <td>52.500000</td>\n",
       "      <td>13.000000</td>\n",
       "      <td>21.000000</td>\n",
       "    </tr>\n",
       "    <tr>\n",
       "      <th>75%</th>\n",
       "      <td>96.000000</td>\n",
       "      <td>54.250000</td>\n",
       "      <td>92.250000</td>\n",
       "      <td>26.500000</td>\n",
       "      <td>75.000000</td>\n",
       "      <td>58.000000</td>\n",
       "      <td>20.000000</td>\n",
       "      <td>17.000000</td>\n",
       "      <td>26.250000</td>\n",
       "      <td>21.50000</td>\n",
       "      <td>81.000000</td>\n",
       "      <td>77.250000</td>\n",
       "      <td>50.750000</td>\n",
       "      <td>72.000000</td>\n",
       "      <td>81.500000</td>\n",
       "      <td>94.000000</td>\n",
       "      <td>94.000000</td>\n",
       "      <td>83.250000</td>\n",
       "      <td>30.500000</td>\n",
       "      <td>31.000000</td>\n",
       "    </tr>\n",
       "    <tr>\n",
       "      <th>max</th>\n",
       "      <td>98.000000</td>\n",
       "      <td>86.000000</td>\n",
       "      <td>99.000000</td>\n",
       "      <td>35.000000</td>\n",
       "      <td>91.000000</td>\n",
       "      <td>75.000000</td>\n",
       "      <td>76.000000</td>\n",
       "      <td>39.000000</td>\n",
       "      <td>54.000000</td>\n",
       "      <td>45.00000</td>\n",
       "      <td>87.000000</td>\n",
       "      <td>94.000000</td>\n",
       "      <td>89.000000</td>\n",
       "      <td>91.000000</td>\n",
       "      <td>91.000000</td>\n",
       "      <td>97.000000</td>\n",
       "      <td>97.000000</td>\n",
       "      <td>94.000000</td>\n",
       "      <td>57.000000</td>\n",
       "      <td>93.000000</td>\n",
       "    </tr>\n",
       "  </tbody>\n",
       "</table>\n",
       "</div>"
      ],
      "text/plain": [
       "       Real coffee  Instant coffee        Tea  Sweetener   Biscuits  \\\n",
       "count    16.000000       16.000000  16.000000  15.000000  15.000000   \n",
       "mean     78.562500       39.250000  78.500000  18.000000  60.666667   \n",
       "std      23.145824       23.147354  18.540047  10.902162  19.841035   \n",
       "min      27.000000       10.000000  40.000000   2.000000  22.000000   \n",
       "25%      71.500000       17.000000  62.500000  11.000000  56.000000   \n",
       "50%      89.000000       39.000000  84.500000  19.000000  62.000000   \n",
       "75%      96.000000       54.250000  92.250000  26.500000  75.000000   \n",
       "max      98.000000       86.000000  99.000000  35.000000  91.000000   \n",
       "\n",
       "       Powder soup   Tin soup   Potatoes  Frozen fish  Frozen veggies  \\\n",
       "count    16.000000  16.000000  16.000000    16.000000        16.00000   \n",
       "mean     49.000000  18.312500  12.750000    21.875000        15.87500   \n",
       "std      15.427249  20.178268   9.574271    13.980343        12.78997   \n",
       "min      27.000000   1.000000   2.000000     4.000000         2.00000   \n",
       "25%      36.250000   3.750000   6.500000    13.750000         6.50000   \n",
       "50%      47.000000  11.500000  10.000000    19.500000        13.00000   \n",
       "75%      58.000000  20.000000  17.000000    26.250000        21.50000   \n",
       "max      75.000000  76.000000  39.000000    54.000000        45.00000   \n",
       "\n",
       "          Apples    Oranges  Tinned fruit        Jam     Garlic     Butter  \\\n",
       "count  16.000000  16.000000     16.000000  16.000000  16.000000  16.000000   \n",
       "mean   66.812500  70.500000     41.937500  55.187500  42.312500  75.812500   \n",
       "std    17.581122  14.033294     23.256451  22.592679  34.677022  20.910026   \n",
       "min    22.000000  42.000000      8.000000  16.000000   5.000000  31.000000   \n",
       "25%    56.750000  65.250000     28.000000  40.250000  11.000000  64.500000   \n",
       "50%    71.500000  72.000000     43.000000  54.000000  25.500000  83.000000   \n",
       "75%    81.000000  77.250000     50.750000  72.000000  81.500000  94.000000   \n",
       "max    87.000000  94.000000     89.000000  91.000000  91.000000  97.000000   \n",
       "\n",
       "       Margarine  Olive oil    Yoghurt  Crisp bread  \n",
       "count  16.000000  16.000000  15.000000    16.000000  \n",
       "mean   69.125000  54.187500  20.533333    27.750000  \n",
       "std    26.849891  28.842604  18.980692    25.026652  \n",
       "min    24.000000  13.000000   2.000000     3.000000  \n",
       "25%    47.750000  29.500000   5.500000    10.500000  \n",
       "50%    79.000000  52.500000  13.000000    21.000000  \n",
       "75%    94.000000  83.250000  30.500000    31.000000  \n",
       "max    97.000000  94.000000  57.000000    93.000000  "
      ]
     },
     "execution_count": 85,
     "metadata": {},
     "output_type": "execute_result"
    }
   ],
   "source": [
    "df.describe()"
   ]
  },
  {
   "cell_type": "code",
   "execution_count": 87,
   "metadata": {},
   "outputs": [
    {
     "data": {
      "text/plain": [
       "Real coffee      -1.393637\n",
       "Instant coffee    0.455324\n",
       "Tea              -0.823639\n",
       "Sweetener        -0.032056\n",
       "Biscuits         -0.722135\n",
       "Powder soup       0.411364\n",
       "Tin soup          1.846718\n",
       "Potatoes          1.388787\n",
       "Frozen fish       1.260095\n",
       "Frozen veggies    1.252863\n",
       "Apples           -1.061611\n",
       "Oranges          -0.458777\n",
       "Tinned fruit      0.458299\n",
       "Jam              -0.034342\n",
       "Garlic            0.416234\n",
       "Butter           -0.807415\n",
       "Margarine        -0.611976\n",
       "Olive oil         0.112726\n",
       "Yoghurt           0.942999\n",
       "Crisp bread       1.530070\n",
       "dtype: float64"
      ]
     },
     "execution_count": 87,
     "metadata": {},
     "output_type": "execute_result"
    }
   ],
   "source": [
    "df.skew()"
   ]
  },
  {
   "cell_type": "code",
   "execution_count": 88,
   "metadata": {},
   "outputs": [
    {
     "data": {
      "text/plain": [
       "Real coffee       1.019405\n",
       "Instant coffee   -0.676180\n",
       "Tea              -0.402586\n",
       "Sweetener        -1.138717\n",
       "Biscuits         -0.079242\n",
       "Powder soup      -1.041045\n",
       "Tin soup          3.610954\n",
       "Potatoes          2.555217\n",
       "Frozen fish       1.506809\n",
       "Frozen veggies    1.154756\n",
       "Apples            1.195283\n",
       "Oranges          -0.070173\n",
       "Tinned fruit      0.104295\n",
       "Jam              -0.738795\n",
       "Garlic           -1.780691\n",
       "Butter           -0.404829\n",
       "Margarine        -1.248904\n",
       "Olive oil        -1.621018\n",
       "Yoghurt          -0.448491\n",
       "Crisp bread       1.950650\n",
       "dtype: float64"
      ]
     },
     "execution_count": 88,
     "metadata": {},
     "output_type": "execute_result"
    }
   ],
   "source": [
    "df.kurtosis()"
   ]
  },
  {
   "cell_type": "code",
   "execution_count": 89,
   "metadata": {},
   "outputs": [
    {
     "data": {
      "text/plain": [
       "<matplotlib.axes._subplots.AxesSubplot at 0x21a073abb70>"
      ]
     },
     "execution_count": 89,
     "metadata": {},
     "output_type": "execute_result"
    },
    {
     "data": {
      "image/png": "[encoded data removed]",
      "text/plain": [
       "<Figure size 432x288 with 1 Axes>"
      ]
     },
     "metadata": {
      "needs_background": "light"
     },
     "output_type": "display_data"
    }
   ],
   "source": [
    "df.boxplot()"
   ]
  },
  {
   "cell_type": "code",
   "execution_count": 102,
   "metadata": {},
   "outputs": [
    {
     "data": {
      "text/plain": [
       "29.75"
      ]
     },
     "execution_count": 102,
     "metadata": {},
     "output_type": "execute_result"
    }
   ],
   "source": [
    "stats.iqr(df.Tea)"
   ]
  },
  {
   "cell_type": "code",
   "execution_count": 103,
   "metadata": {},
   "outputs": [
    {
     "ename": "AttributeError",
     "evalue": "'numpy.ndarray' object has no attribute 'boxplot'",
     "output_type": "error",
     "traceback": [
      "\u001b[1;31m---------------------------------------------------------------------------\u001b[0m",
      "\u001b[1;31mAttributeError\u001b[0m                            Traceback (most recent call last)",
      "\u001b[1;32m<ipython-input-103-27d87f54adfc>\u001b[0m in \u001b[0;36m<module>\u001b[1;34m\u001b[0m\n\u001b[1;32m----> 1\u001b[1;33m \u001b[0ma\u001b[0m\u001b[1;33m.\u001b[0m\u001b[0mboxplot\u001b[0m\u001b[1;33m(\u001b[0m\u001b[1;33m)\u001b[0m\u001b[1;33m\u001b[0m\u001b[1;33m\u001b[0m\u001b[0m\n\u001b[0m",
      "\u001b[1;31mAttributeError\u001b[0m: 'numpy.ndarray' object has no attribute 'boxplot'"
     ]
    }
   ],
   "source": [
    "a.boxplot()"
   ]
  },
  {
   "cell_type": "code",
   "execution_count": 108,
   "metadata": {},
   "outputs": [
    {
     "data": {
      "text/plain": [
       "<matplotlib.axes._subplots.AxesSubplot at 0x21a072fca58>"
      ]
     },
     "execution_count": 108,
     "metadata": {},
     "output_type": "execute_result"
    },
    {
     "data": {
      "image/png": "[encoded data removed]",
      "text/plain": [
       "<Figure size 432x288 with 1 Axes>"
      ]
     },
     "metadata": {
      "needs_background": "light"
     },
     "output_type": "display_data"
    }
   ],
   "source": [
    "sns.boxplot(a)"
   ]
  },
  {
   "cell_type": "code",
   "execution_count": 109,
   "metadata": {},
   "outputs": [
    {
     "data": {
      "text/plain": [
       "[<matplotlib.lines.Line2D at 0x21a082f9b00>]"
      ]
     },
     "execution_count": 109,
     "metadata": {},
     "output_type": "execute_result"
    },
    {
     "data": {
      "image/png": "[encoded data removed]",
      "text/plain": [
       "<Figure size 432x288 with 1 Axes>"
      ]
     },
     "metadata": {
      "needs_background": "light"
     },
     "output_type": "display_data"
    }
   ],
   "source": [
    "plt.plot(a)"
   ]
  },
  {
   "cell_type": "code",
   "execution_count": null,
   "metadata": {},
   "outputs": [],
   "source": []
  }
 ],
 "metadata": {
  "kernelspec": {
   "display_name": "Python 3",
   "language": "python",
   "name": "python3"
  },
  "language_info": {
   "codemirror_mode": {
    "name": "ipython",
    "version": 3
   },
   "file_extension": ".py",
   "mimetype": "text/x-python",
   "name": "python",
   "nbconvert_exporter": "python",
   "pygments_lexer": "ipython3",
   "version": "3.7.3"
  }
 },
 "nbformat": 4,
 "nbformat_minor": 2
}
