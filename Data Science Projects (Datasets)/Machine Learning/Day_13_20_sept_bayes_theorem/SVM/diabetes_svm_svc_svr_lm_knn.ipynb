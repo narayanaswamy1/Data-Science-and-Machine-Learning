{
 "cells": [
  {
   "cell_type": "code",
   "execution_count": 49,
   "metadata": {},
   "outputs": [],
   "source": [
    "import warnings\n",
    "warnings.filterwarnings('ignore')"
   ]
  },
  {
   "cell_type": "code",
   "execution_count": 50,
   "metadata": {},
   "outputs": [],
   "source": [
    "%matplotlib inline\n",
    "import numpy as np\n",
    "import pandas as pd\n",
    "import seaborn as sns\n",
    "import matplotlib.pyplot as plt\n",
    "plt.style.use('seaborn-whitegrid')\n",
    "#plt.rcParams['figure.figsize'] = (15.0,7.0)"
   ]
  },
  {
   "cell_type": "code",
   "execution_count": 51,
   "metadata": {},
   "outputs": [],
   "source": [
    "from sklearn.datasets import load_diabetes"
   ]
  },
  {
   "cell_type": "code",
   "execution_count": 52,
   "metadata": {},
   "outputs": [],
   "source": [
    "diabetes = load_diabetes()"
   ]
  },
  {
   "cell_type": "code",
   "execution_count": 53,
   "metadata": {},
   "outputs": [
    {
     "name": "stdout",
     "output_type": "stream",
     "text": [
      "(442, 10)\n"
     ]
    },
    {
     "data": {
      "text/html": [
       "<div>\n",
       "<style scoped>\n",
       "    .dataframe tbody tr th:only-of-type {\n",
       "        vertical-align: middle;\n",
       "    }\n",
       "\n",
       "    .dataframe tbody tr th {\n",
       "        vertical-align: top;\n",
       "    }\n",
       "\n",
       "    .dataframe thead th {\n",
       "        text-align: right;\n",
       "    }\n",
       "</style>\n",
       "<table border=\"1\" class=\"dataframe\">\n",
       "  <thead>\n",
       "    <tr style=\"text-align: right;\">\n",
       "      <th></th>\n",
       "      <th>age</th>\n",
       "      <th>sex</th>\n",
       "      <th>bmi</th>\n",
       "      <th>bp</th>\n",
       "      <th>s1</th>\n",
       "      <th>s2</th>\n",
       "      <th>s3</th>\n",
       "      <th>s4</th>\n",
       "      <th>s5</th>\n",
       "      <th>s6</th>\n",
       "    </tr>\n",
       "  </thead>\n",
       "  <tbody>\n",
       "    <tr>\n",
       "      <th>0</th>\n",
       "      <td>0.038076</td>\n",
       "      <td>0.050680</td>\n",
       "      <td>0.061696</td>\n",
       "      <td>0.021872</td>\n",
       "      <td>-0.044223</td>\n",
       "      <td>-0.034821</td>\n",
       "      <td>-0.043401</td>\n",
       "      <td>-0.002592</td>\n",
       "      <td>0.019908</td>\n",
       "      <td>-0.017646</td>\n",
       "    </tr>\n",
       "    <tr>\n",
       "      <th>1</th>\n",
       "      <td>-0.001882</td>\n",
       "      <td>-0.044642</td>\n",
       "      <td>-0.051474</td>\n",
       "      <td>-0.026328</td>\n",
       "      <td>-0.008449</td>\n",
       "      <td>-0.019163</td>\n",
       "      <td>0.074412</td>\n",
       "      <td>-0.039493</td>\n",
       "      <td>-0.068330</td>\n",
       "      <td>-0.092204</td>\n",
       "    </tr>\n",
       "    <tr>\n",
       "      <th>2</th>\n",
       "      <td>0.085299</td>\n",
       "      <td>0.050680</td>\n",
       "      <td>0.044451</td>\n",
       "      <td>-0.005671</td>\n",
       "      <td>-0.045599</td>\n",
       "      <td>-0.034194</td>\n",
       "      <td>-0.032356</td>\n",
       "      <td>-0.002592</td>\n",
       "      <td>0.002864</td>\n",
       "      <td>-0.025930</td>\n",
       "    </tr>\n",
       "    <tr>\n",
       "      <th>3</th>\n",
       "      <td>-0.089063</td>\n",
       "      <td>-0.044642</td>\n",
       "      <td>-0.011595</td>\n",
       "      <td>-0.036656</td>\n",
       "      <td>0.012191</td>\n",
       "      <td>0.024991</td>\n",
       "      <td>-0.036038</td>\n",
       "      <td>0.034309</td>\n",
       "      <td>0.022692</td>\n",
       "      <td>-0.009362</td>\n",
       "    </tr>\n",
       "    <tr>\n",
       "      <th>4</th>\n",
       "      <td>0.005383</td>\n",
       "      <td>-0.044642</td>\n",
       "      <td>-0.036385</td>\n",
       "      <td>0.021872</td>\n",
       "      <td>0.003935</td>\n",
       "      <td>0.015596</td>\n",
       "      <td>0.008142</td>\n",
       "      <td>-0.002592</td>\n",
       "      <td>-0.031991</td>\n",
       "      <td>-0.046641</td>\n",
       "    </tr>\n",
       "  </tbody>\n",
       "</table>\n",
       "</div>"
      ],
      "text/plain": [
       "        age       sex       bmi        bp        s1        s2        s3  \\\n",
       "0  0.038076  0.050680  0.061696  0.021872 -0.044223 -0.034821 -0.043401   \n",
       "1 -0.001882 -0.044642 -0.051474 -0.026328 -0.008449 -0.019163  0.074412   \n",
       "2  0.085299  0.050680  0.044451 -0.005671 -0.045599 -0.034194 -0.032356   \n",
       "3 -0.089063 -0.044642 -0.011595 -0.036656  0.012191  0.024991 -0.036038   \n",
       "4  0.005383 -0.044642 -0.036385  0.021872  0.003935  0.015596  0.008142   \n",
       "\n",
       "         s4        s5        s6  \n",
       "0 -0.002592  0.019908 -0.017646  \n",
       "1 -0.039493 -0.068330 -0.092204  \n",
       "2 -0.002592  0.002864 -0.025930  \n",
       "3  0.034309  0.022692 -0.009362  \n",
       "4 -0.002592 -0.031991 -0.046641  "
      ]
     },
     "execution_count": 53,
     "metadata": {},
     "output_type": "execute_result"
    }
   ],
   "source": [
    "diabetes_df = pd.DataFrame(diabetes.data,columns=diabetes.feature_names)\n",
    "print(diabetes_df.shape)\n",
    "diabetes_df.head()"
   ]
  },
  {
   "cell_type": "code",
   "execution_count": 54,
   "metadata": {},
   "outputs": [],
   "source": [
    "diabetes_df['target'] = diabetes.target"
   ]
  },
  {
   "cell_type": "code",
   "execution_count": 55,
   "metadata": {},
   "outputs": [
    {
     "data": {
      "text/html": [
       "<div>\n",
       "<style scoped>\n",
       "    .dataframe tbody tr th:only-of-type {\n",
       "        vertical-align: middle;\n",
       "    }\n",
       "\n",
       "    .dataframe tbody tr th {\n",
       "        vertical-align: top;\n",
       "    }\n",
       "\n",
       "    .dataframe thead th {\n",
       "        text-align: right;\n",
       "    }\n",
       "</style>\n",
       "<table border=\"1\" class=\"dataframe\">\n",
       "  <thead>\n",
       "    <tr style=\"text-align: right;\">\n",
       "      <th></th>\n",
       "      <th>age</th>\n",
       "      <th>sex</th>\n",
       "      <th>bmi</th>\n",
       "      <th>bp</th>\n",
       "      <th>s1</th>\n",
       "      <th>s2</th>\n",
       "      <th>s3</th>\n",
       "      <th>s4</th>\n",
       "      <th>s5</th>\n",
       "      <th>s6</th>\n",
       "      <th>target</th>\n",
       "    </tr>\n",
       "  </thead>\n",
       "  <tbody>\n",
       "    <tr>\n",
       "      <th>0</th>\n",
       "      <td>0.038076</td>\n",
       "      <td>0.050680</td>\n",
       "      <td>0.061696</td>\n",
       "      <td>0.021872</td>\n",
       "      <td>-0.044223</td>\n",
       "      <td>-0.034821</td>\n",
       "      <td>-0.043401</td>\n",
       "      <td>-0.002592</td>\n",
       "      <td>0.019908</td>\n",
       "      <td>-0.017646</td>\n",
       "      <td>151.0</td>\n",
       "    </tr>\n",
       "    <tr>\n",
       "      <th>1</th>\n",
       "      <td>-0.001882</td>\n",
       "      <td>-0.044642</td>\n",
       "      <td>-0.051474</td>\n",
       "      <td>-0.026328</td>\n",
       "      <td>-0.008449</td>\n",
       "      <td>-0.019163</td>\n",
       "      <td>0.074412</td>\n",
       "      <td>-0.039493</td>\n",
       "      <td>-0.068330</td>\n",
       "      <td>-0.092204</td>\n",
       "      <td>75.0</td>\n",
       "    </tr>\n",
       "    <tr>\n",
       "      <th>2</th>\n",
       "      <td>0.085299</td>\n",
       "      <td>0.050680</td>\n",
       "      <td>0.044451</td>\n",
       "      <td>-0.005671</td>\n",
       "      <td>-0.045599</td>\n",
       "      <td>-0.034194</td>\n",
       "      <td>-0.032356</td>\n",
       "      <td>-0.002592</td>\n",
       "      <td>0.002864</td>\n",
       "      <td>-0.025930</td>\n",
       "      <td>141.0</td>\n",
       "    </tr>\n",
       "    <tr>\n",
       "      <th>3</th>\n",
       "      <td>-0.089063</td>\n",
       "      <td>-0.044642</td>\n",
       "      <td>-0.011595</td>\n",
       "      <td>-0.036656</td>\n",
       "      <td>0.012191</td>\n",
       "      <td>0.024991</td>\n",
       "      <td>-0.036038</td>\n",
       "      <td>0.034309</td>\n",
       "      <td>0.022692</td>\n",
       "      <td>-0.009362</td>\n",
       "      <td>206.0</td>\n",
       "    </tr>\n",
       "    <tr>\n",
       "      <th>4</th>\n",
       "      <td>0.005383</td>\n",
       "      <td>-0.044642</td>\n",
       "      <td>-0.036385</td>\n",
       "      <td>0.021872</td>\n",
       "      <td>0.003935</td>\n",
       "      <td>0.015596</td>\n",
       "      <td>0.008142</td>\n",
       "      <td>-0.002592</td>\n",
       "      <td>-0.031991</td>\n",
       "      <td>-0.046641</td>\n",
       "      <td>135.0</td>\n",
       "    </tr>\n",
       "  </tbody>\n",
       "</table>\n",
       "</div>"
      ],
      "text/plain": [
       "        age       sex       bmi        bp        s1        s2        s3  \\\n",
       "0  0.038076  0.050680  0.061696  0.021872 -0.044223 -0.034821 -0.043401   \n",
       "1 -0.001882 -0.044642 -0.051474 -0.026328 -0.008449 -0.019163  0.074412   \n",
       "2  0.085299  0.050680  0.044451 -0.005671 -0.045599 -0.034194 -0.032356   \n",
       "3 -0.089063 -0.044642 -0.011595 -0.036656  0.012191  0.024991 -0.036038   \n",
       "4  0.005383 -0.044642 -0.036385  0.021872  0.003935  0.015596  0.008142   \n",
       "\n",
       "         s4        s5        s6  target  \n",
       "0 -0.002592  0.019908 -0.017646   151.0  \n",
       "1 -0.039493 -0.068330 -0.092204    75.0  \n",
       "2 -0.002592  0.002864 -0.025930   141.0  \n",
       "3  0.034309  0.022692 -0.009362   206.0  \n",
       "4 -0.002592 -0.031991 -0.046641   135.0  "
      ]
     },
     "execution_count": 55,
     "metadata": {},
     "output_type": "execute_result"
    }
   ],
   "source": [
    "diabetes_df.head()"
   ]
  },
  {
   "cell_type": "code",
   "execution_count": 56,
   "metadata": {},
   "outputs": [
    {
     "data": {
      "text/plain": [
       "0"
      ]
     },
     "execution_count": 56,
     "metadata": {},
     "output_type": "execute_result"
    }
   ],
   "source": [
    "diabetes_df.isnull().sum().sum()"
   ]
  },
  {
   "cell_type": "code",
   "execution_count": 57,
   "metadata": {},
   "outputs": [],
   "source": [
    "X = diabetes_df.drop('target',axis=1).values\n",
    "y = diabetes_df.target.values"
   ]
  },
  {
   "cell_type": "code",
   "execution_count": 58,
   "metadata": {},
   "outputs": [],
   "source": [
    "from sklearn.model_selection import train_test_split"
   ]
  },
  {
   "cell_type": "code",
   "execution_count": 59,
   "metadata": {},
   "outputs": [],
   "source": [
    "X_train, X_test, y_train, y_test = train_test_split(X, y, test_size=0.3, random_state=101)"
   ]
  },
  {
   "cell_type": "code",
   "execution_count": 60,
   "metadata": {},
   "outputs": [],
   "source": [
    "from sklearn.preprocessing import StandardScaler, MinMaxScaler\n",
    "scaler = StandardScaler()\n",
    "minmax = MinMaxScaler()"
   ]
  },
  {
   "cell_type": "code",
   "execution_count": 61,
   "metadata": {},
   "outputs": [],
   "source": [
    "X_train_minmax = minmax.fit_transform(X_train)\n",
    "X_test_minmax = minmax.transform(X_test)"
   ]
  },
  {
   "cell_type": "code",
   "execution_count": 78,
   "metadata": {},
   "outputs": [],
   "source": [
    "from sklearn.svm import SVC, SVR"
   ]
  },
  {
   "cell_type": "code",
   "execution_count": 79,
   "metadata": {},
   "outputs": [],
   "source": [
    "svc = SVC()\n",
    "svr = SVR()"
   ]
  },
  {
   "cell_type": "code",
   "execution_count": 64,
   "metadata": {},
   "outputs": [],
   "source": [
    "from sklearn.model_selection import GridSearchCV\n",
    "from sklearn.metrics import accuracy_score, confusion_matrix, classification_report"
   ]
  },
  {
   "cell_type": "markdown",
   "metadata": {},
   "source": [
    "## for SVC"
   ]
  },
  {
   "cell_type": "code",
   "execution_count": 65,
   "metadata": {},
   "outputs": [],
   "source": [
    "parameters = parameters = {'C':[.001,.01,.1,1,10,100,1000,10000],\n",
    "             'kernel':['linear','rbf'],\n",
    "             'degree':[1,2,3,4],\n",
    "             'gamma':[.001,.01,.1,1,10,100,1000,10000]}"
   ]
  },
  {
   "cell_type": "code",
   "execution_count": 66,
   "metadata": {},
   "outputs": [],
   "source": [
    "grid = GridSearchCV(svc,parameters,cv=5,return_train_score=True,refit=True)"
   ]
  },
  {
   "cell_type": "code",
   "execution_count": 67,
   "metadata": {},
   "outputs": [
    {
     "data": {
      "text/plain": [
       "GridSearchCV(cv=5, error_score='raise-deprecating',\n",
       "             estimator=SVC(C=1.0, cache_size=200, class_weight=None, coef0=0.0,\n",
       "                           decision_function_shape='ovr', degree=3,\n",
       "                           gamma='auto_deprecated', kernel='rbf', max_iter=-1,\n",
       "                           probability=False, random_state=None, shrinking=True,\n",
       "                           tol=0.001, verbose=False),\n",
       "             iid='warn', n_jobs=None,\n",
       "             param_grid={'C': [0.001, 0.01, 0.1, 1, 10, 100, 1000, 10000],\n",
       "                         'degree': [1, 2, 3, 4],\n",
       "                         'gamma': [0.001, 0.01, 0.1, 1, 10, 100, 1000, 10000],\n",
       "                         'kernel': ['linear', 'rbf']},\n",
       "             pre_dispatch='2*n_jobs', refit=True, return_train_score=True,\n",
       "             scoring=None, verbose=0)"
      ]
     },
     "execution_count": 67,
     "metadata": {},
     "output_type": "execute_result"
    }
   ],
   "source": [
    "grid.fit(X_train_minmax,y_train)"
   ]
  },
  {
   "cell_type": "code",
   "execution_count": 68,
   "metadata": {},
   "outputs": [
    {
     "data": {
      "text/plain": [
       "{'C': 1, 'degree': 1, 'gamma': 1, 'kernel': 'rbf'}"
      ]
     },
     "execution_count": 68,
     "metadata": {},
     "output_type": "execute_result"
    }
   ],
   "source": [
    "grid.best_params_"
   ]
  },
  {
   "cell_type": "code",
   "execution_count": 69,
   "metadata": {},
   "outputs": [
    {
     "data": {
      "text/plain": [
       "0.025889967637540454"
      ]
     },
     "execution_count": 69,
     "metadata": {},
     "output_type": "execute_result"
    }
   ],
   "source": [
    "grid.best_score_"
   ]
  },
  {
   "cell_type": "code",
   "execution_count": 71,
   "metadata": {},
   "outputs": [],
   "source": [
    "y_pred_train = grid.predict(X_train_minmax)"
   ]
  },
  {
   "cell_type": "code",
   "execution_count": 72,
   "metadata": {},
   "outputs": [
    {
     "name": "stdout",
     "output_type": "stream",
     "text": [
      "Accuracy_Score:  0.06472491909385113\n",
      "\n",
      "[[0 0 0 ... 0 0 0]\n",
      " [0 0 0 ... 0 0 0]\n",
      " [0 0 0 ... 0 0 0]\n",
      " ...\n",
      " [0 0 0 ... 1 0 0]\n",
      " [0 0 0 ... 0 0 0]\n",
      " [0 0 0 ... 0 0 0]]\n",
      "\n",
      "              precision    recall  f1-score   support\n",
      "\n",
      "        31.0       0.00      0.00      0.00         1\n",
      "        39.0       0.00      0.00      0.00         1\n",
      "        40.0       0.00      0.00      0.00         1\n",
      "        42.0       0.00      0.00      0.00         2\n",
      "        43.0       0.00      0.00      0.00         1\n",
      "        47.0       0.00      0.00      0.00         1\n",
      "        48.0       0.00      0.00      0.00         3\n",
      "        49.0       0.00      0.00      0.00         2\n",
      "        50.0       0.00      0.00      0.00         1\n",
      "        51.0       0.00      0.00      0.00         1\n",
      "        52.0       0.00      0.00      0.00         2\n",
      "        53.0       0.05      0.25      0.08         4\n",
      "        55.0       0.00      0.00      0.00         3\n",
      "        58.0       0.00      0.00      0.00         1\n",
      "        59.0       0.00      0.00      0.00         2\n",
      "        60.0       0.00      0.00      0.00         1\n",
      "        61.0       0.00      0.00      0.00         2\n",
      "        63.0       0.00      0.00      0.00         3\n",
      "        64.0       0.00      0.00      0.00         2\n",
      "        65.0       0.09      0.75      0.17         4\n",
      "        66.0       0.00      0.00      0.00         2\n",
      "        67.0       0.00      0.00      0.00         1\n",
      "        68.0       0.00      0.00      0.00         2\n",
      "        69.0       0.00      0.00      0.00         3\n",
      "        70.0       0.00      0.00      0.00         1\n",
      "        71.0       0.00      0.00      0.00         2\n",
      "        72.0       0.50      0.50      0.50         4\n",
      "        74.0       0.00      0.00      0.00         2\n",
      "        75.0       0.00      0.00      0.00         1\n",
      "        77.0       0.00      0.00      0.00         3\n",
      "        78.0       0.00      0.00      0.00         3\n",
      "        81.0       0.00      0.00      0.00         1\n",
      "        83.0       0.00      0.00      0.00         2\n",
      "        84.0       0.00      0.00      0.00         2\n",
      "        85.0       0.00      0.00      0.00         4\n",
      "        86.0       0.00      0.00      0.00         1\n",
      "        87.0       0.00      0.00      0.00         2\n",
      "        88.0       0.25      0.25      0.25         4\n",
      "        89.0       0.00      0.00      0.00         2\n",
      "        90.0       0.00      0.00      0.00         2\n",
      "        91.0       0.00      0.00      0.00         3\n",
      "        93.0       0.00      0.00      0.00         2\n",
      "        94.0       0.00      0.00      0.00         2\n",
      "        95.0       0.00      0.00      0.00         1\n",
      "        96.0       0.00      0.00      0.00         3\n",
      "        97.0       0.00      0.00      0.00         2\n",
      "        98.0       0.00      0.00      0.00         1\n",
      "        99.0       0.00      0.00      0.00         1\n",
      "       100.0       0.00      0.00      0.00         1\n",
      "       101.0       0.00      0.00      0.00         3\n",
      "       102.0       0.00      0.00      0.00         3\n",
      "       103.0       0.00      0.00      0.00         1\n",
      "       104.0       0.00      0.00      0.00         2\n",
      "       107.0       0.00      0.00      0.00         2\n",
      "       109.0       0.06      0.50      0.10         4\n",
      "       110.0       0.00      0.00      0.00         1\n",
      "       111.0       0.00      0.00      0.00         2\n",
      "       113.0       0.00      0.00      0.00         3\n",
      "       114.0       0.00      0.00      0.00         1\n",
      "       115.0       0.00      0.00      0.00         1\n",
      "       116.0       0.00      0.00      0.00         2\n",
      "       118.0       0.00      0.00      0.00         2\n",
      "       120.0       0.00      0.00      0.00         1\n",
      "       121.0       0.00      0.00      0.00         2\n",
      "       122.0       0.00      0.00      0.00         1\n",
      "       123.0       0.00      0.00      0.00         1\n",
      "       124.0       0.00      0.00      0.00         2\n",
      "       125.0       0.00      0.00      0.00         1\n",
      "       126.0       0.00      0.00      0.00         1\n",
      "       128.0       0.00      0.00      0.00         2\n",
      "       129.0       0.00      0.00      0.00         2\n",
      "       131.0       0.06      0.25      0.10         4\n",
      "       132.0       0.00      0.00      0.00         1\n",
      "       134.0       0.00      0.00      0.00         1\n",
      "       135.0       0.00      0.00      0.00         1\n",
      "       136.0       0.00      0.00      0.00         1\n",
      "       137.0       0.00      0.00      0.00         1\n",
      "       138.0       0.00      0.00      0.00         2\n",
      "       139.0       0.00      0.00      0.00         2\n",
      "       140.0       0.00      0.00      0.00         1\n",
      "       141.0       0.00      0.00      0.00         2\n",
      "       142.0       0.00      0.00      0.00         3\n",
      "       143.0       0.00      0.00      0.00         1\n",
      "       144.0       0.00      0.00      0.00         2\n",
      "       145.0       0.00      0.00      0.00         1\n",
      "       146.0       0.00      0.00      0.00         1\n",
      "       147.0       0.00      0.00      0.00         1\n",
      "       150.0       0.00      0.00      0.00         4\n",
      "       151.0       0.00      0.00      0.00         3\n",
      "       152.0       0.00      0.00      0.00         1\n",
      "       153.0       0.00      0.00      0.00         1\n",
      "       155.0       0.00      0.00      0.00         2\n",
      "       156.0       0.00      0.00      0.00         1\n",
      "       158.0       0.00      0.00      0.00         2\n",
      "       160.0       0.00      0.00      0.00         1\n",
      "       161.0       0.00      0.00      0.00         1\n",
      "       163.0       0.00      0.00      0.00         1\n",
      "       164.0       0.00      0.00      0.00         1\n",
      "       166.0       0.00      0.00      0.00         1\n",
      "       167.0       0.00      0.00      0.00         1\n",
      "       168.0       0.00      0.00      0.00         1\n",
      "       170.0       0.00      0.00      0.00         3\n",
      "       172.0       0.00      0.00      0.00         1\n",
      "       173.0       0.00      0.00      0.00         1\n",
      "       174.0       0.00      0.00      0.00         2\n",
      "       175.0       0.00      0.00      0.00         1\n",
      "       177.0       0.00      0.00      0.00         1\n",
      "       178.0       0.03      0.75      0.06         4\n",
      "       180.0       0.00      0.00      0.00         1\n",
      "       181.0       0.00      0.00      0.00         2\n",
      "       182.0       0.00      0.00      0.00         2\n",
      "       183.0       0.00      0.00      0.00         1\n",
      "       185.0       0.00      0.00      0.00         1\n",
      "       187.0       0.00      0.00      0.00         1\n",
      "       190.0       0.00      0.00      0.00         1\n",
      "       191.0       0.00      0.00      0.00         2\n",
      "       192.0       0.00      0.00      0.00         1\n",
      "       195.0       0.00      0.00      0.00         1\n",
      "       196.0       0.00      0.00      0.00         1\n",
      "       197.0       0.00      0.00      0.00         1\n",
      "       198.0       0.00      0.00      0.00         3\n",
      "       200.0       0.05      1.00      0.10         5\n",
      "       201.0       0.00      0.00      0.00         1\n",
      "       202.0       0.00      0.00      0.00         3\n",
      "       206.0       0.00      0.00      0.00         2\n",
      "       209.0       0.00      0.00      0.00         1\n",
      "       210.0       0.00      0.00      0.00         1\n",
      "       212.0       0.00      0.00      0.00         1\n",
      "       214.0       0.00      0.00      0.00         3\n",
      "       215.0       0.00      0.00      0.00         1\n",
      "       216.0       0.00      0.00      0.00         1\n",
      "       217.0       0.00      0.00      0.00         1\n",
      "       219.0       0.00      0.00      0.00         1\n",
      "       220.0       0.00      0.00      0.00         3\n",
      "       221.0       0.00      0.00      0.00         1\n",
      "       222.0       0.00      0.00      0.00         1\n",
      "       225.0       0.00      0.00      0.00         1\n",
      "       229.0       0.00      0.00      0.00         1\n",
      "       230.0       0.00      0.00      0.00         1\n",
      "       232.0       0.00      0.00      0.00         1\n",
      "       233.0       0.50      0.33      0.40         3\n",
      "       235.0       0.00      0.00      0.00         1\n",
      "       236.0       0.00      0.00      0.00         1\n",
      "       237.0       0.00      0.00      0.00         1\n",
      "       241.0       0.00      0.00      0.00         1\n",
      "       242.0       0.00      0.00      0.00         2\n",
      "       243.0       0.00      0.00      0.00         2\n",
      "       244.0       0.00      0.00      0.00         1\n",
      "       245.0       0.00      0.00      0.00         1\n",
      "       246.0       0.00      0.00      0.00         2\n",
      "       248.0       0.00      0.00      0.00         3\n",
      "       252.0       0.00      0.00      0.00         2\n",
      "       257.0       0.00      0.00      0.00         1\n",
      "       258.0       0.00      0.00      0.00         1\n",
      "       259.0       0.00      0.00      0.00         3\n",
      "       261.0       0.00      0.00      0.00         1\n",
      "       262.0       0.00      0.00      0.00         2\n",
      "       263.0       0.00      0.00      0.00         1\n",
      "       264.0       0.00      0.00      0.00         1\n",
      "       265.0       0.00      0.00      0.00         2\n",
      "       268.0       0.00      0.00      0.00         2\n",
      "       270.0       0.00      0.00      0.00         2\n",
      "       272.0       0.00      0.00      0.00         1\n",
      "       273.0       0.00      0.00      0.00         1\n",
      "       275.0       0.00      0.00      0.00         3\n",
      "       276.0       0.00      0.00      0.00         1\n",
      "       277.0       0.00      0.00      0.00         2\n",
      "       279.0       0.00      0.00      0.00         1\n",
      "       280.0       0.00      0.00      0.00         1\n",
      "       283.0       0.00      0.00      0.00         2\n",
      "       288.0       0.00      0.00      0.00         1\n",
      "       292.0       0.00      0.00      0.00         2\n",
      "       293.0       0.00      0.00      0.00         1\n",
      "       295.0       0.00      0.00      0.00         1\n",
      "       296.0       0.00      0.00      0.00         1\n",
      "       297.0       0.00      0.00      0.00         1\n",
      "       302.0       0.00      0.00      0.00         1\n",
      "       303.0       0.00      0.00      0.00         1\n",
      "       306.0       0.00      0.00      0.00         1\n",
      "       308.0       0.00      0.00      0.00         1\n",
      "       310.0       0.50      0.33      0.40         3\n",
      "       321.0       0.00      0.00      0.00         1\n",
      "       332.0       0.00      0.00      0.00         1\n",
      "\n",
      "    accuracy                           0.06       309\n",
      "   macro avg       0.01      0.03      0.01       309\n",
      "weighted avg       0.02      0.06      0.03       309\n",
      "\n"
     ]
    }
   ],
   "source": [
    "print('Accuracy_Score: ',accuracy_score(y_train,y_pred_train))\n",
    "print()\n",
    "print(confusion_matrix(y_train,y_pred_train))\n",
    "print()\n",
    "print(classification_report(y_train,y_pred_train))"
   ]
  },
  {
   "cell_type": "code",
   "execution_count": 75,
   "metadata": {},
   "outputs": [],
   "source": [
    "y_pred_test = grid.predict(X_test_minmax)"
   ]
  },
  {
   "cell_type": "code",
   "execution_count": 76,
   "metadata": {},
   "outputs": [
    {
     "name": "stdout",
     "output_type": "stream",
     "text": [
      "Accuracy_Score:  0.0\n",
      "\n",
      "[[0 0 0 ... 0 0 0]\n",
      " [0 0 0 ... 0 0 0]\n",
      " [0 0 0 ... 0 0 0]\n",
      " ...\n",
      " [0 0 0 ... 0 0 0]\n",
      " [0 0 0 ... 0 0 0]\n",
      " [0 0 0 ... 0 0 0]]\n",
      "\n",
      "              precision    recall  f1-score   support\n",
      "\n",
      "        25.0       0.00      0.00      0.00       1.0\n",
      "        37.0       0.00      0.00      0.00       1.0\n",
      "        39.0       0.00      0.00      0.00       1.0\n",
      "        42.0       0.00      0.00      0.00       1.0\n",
      "        44.0       0.00      0.00      0.00       1.0\n",
      "        45.0       0.00      0.00      0.00       1.0\n",
      "        47.0       0.00      0.00      0.00       1.0\n",
      "        49.0       0.00      0.00      0.00       1.0\n",
      "        51.0       0.00      0.00      0.00       2.0\n",
      "        52.0       0.00      0.00      0.00       2.0\n",
      "        53.0       0.00      0.00      0.00       0.0\n",
      "        54.0       0.00      0.00      0.00       1.0\n",
      "        55.0       0.00      0.00      0.00       1.0\n",
      "        57.0       0.00      0.00      0.00       1.0\n",
      "        59.0       0.00      0.00      0.00       2.0\n",
      "        60.0       0.00      0.00      0.00       2.0\n",
      "        63.0       0.00      0.00      0.00       1.0\n",
      "        64.0       0.00      0.00      0.00       1.0\n",
      "        65.0       0.00      0.00      0.00       0.0\n",
      "        67.0       0.00      0.00      0.00       1.0\n",
      "        68.0       0.00      0.00      0.00       1.0\n",
      "        70.0       0.00      0.00      0.00       1.0\n",
      "        71.0       0.00      0.00      0.00       3.0\n",
      "        72.0       0.00      0.00      0.00       2.0\n",
      "        73.0       0.00      0.00      0.00       1.0\n",
      "        75.0       0.00      0.00      0.00       1.0\n",
      "        77.0       0.00      0.00      0.00       1.0\n",
      "        79.0       0.00      0.00      0.00       1.0\n",
      "        80.0       0.00      0.00      0.00       1.0\n",
      "        81.0       0.00      0.00      0.00       1.0\n",
      "        83.0       0.00      0.00      0.00       1.0\n",
      "        84.0       0.00      0.00      0.00       2.0\n",
      "        88.0       0.00      0.00      0.00       0.0\n",
      "        90.0       0.00      0.00      0.00       3.0\n",
      "        91.0       0.00      0.00      0.00       1.0\n",
      "        92.0       0.00      0.00      0.00       2.0\n",
      "        94.0       0.00      0.00      0.00       1.0\n",
      "        95.0       0.00      0.00      0.00       1.0\n",
      "        96.0       0.00      0.00      0.00       1.0\n",
      "        97.0       0.00      0.00      0.00       2.0\n",
      "        99.0       0.00      0.00      0.00       1.0\n",
      "       103.0       0.00      0.00      0.00       1.0\n",
      "       104.0       0.00      0.00      0.00       2.0\n",
      "       108.0       0.00      0.00      0.00       1.0\n",
      "       109.0       0.00      0.00      0.00       0.0\n",
      "       110.0       0.00      0.00      0.00       1.0\n",
      "       111.0       0.00      0.00      0.00       1.0\n",
      "       115.0       0.00      0.00      0.00       1.0\n",
      "       118.0       0.00      0.00      0.00       1.0\n",
      "       122.0       0.00      0.00      0.00       1.0\n",
      "       127.0       0.00      0.00      0.00       2.0\n",
      "       128.0       0.00      0.00      0.00       2.0\n",
      "       129.0       0.00      0.00      0.00       1.0\n",
      "       131.0       0.00      0.00      0.00       0.0\n",
      "       132.0       0.00      0.00      0.00       1.0\n",
      "       134.0       0.00      0.00      0.00       1.0\n",
      "       135.0       0.00      0.00      0.00       1.0\n",
      "       137.0       0.00      0.00      0.00       1.0\n",
      "       140.0       0.00      0.00      0.00       1.0\n",
      "       141.0       0.00      0.00      0.00       1.0\n",
      "       142.0       0.00      0.00      0.00       1.0\n",
      "       143.0       0.00      0.00      0.00       1.0\n",
      "       144.0       0.00      0.00      0.00       2.0\n",
      "       148.0       0.00      0.00      0.00       1.0\n",
      "       152.0       0.00      0.00      0.00       1.0\n",
      "       154.0       0.00      0.00      0.00       1.0\n",
      "       160.0       0.00      0.00      0.00       1.0\n",
      "       162.0       0.00      0.00      0.00       1.0\n",
      "       163.0       0.00      0.00      0.00       1.0\n",
      "       164.0       0.00      0.00      0.00       1.0\n",
      "       168.0       0.00      0.00      0.00       2.0\n",
      "       171.0       0.00      0.00      0.00       1.0\n",
      "       172.0       0.00      0.00      0.00       1.0\n",
      "       173.0       0.00      0.00      0.00       1.0\n",
      "       178.0       0.00      0.00      0.00       1.0\n",
      "       179.0       0.00      0.00      0.00       2.0\n",
      "       180.0       0.00      0.00      0.00       1.0\n",
      "       182.0       0.00      0.00      0.00       1.0\n",
      "       184.0       0.00      0.00      0.00       1.0\n",
      "       185.0       0.00      0.00      0.00       2.0\n",
      "       186.0       0.00      0.00      0.00       1.0\n",
      "       189.0       0.00      0.00      0.00       1.0\n",
      "       190.0       0.00      0.00      0.00       1.0\n",
      "       196.0       0.00      0.00      0.00       1.0\n",
      "       197.0       0.00      0.00      0.00       1.0\n",
      "       199.0       0.00      0.00      0.00       1.0\n",
      "       200.0       0.00      0.00      0.00       1.0\n",
      "       202.0       0.00      0.00      0.00       1.0\n",
      "       208.0       0.00      0.00      0.00       1.0\n",
      "       217.0       0.00      0.00      0.00       1.0\n",
      "       219.0       0.00      0.00      0.00       1.0\n",
      "       220.0       0.00      0.00      0.00       1.0\n",
      "       225.0       0.00      0.00      0.00       1.0\n",
      "       230.0       0.00      0.00      0.00       1.0\n",
      "       232.0       0.00      0.00      0.00       1.0\n",
      "       235.0       0.00      0.00      0.00       1.0\n",
      "       237.0       0.00      0.00      0.00       1.0\n",
      "       242.0       0.00      0.00      0.00       1.0\n",
      "       245.0       0.00      0.00      0.00       1.0\n",
      "       248.0       0.00      0.00      0.00       0.0\n",
      "       249.0       0.00      0.00      0.00       1.0\n",
      "       252.0       0.00      0.00      0.00       1.0\n",
      "       253.0       0.00      0.00      0.00       1.0\n",
      "       257.0       0.00      0.00      0.00       1.0\n",
      "       258.0       0.00      0.00      0.00       2.0\n",
      "       263.0       0.00      0.00      0.00       1.0\n",
      "       265.0       0.00      0.00      0.00       1.0\n",
      "       272.0       0.00      0.00      0.00       1.0\n",
      "       274.0       0.00      0.00      0.00       1.0\n",
      "       275.0       0.00      0.00      0.00       1.0\n",
      "       281.0       0.00      0.00      0.00       4.0\n",
      "       311.0       0.00      0.00      0.00       1.0\n",
      "       317.0       0.00      0.00      0.00       1.0\n",
      "       336.0       0.00      0.00      0.00       1.0\n",
      "       341.0       0.00      0.00      0.00       1.0\n",
      "       346.0       0.00      0.00      0.00       1.0\n",
      "\n",
      "    accuracy                           0.00     133.0\n",
      "   macro avg       0.00      0.00      0.00     133.0\n",
      "weighted avg       0.00      0.00      0.00     133.0\n",
      "\n"
     ]
    }
   ],
   "source": [
    "print('Accuracy_Score: ',accuracy_score(y_test,y_pred_test))\n",
    "print()\n",
    "print(confusion_matrix(y_test,y_pred_test))\n",
    "print()\n",
    "print(classification_report(y_test,y_pred_test))"
   ]
  },
  {
   "cell_type": "markdown",
   "metadata": {},
   "source": [
    "## for SVR"
   ]
  },
  {
   "cell_type": "code",
   "execution_count": 91,
   "metadata": {},
   "outputs": [],
   "source": [
    "parameters = parameters = {'C':[.001,.01,.1,1,10,100,1000,10000],\n",
    "             'kernel':['linear','rbf'],\n",
    "             'degree':[1,2,3,4],\n",
    "             'gamma':[.001,.01,.1,1,10,100,1000,10000]}"
   ]
  },
  {
   "cell_type": "code",
   "execution_count": 92,
   "metadata": {},
   "outputs": [],
   "source": [
    "grid = GridSearchCV(svr,parameters,cv=5,return_train_score=True,refit=True)"
   ]
  },
  {
   "cell_type": "code",
   "execution_count": 94,
   "metadata": {},
   "outputs": [
    {
     "data": {
      "text/plain": [
       "GridSearchCV(cv=5, error_score='raise-deprecating',\n",
       "             estimator=SVR(C=1.0, cache_size=200, coef0=0.0, degree=3,\n",
       "                           epsilon=0.1, gamma='auto_deprecated', kernel='rbf',\n",
       "                           max_iter=-1, shrinking=True, tol=0.001,\n",
       "                           verbose=False),\n",
       "             iid='warn', n_jobs=None,\n",
       "             param_grid={'C': [0.001, 0.01, 0.1, 1, 10, 100, 1000, 10000],\n",
       "                         'degree': [1, 2, 3, 4],\n",
       "                         'gamma': [0.001, 0.01, 0.1, 1, 10, 100, 1000, 10000],\n",
       "                         'kernel': ['linear', 'rbf']},\n",
       "             pre_dispatch='2*n_jobs', refit=True, return_train_score=True,\n",
       "             scoring=None, verbose=0)"
      ]
     },
     "execution_count": 94,
     "metadata": {},
     "output_type": "execute_result"
    }
   ],
   "source": [
    "grid.fit(X_train_minmax,y_train)"
   ]
  },
  {
   "cell_type": "code",
   "execution_count": 95,
   "metadata": {},
   "outputs": [
    {
     "data": {
      "text/plain": [
       "{'C': 1000, 'degree': 1, 'gamma': 0.1, 'kernel': 'rbf'}"
      ]
     },
     "execution_count": 95,
     "metadata": {},
     "output_type": "execute_result"
    }
   ],
   "source": [
    "grid.best_params_"
   ]
  },
  {
   "cell_type": "code",
   "execution_count": 96,
   "metadata": {},
   "outputs": [
    {
     "data": {
      "text/plain": [
       "0.4830982640658916"
      ]
     },
     "execution_count": 96,
     "metadata": {},
     "output_type": "execute_result"
    }
   ],
   "source": [
    "grid.best_score_"
   ]
  },
  {
   "cell_type": "code",
   "execution_count": 97,
   "metadata": {},
   "outputs": [],
   "source": [
    "y_pred_train = grid.predict(X_train_minmax)"
   ]
  },
  {
   "cell_type": "code",
   "execution_count": 103,
   "metadata": {},
   "outputs": [],
   "source": [
    "from sklearn.metrics import r2_score"
   ]
  },
  {
   "cell_type": "code",
   "execution_count": 104,
   "metadata": {},
   "outputs": [
    {
     "data": {
      "text/plain": [
       "0.5605388106002038"
      ]
     },
     "execution_count": 104,
     "metadata": {},
     "output_type": "execute_result"
    }
   ],
   "source": [
    "r2_score(y_train,y_pred_train)"
   ]
  },
  {
   "cell_type": "code",
   "execution_count": 105,
   "metadata": {},
   "outputs": [],
   "source": [
    "y_pred_test = grid.predict(X_test_minmax)"
   ]
  },
  {
   "cell_type": "code",
   "execution_count": 106,
   "metadata": {},
   "outputs": [
    {
     "data": {
      "text/plain": [
       "0.48137108558759534"
      ]
     },
     "execution_count": 106,
     "metadata": {},
     "output_type": "execute_result"
    }
   ],
   "source": [
    "r2_score(y_test,y_pred_test)"
   ]
  },
  {
   "cell_type": "code",
   "execution_count": 107,
   "metadata": {},
   "outputs": [
    {
     "data": {
      "text/plain": [
       "<matplotlib.axes._subplots.AxesSubplot at 0x1613733dfd0>"
      ]
     },
     "execution_count": 107,
     "metadata": {},
     "output_type": "execute_result"
    },
    {
     "data": {
      "image/png": "[encoded data removed]",
      "text/plain": [
       "<Figure size 432x288 with 1 Axes>"
      ]
     },
     "metadata": {},
     "output_type": "display_data"
    }
   ],
   "source": [
    "sns.regplot(y_test,y_pred_test)"
   ]
  },
  {
   "cell_type": "markdown",
   "metadata": {},
   "source": [
    "## Linear Regression Model"
   ]
  },
  {
   "cell_type": "code",
   "execution_count": 110,
   "metadata": {},
   "outputs": [],
   "source": [
    "from sklearn.linear_model import LinearRegression\n",
    "lm = LinearRegression()"
   ]
  },
  {
   "cell_type": "code",
   "execution_count": 111,
   "metadata": {},
   "outputs": [
    {
     "data": {
      "text/plain": [
       "LinearRegression(copy_X=True, fit_intercept=True, n_jobs=None, normalize=False)"
      ]
     },
     "execution_count": 111,
     "metadata": {},
     "output_type": "execute_result"
    }
   ],
   "source": [
    "lm.fit(X_train_minmax,y_train)"
   ]
  },
  {
   "cell_type": "code",
   "execution_count": 114,
   "metadata": {},
   "outputs": [],
   "source": [
    "y_pred_train_lm = lm.predict(X_train_minmax)"
   ]
  },
  {
   "cell_type": "code",
   "execution_count": 115,
   "metadata": {},
   "outputs": [
    {
     "data": {
      "text/plain": [
       "0.5341751875813194"
      ]
     },
     "execution_count": 115,
     "metadata": {},
     "output_type": "execute_result"
    }
   ],
   "source": [
    "r2_score(y_train,y_pred_train_lm)"
   ]
  },
  {
   "cell_type": "code",
   "execution_count": 116,
   "metadata": {},
   "outputs": [],
   "source": [
    "y_pred_test_lm = lm.predict(X_test_minmax)"
   ]
  },
  {
   "cell_type": "code",
   "execution_count": 117,
   "metadata": {},
   "outputs": [
    {
     "data": {
      "text/plain": [
       "0.4576767417719556"
      ]
     },
     "execution_count": 117,
     "metadata": {},
     "output_type": "execute_result"
    }
   ],
   "source": [
    "r2_score(y_test,y_pred_test_lm)"
   ]
  },
  {
   "cell_type": "markdown",
   "metadata": {},
   "source": [
    "## KNN model"
   ]
  },
  {
   "cell_type": "code",
   "execution_count": 131,
   "metadata": {},
   "outputs": [],
   "source": [
    "from sklearn.neighbors import KNeighborsRegressor\n",
    "knn = KNeighborsRegressor(n_neighbors = 7) # n_neighbors = 15"
   ]
  },
  {
   "cell_type": "code",
   "execution_count": 132,
   "metadata": {},
   "outputs": [],
   "source": [
    "X_train, X_test, y_train, y_test = train_test_split(X, y, test_size=0.3, random_state=101)"
   ]
  },
  {
   "cell_type": "code",
   "execution_count": 133,
   "metadata": {},
   "outputs": [],
   "source": [
    "X_train_minmax = minmax.fit_transform(X_train)\n",
    "X_test_minmax = minmax.transform(X_test)"
   ]
  },
  {
   "cell_type": "code",
   "execution_count": 134,
   "metadata": {},
   "outputs": [
    {
     "data": {
      "text/plain": [
       "KNeighborsRegressor(algorithm='auto', leaf_size=30, metric='minkowski',\n",
       "                    metric_params=None, n_jobs=None, n_neighbors=7, p=2,\n",
       "                    weights='uniform')"
      ]
     },
     "execution_count": 134,
     "metadata": {},
     "output_type": "execute_result"
    }
   ],
   "source": [
    "knn.fit(X_train_minmax,y_train)"
   ]
  },
  {
   "cell_type": "code",
   "execution_count": 135,
   "metadata": {},
   "outputs": [],
   "source": [
    "y_pred_knn_train = knn.predict(X_train_minmax)"
   ]
  },
  {
   "cell_type": "code",
   "execution_count": 136,
   "metadata": {},
   "outputs": [
    {
     "data": {
      "text/plain": [
       "0.559567992787456"
      ]
     },
     "execution_count": 136,
     "metadata": {},
     "output_type": "execute_result"
    }
   ],
   "source": [
    "r2_score(y_train,y_pred_knn_train)"
   ]
  },
  {
   "cell_type": "code",
   "execution_count": 137,
   "metadata": {},
   "outputs": [],
   "source": [
    "y_pred_knn_test = knn.predict(X_test_minmax)"
   ]
  },
  {
   "cell_type": "code",
   "execution_count": 138,
   "metadata": {},
   "outputs": [
    {
     "data": {
      "text/plain": [
       "0.4774485652013668"
      ]
     },
     "execution_count": 138,
     "metadata": {},
     "output_type": "execute_result"
    }
   ],
   "source": [
    "r2_score(y_test,y_pred_knn_test)"
   ]
  },
  {
   "cell_type": "code",
   "execution_count": null,
   "metadata": {},
   "outputs": [],
   "source": []
  }
 ],
 "metadata": {
  "kernelspec": {
   "display_name": "Python 3",
   "language": "python",
   "name": "python3"
  },
  "language_info": {
   "codemirror_mode": {
    "name": "ipython",
    "version": 3
   },
   "file_extension": ".py",
   "mimetype": "text/x-python",
   "name": "python",
   "nbconvert_exporter": "python",
   "pygments_lexer": "ipython3",
   "version": "3.7.3"
  }
 },
 "nbformat": 4,
 "nbformat_minor": 2
}
