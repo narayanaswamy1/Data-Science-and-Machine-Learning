{
 "cells": [
  {
   "cell_type": "code",
   "execution_count": 12,
   "metadata": {},
   "outputs": [
    {
     "name": "stdout",
     "output_type": "stream",
     "text": [
      "1.hi this is data science class and this is may first program\n",
      "2.hi this is data science class and this is may first program\n",
      "3.hi this is data science class and this is may first program\n",
      "4.hi this is data science class and this is may first program\n",
      "5.hi this is data science class and this is may first program\n"
     ]
    },
    {
     "data": {
      "text/plain": [
       "'1.hi this is data science class and this is may first program\\n2.hi this is data science class and this is may first program\\n3.hi this is data science class and this is may first program\\n4.hi this is data science class and this is may first program\\n5.hi this is data science class and this is may first program'"
      ]
     },
     "execution_count": 12,
     "metadata": {},
     "output_type": "execute_result"
    }
   ],
   "source": [
    "file1 = open('new file1.txt','r')\n",
    "print(file1.read())\n",
    "file1.seek(0)\n",
    "file1.read()\n",
    "#file1.close()"
   ]
  },
  {
   "cell_type": "code",
   "execution_count": 19,
   "metadata": {},
   "outputs": [
    {
     "name": "stdout",
     "output_type": "stream",
     "text": [
      "1.hi this is data science class and this is may first program\n",
      "\n"
     ]
    }
   ],
   "source": [
    "file2 = open('new file1.txt','r')\n",
    "print(file2.readline())\n"
   ]
  },
  {
   "cell_type": "code",
   "execution_count": 20,
   "metadata": {},
   "outputs": [
    {
     "name": "stdout",
     "output_type": "stream",
     "text": [
      "2.hi this is data science class and this is may first program\n",
      "\n"
     ]
    }
   ],
   "source": [
    "print(file2.readline())"
   ]
  },
  {
   "cell_type": "code",
   "execution_count": 22,
   "metadata": {},
   "outputs": [
    {
     "name": "stdout",
     "output_type": "stream",
     "text": [
      "['3.hi this is data science class and this is may first program\\n', '4.hi this is data science class and this is may first program\\n', '5.hi this is data science class and this is may first program']\n"
     ]
    }
   ],
   "source": [
    "print(file2.readlines())"
   ]
  },
  {
   "cell_type": "code",
   "execution_count": 23,
   "metadata": {},
   "outputs": [],
   "source": [
    "file4 = open('new text1', 'w')\n",
    "file4.write('hi this is Narayana Swamy')\n",
    "file4.close()"
   ]
  },
  {
   "cell_type": "code",
   "execution_count": 26,
   "metadata": {},
   "outputs": [],
   "source": [
    "file4 = open('new file1.txt','w')\n",
    "file4.writelines('hello world')\n",
    "file4.close()"
   ]
  },
  {
   "cell_type": "code",
   "execution_count": 36,
   "metadata": {},
   "outputs": [],
   "source": [
    "file4 = open('new text1', 'a')\n",
    "file4.write('\\nHello World')\n",
    "file4.close()"
   ]
  },
  {
   "cell_type": "code",
   "execution_count": 37,
   "metadata": {},
   "outputs": [
    {
     "data": {
      "text/plain": [
       "True"
      ]
     },
     "execution_count": 37,
     "metadata": {},
     "output_type": "execute_result"
    }
   ],
   "source": [
    "file4.closed"
   ]
  },
  {
   "cell_type": "code",
   "execution_count": 45,
   "metadata": {},
   "outputs": [
    {
     "name": "stdout",
     "output_type": "stream",
     "text": [
      "hello worldhello world\n",
      "hello,worldhello,world\n"
     ]
    }
   ],
   "source": [
    "f = open('new file1.txt', 'r+')\n",
    "txt1 = f.read()\n",
    "print(txt1)\n",
    "txt2 = txt1.replace(' ', ',')\n",
    "print(txt2)\n",
    "f.write(txt2)\n",
    "f.close()"
   ]
  },
  {
   "cell_type": "code",
   "execution_count": 70,
   "metadata": {},
   "outputs": [
    {
     "name": "stdout",
     "output_type": "stream",
     "text": [
      "['1.hi this is data science class and this is my first program\\n', '2.hi this is data science class and this is my first program\\n', '3.hi this is data science class and this is my first program\\n', '4.hi this is data science class and this is my first program\\n', '5.hi this is data science class and this is my first program']\n",
      "3.hi this is data science class and this is my first program\n",
      "\n",
      "3.HI THIS IS DATA SCIENCE CLASS AND THIS IS MY FIRST PROGRAM\n",
      "\n"
     ]
    }
   ],
   "source": [
    "f1 = open('new file3.txt', 'r+')\n",
    "t1 = f1.readlines()\n",
    "print(t1)\n",
    "t2 = t1[2]\n",
    "print(t2)\n",
    "t3 = t2.replace(t2,t2.upper())\n",
    "print(t3)\n",
    "t1[2] = t3"
   ]
  },
  {
   "cell_type": "code",
   "execution_count": 96,
   "metadata": {},
   "outputs": [
    {
     "name": "stdout",
     "output_type": "stream",
     "text": [
      "1.hi this is data science class and this is may first program\n",
      "\n",
      "2.hi this is data science class and this is may first program\n",
      "\n",
      "3.HI THIS IS DATA SCIENCE CLASS AND THIS IS MAY FIRST PROGRAM\n",
      "\n",
      "4.hi this is data science class and this is may first program\n",
      "\n",
      "5.hi this is data science class and this is may first program\n",
      "\n",
      "\n"
     ]
    }
   ],
   "source": [
    "f2 = open('new file4.txt', 'r+')\n",
    "n1 = f2.readlines()\n",
    "for i in range(len(n1)):\n",
    "    if i == 2:\n",
    "        n1[2] = n1[2].upper()\n",
    "    print(n1[i])\n",
    "print()\n",
    "f2.seek(0)\n",
    "f2.write(str(n1))\n",
    "f2.close()"
   ]
  },
  {
   "cell_type": "code",
   "execution_count": 102,
   "metadata": {},
   "outputs": [
    {
     "name": "stdout",
     "output_type": "stream",
     "text": [
      "i am \t Data Scientist\n",
      " and Engineer\n",
      " in Test Yantra\n"
     ]
    }
   ],
   "source": [
    "s = 'i am \\t Data Scientist\\n and Engineer\\n in Test Yantra'\n",
    "print(s.strip())"
   ]
  },
  {
   "cell_type": "code",
   "execution_count": 186,
   "metadata": {},
   "outputs": [
    {
     "name": "stdout",
     "output_type": "stream",
     "text": [
      "4\n",
      "4\n",
      "\n",
      "7\n",
      "7\n",
      "\n",
      "8\n",
      "8\n",
      "\n",
      "15\n",
      "15\n",
      "\n"
     ]
    }
   ],
   "source": [
    "f = open('add.txt','r+')\n",
    "t = f.readlines()\n",
    "t\n",
    "f.seek(0)\n",
    "for i in t:\n",
    "    i = i.strip()\n",
    "#     print(i)\n",
    "    i = i.split(',')\n",
    "#     print(i)\n",
    "#     print(type(i))\n",
    "    sum = 0\n",
    "    f.write(' ')\n",
    "#     f.seek(0)\n",
    "    for j in i:\n",
    "#         print(int(j))\n",
    "        sum = sum + int(j)\n",
    "    print(sum)\n",
    "    s=str(sum)+'\\n'\n",
    "    print(s)\n",
    "    f.write(s)\n",
    "f.close()"
   ]
  },
  {
   "cell_type": "code",
   "execution_count": null,
   "metadata": {},
   "outputs": [],
   "source": []
  },
  {
   "cell_type": "code",
   "execution_count": null,
   "metadata": {},
   "outputs": [],
   "source": []
  }
 ],
 "metadata": {
  "kernelspec": {
   "display_name": "Python 3",
   "language": "python",
   "name": "python3"
  },
  "language_info": {
   "codemirror_mode": {
    "name": "ipython",
    "version": 3
   },
   "file_extension": ".py",
   "mimetype": "text/x-python",
   "name": "python",
   "nbconvert_exporter": "python",
   "pygments_lexer": "ipython3",
   "version": "3.7.3"
  }
 },
 "nbformat": 4,
 "nbformat_minor": 2
}
