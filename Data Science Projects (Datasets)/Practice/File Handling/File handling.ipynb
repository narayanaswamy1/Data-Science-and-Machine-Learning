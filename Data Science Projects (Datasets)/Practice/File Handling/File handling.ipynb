{
 "cells": [
  {
   "cell_type": "code",
   "execution_count": 8,
   "metadata": {},
   "outputs": [
    {
     "name": "stdout",
     "output_type": "stream",
     "text": [
      "['1,2\\n', '3,4\\n', '5,6\\n', '7,8']\n",
      "1,2\n",
      "['1', '2']\n",
      "3,4\n",
      "['3', '4']\n",
      "5,6\n",
      "['5', '6']\n",
      "7,8\n",
      "['7', '8']\n"
     ]
    }
   ],
   "source": [
    "f = open('add.txt','r+')\n",
    "t = f.readlines()\n",
    "print(t)\n",
    "f.seek(0)\n",
    "for i in t:\n",
    "    i = i.strip()\n",
    "    print(i)\n",
    "    i = i.split(',')\n",
    "    print(i)\n",
    "#     print(type(i))\n",
    "    sum = 0\n",
    "    f.write(' ')\n",
    "#     f.seek(0)\n",
    "    for j in i:\n",
    "#         print(int(j))\n",
    "        sum = sum + int(j)\n",
    "#    print(sum)\n",
    "    s=str(sum)+'\\n'\n",
    "#    print(s)\n",
    "    f.write(s)\n",
    "f.close()"
   ]
  },
  {
   "cell_type": "code",
   "execution_count": null,
   "metadata": {},
   "outputs": [],
   "source": []
  }
 ],
 "metadata": {
  "kernelspec": {
   "display_name": "Python 3",
   "language": "python",
   "name": "python3"
  },
  "language_info": {
   "codemirror_mode": {
    "name": "ipython",
    "version": 3
   },
   "file_extension": ".py",
   "mimetype": "text/x-python",
   "name": "python",
   "nbconvert_exporter": "python",
   "pygments_lexer": "ipython3",
   "version": "3.7.3"
  }
 },
 "nbformat": 4,
 "nbformat_minor": 2
}
