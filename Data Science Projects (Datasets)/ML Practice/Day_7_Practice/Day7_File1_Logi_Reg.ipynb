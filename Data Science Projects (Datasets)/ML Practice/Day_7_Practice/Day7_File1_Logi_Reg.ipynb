{
 "cells": [
  {
   "cell_type": "code",
   "execution_count": 683,
   "metadata": {},
   "outputs": [],
   "source": [
    "import warnings\n",
    "warnings.filterwarnings('ignore')"
   ]
  },
  {
   "cell_type": "code",
   "execution_count": 684,
   "metadata": {},
   "outputs": [],
   "source": [
    "import numpy as np\n",
    "import pandas as pd\n",
    "import seaborn as sns\n",
    "import matplotlib.pyplot as plt\n",
    "%matplotlib inline"
   ]
  },
  {
   "cell_type": "code",
   "execution_count": 685,
   "metadata": {},
   "outputs": [],
   "source": [
    "from sklearn.datasets import load_breast_cancer"
   ]
  },
  {
   "cell_type": "code",
   "execution_count": 686,
   "metadata": {},
   "outputs": [],
   "source": [
    "cancer = load_breast_cancer()"
   ]
  },
  {
   "cell_type": "code",
   "execution_count": 687,
   "metadata": {},
   "outputs": [
    {
     "data": {
      "text/plain": [
       "array([[1.799e+01, 1.038e+01, 1.228e+02, ..., 2.654e-01, 4.601e-01,\n",
       "        1.189e-01],\n",
       "       [2.057e+01, 1.777e+01, 1.329e+02, ..., 1.860e-01, 2.750e-01,\n",
       "        8.902e-02],\n",
       "       [1.969e+01, 2.125e+01, 1.300e+02, ..., 2.430e-01, 3.613e-01,\n",
       "        8.758e-02],\n",
       "       ...,\n",
       "       [1.660e+01, 2.808e+01, 1.083e+02, ..., 1.418e-01, 2.218e-01,\n",
       "        7.820e-02],\n",
       "       [2.060e+01, 2.933e+01, 1.401e+02, ..., 2.650e-01, 4.087e-01,\n",
       "        1.240e-01],\n",
       "       [7.760e+00, 2.454e+01, 4.792e+01, ..., 0.000e+00, 2.871e-01,\n",
       "        7.039e-02]])"
      ]
     },
     "execution_count": 687,
     "metadata": {},
     "output_type": "execute_result"
    }
   ],
   "source": [
    "cancer.data"
   ]
  },
  {
   "cell_type": "code",
   "execution_count": 688,
   "metadata": {},
   "outputs": [
    {
     "name": "stdout",
     "output_type": "stream",
     "text": [
      ".. _breast_cancer_dataset:\n",
      "\n",
      "Breast cancer wisconsin (diagnostic) dataset\n",
      "--------------------------------------------\n",
      "\n",
      "**Data Set Characteristics:**\n",
      "\n",
      "    :Number of Instances: 569\n",
      "\n",
      "    :Number of Attributes: 30 numeric, predictive attributes and the class\n",
      "\n",
      "    :Attribute Information:\n",
      "        - radius (mean of distances from center to points on the perimeter)\n",
      "        - texture (standard deviation of gray-scale values)\n",
      "        - perimeter\n",
      "        - area\n",
      "        - smoothness (local variation in radius lengths)\n",
      "        - compactness (perimeter^2 / area - 1.0)\n",
      "        - concavity (severity of concave portions of the contour)\n",
      "        - concave points (number of concave portions of the contour)\n",
      "        - symmetry \n",
      "        - fractal dimension (\"coastline approximation\" - 1)\n",
      "\n",
      "        The mean, standard error, and \"worst\" or largest (mean of the three\n",
      "        largest values) of these features were computed for each image,\n",
      "        resulting in 30 features.  For instance, field 3 is Mean Radius, field\n",
      "        13 is Radius SE, field 23 is Worst Radius.\n",
      "\n",
      "        - class:\n",
      "                - WDBC-Malignant\n",
      "                - WDBC-Benign\n",
      "\n",
      "    :Summary Statistics:\n",
      "\n",
      "    ===================================== ====== ======\n",
      "                                           Min    Max\n",
      "    ===================================== ====== ======\n",
      "    radius (mean):                        6.981  28.11\n",
      "    texture (mean):                       9.71   39.28\n",
      "    perimeter (mean):                     43.79  188.5\n",
      "    area (mean):                          143.5  2501.0\n",
      "    smoothness (mean):                    0.053  0.163\n",
      "    compactness (mean):                   0.019  0.345\n",
      "    concavity (mean):                     0.0    0.427\n",
      "    concave points (mean):                0.0    0.201\n",
      "    symmetry (mean):                      0.106  0.304\n",
      "    fractal dimension (mean):             0.05   0.097\n",
      "    radius (standard error):              0.112  2.873\n",
      "    texture (standard error):             0.36   4.885\n",
      "    perimeter (standard error):           0.757  21.98\n",
      "    area (standard error):                6.802  542.2\n",
      "    smoothness (standard error):          0.002  0.031\n",
      "    compactness (standard error):         0.002  0.135\n",
      "    concavity (standard error):           0.0    0.396\n",
      "    concave points (standard error):      0.0    0.053\n",
      "    symmetry (standard error):            0.008  0.079\n",
      "    fractal dimension (standard error):   0.001  0.03\n",
      "    radius (worst):                       7.93   36.04\n",
      "    texture (worst):                      12.02  49.54\n",
      "    perimeter (worst):                    50.41  251.2\n",
      "    area (worst):                         185.2  4254.0\n",
      "    smoothness (worst):                   0.071  0.223\n",
      "    compactness (worst):                  0.027  1.058\n",
      "    concavity (worst):                    0.0    1.252\n",
      "    concave points (worst):               0.0    0.291\n",
      "    symmetry (worst):                     0.156  0.664\n",
      "    fractal dimension (worst):            0.055  0.208\n",
      "    ===================================== ====== ======\n",
      "\n",
      "    :Missing Attribute Values: None\n",
      "\n",
      "    :Class Distribution: 212 - Malignant, 357 - Benign\n",
      "\n",
      "    :Creator:  Dr. William H. Wolberg, W. Nick Street, Olvi L. Mangasarian\n",
      "\n",
      "    :Donor: Nick Street\n",
      "\n",
      "    :Date: November, 1995\n",
      "\n",
      "This is a copy of UCI ML Breast Cancer Wisconsin (Diagnostic) datasets.\n",
      "https://goo.gl/U2Uwz2\n",
      "\n",
      "Features are computed from a digitized image of a fine needle\n",
      "aspirate (FNA) of a breast mass.  They describe\n",
      "characteristics of the cell nuclei present in the image.\n",
      "\n",
      "Separating plane described above was obtained using\n",
      "Multisurface Method-Tree (MSM-T) [K. P. Bennett, \"Decision Tree\n",
      "Construction Via Linear Programming.\" Proceedings of the 4th\n",
      "Midwest Artificial Intelligence and Cognitive Science Society,\n",
      "pp. 97-101, 1992], a classification method which uses linear\n",
      "programming to construct a decision tree.  Relevant features\n",
      "were selected using an exhaustive search in the space of 1-4\n",
      "features and 1-3 separating planes.\n",
      "\n",
      "The actual linear program used to obtain the separating plane\n",
      "in the 3-dimensional space is that described in:\n",
      "[K. P. Bennett and O. L. Mangasarian: \"Robust Linear\n",
      "Programming Discrimination of Two Linearly Inseparable Sets\",\n",
      "Optimization Methods and Software 1, 1992, 23-34].\n",
      "\n",
      "This database is also available through the UW CS ftp server:\n",
      "\n",
      "ftp ftp.cs.wisc.edu\n",
      "cd math-prog/cpo-dataset/machine-learn/WDBC/\n",
      "\n",
      ".. topic:: References\n",
      "\n",
      "   - W.N. Street, W.H. Wolberg and O.L. Mangasarian. Nuclear feature extraction \n",
      "     for breast tumor diagnosis. IS&T/SPIE 1993 International Symposium on \n",
      "     Electronic Imaging: Science and Technology, volume 1905, pages 861-870,\n",
      "     San Jose, CA, 1993.\n",
      "   - O.L. Mangasarian, W.N. Street and W.H. Wolberg. Breast cancer diagnosis and \n",
      "     prognosis via linear programming. Operations Research, 43(4), pages 570-577, \n",
      "     July-August 1995.\n",
      "   - W.H. Wolberg, W.N. Street, and O.L. Mangasarian. Machine learning techniques\n",
      "     to diagnose breast cancer from fine-needle aspirates. Cancer Letters 77 (1994) \n",
      "     163-171.\n"
     ]
    }
   ],
   "source": [
    "print(cancer.DESCR)"
   ]
  },
  {
   "cell_type": "code",
   "execution_count": 689,
   "metadata": {},
   "outputs": [
    {
     "data": {
      "text/plain": [
       "array(['malignant', 'benign'], dtype='<U9')"
      ]
     },
     "execution_count": 689,
     "metadata": {},
     "output_type": "execute_result"
    }
   ],
   "source": [
    "cancer.target_names"
   ]
  },
  {
   "cell_type": "code",
   "execution_count": 690,
   "metadata": {},
   "outputs": [],
   "source": [
    "cancer_df = pd.DataFrame(cancer.data)"
   ]
  },
  {
   "cell_type": "code",
   "execution_count": 691,
   "metadata": {},
   "outputs": [
    {
     "data": {
      "text/html": [
       "<div>\n",
       "<style scoped>\n",
       "    .dataframe tbody tr th:only-of-type {\n",
       "        vertical-align: middle;\n",
       "    }\n",
       "\n",
       "    .dataframe tbody tr th {\n",
       "        vertical-align: top;\n",
       "    }\n",
       "\n",
       "    .dataframe thead th {\n",
       "        text-align: right;\n",
       "    }\n",
       "</style>\n",
       "<table border=\"1\" class=\"dataframe\">\n",
       "  <thead>\n",
       "    <tr style=\"text-align: right;\">\n",
       "      <th></th>\n",
       "      <th>0</th>\n",
       "      <th>1</th>\n",
       "      <th>2</th>\n",
       "      <th>3</th>\n",
       "      <th>4</th>\n",
       "      <th>5</th>\n",
       "      <th>6</th>\n",
       "      <th>7</th>\n",
       "      <th>8</th>\n",
       "      <th>9</th>\n",
       "      <th>...</th>\n",
       "      <th>20</th>\n",
       "      <th>21</th>\n",
       "      <th>22</th>\n",
       "      <th>23</th>\n",
       "      <th>24</th>\n",
       "      <th>25</th>\n",
       "      <th>26</th>\n",
       "      <th>27</th>\n",
       "      <th>28</th>\n",
       "      <th>29</th>\n",
       "    </tr>\n",
       "  </thead>\n",
       "  <tbody>\n",
       "    <tr>\n",
       "      <th>0</th>\n",
       "      <td>17.99</td>\n",
       "      <td>10.38</td>\n",
       "      <td>122.80</td>\n",
       "      <td>1001.0</td>\n",
       "      <td>0.11840</td>\n",
       "      <td>0.27760</td>\n",
       "      <td>0.3001</td>\n",
       "      <td>0.14710</td>\n",
       "      <td>0.2419</td>\n",
       "      <td>0.07871</td>\n",
       "      <td>...</td>\n",
       "      <td>25.38</td>\n",
       "      <td>17.33</td>\n",
       "      <td>184.60</td>\n",
       "      <td>2019.0</td>\n",
       "      <td>0.1622</td>\n",
       "      <td>0.6656</td>\n",
       "      <td>0.7119</td>\n",
       "      <td>0.2654</td>\n",
       "      <td>0.4601</td>\n",
       "      <td>0.11890</td>\n",
       "    </tr>\n",
       "    <tr>\n",
       "      <th>1</th>\n",
       "      <td>20.57</td>\n",
       "      <td>17.77</td>\n",
       "      <td>132.90</td>\n",
       "      <td>1326.0</td>\n",
       "      <td>0.08474</td>\n",
       "      <td>0.07864</td>\n",
       "      <td>0.0869</td>\n",
       "      <td>0.07017</td>\n",
       "      <td>0.1812</td>\n",
       "      <td>0.05667</td>\n",
       "      <td>...</td>\n",
       "      <td>24.99</td>\n",
       "      <td>23.41</td>\n",
       "      <td>158.80</td>\n",
       "      <td>1956.0</td>\n",
       "      <td>0.1238</td>\n",
       "      <td>0.1866</td>\n",
       "      <td>0.2416</td>\n",
       "      <td>0.1860</td>\n",
       "      <td>0.2750</td>\n",
       "      <td>0.08902</td>\n",
       "    </tr>\n",
       "    <tr>\n",
       "      <th>2</th>\n",
       "      <td>19.69</td>\n",
       "      <td>21.25</td>\n",
       "      <td>130.00</td>\n",
       "      <td>1203.0</td>\n",
       "      <td>0.10960</td>\n",
       "      <td>0.15990</td>\n",
       "      <td>0.1974</td>\n",
       "      <td>0.12790</td>\n",
       "      <td>0.2069</td>\n",
       "      <td>0.05999</td>\n",
       "      <td>...</td>\n",
       "      <td>23.57</td>\n",
       "      <td>25.53</td>\n",
       "      <td>152.50</td>\n",
       "      <td>1709.0</td>\n",
       "      <td>0.1444</td>\n",
       "      <td>0.4245</td>\n",
       "      <td>0.4504</td>\n",
       "      <td>0.2430</td>\n",
       "      <td>0.3613</td>\n",
       "      <td>0.08758</td>\n",
       "    </tr>\n",
       "    <tr>\n",
       "      <th>3</th>\n",
       "      <td>11.42</td>\n",
       "      <td>20.38</td>\n",
       "      <td>77.58</td>\n",
       "      <td>386.1</td>\n",
       "      <td>0.14250</td>\n",
       "      <td>0.28390</td>\n",
       "      <td>0.2414</td>\n",
       "      <td>0.10520</td>\n",
       "      <td>0.2597</td>\n",
       "      <td>0.09744</td>\n",
       "      <td>...</td>\n",
       "      <td>14.91</td>\n",
       "      <td>26.50</td>\n",
       "      <td>98.87</td>\n",
       "      <td>567.7</td>\n",
       "      <td>0.2098</td>\n",
       "      <td>0.8663</td>\n",
       "      <td>0.6869</td>\n",
       "      <td>0.2575</td>\n",
       "      <td>0.6638</td>\n",
       "      <td>0.17300</td>\n",
       "    </tr>\n",
       "    <tr>\n",
       "      <th>4</th>\n",
       "      <td>20.29</td>\n",
       "      <td>14.34</td>\n",
       "      <td>135.10</td>\n",
       "      <td>1297.0</td>\n",
       "      <td>0.10030</td>\n",
       "      <td>0.13280</td>\n",
       "      <td>0.1980</td>\n",
       "      <td>0.10430</td>\n",
       "      <td>0.1809</td>\n",
       "      <td>0.05883</td>\n",
       "      <td>...</td>\n",
       "      <td>22.54</td>\n",
       "      <td>16.67</td>\n",
       "      <td>152.20</td>\n",
       "      <td>1575.0</td>\n",
       "      <td>0.1374</td>\n",
       "      <td>0.2050</td>\n",
       "      <td>0.4000</td>\n",
       "      <td>0.1625</td>\n",
       "      <td>0.2364</td>\n",
       "      <td>0.07678</td>\n",
       "    </tr>\n",
       "  </tbody>\n",
       "</table>\n",
       "<p>5 rows × 30 columns</p>\n",
       "</div>"
      ],
      "text/plain": [
       "      0      1       2       3        4        5       6        7       8   \\\n",
       "0  17.99  10.38  122.80  1001.0  0.11840  0.27760  0.3001  0.14710  0.2419   \n",
       "1  20.57  17.77  132.90  1326.0  0.08474  0.07864  0.0869  0.07017  0.1812   \n",
       "2  19.69  21.25  130.00  1203.0  0.10960  0.15990  0.1974  0.12790  0.2069   \n",
       "3  11.42  20.38   77.58   386.1  0.14250  0.28390  0.2414  0.10520  0.2597   \n",
       "4  20.29  14.34  135.10  1297.0  0.10030  0.13280  0.1980  0.10430  0.1809   \n",
       "\n",
       "        9   ...     20     21      22      23      24      25      26      27  \\\n",
       "0  0.07871  ...  25.38  17.33  184.60  2019.0  0.1622  0.6656  0.7119  0.2654   \n",
       "1  0.05667  ...  24.99  23.41  158.80  1956.0  0.1238  0.1866  0.2416  0.1860   \n",
       "2  0.05999  ...  23.57  25.53  152.50  1709.0  0.1444  0.4245  0.4504  0.2430   \n",
       "3  0.09744  ...  14.91  26.50   98.87   567.7  0.2098  0.8663  0.6869  0.2575   \n",
       "4  0.05883  ...  22.54  16.67  152.20  1575.0  0.1374  0.2050  0.4000  0.1625   \n",
       "\n",
       "       28       29  \n",
       "0  0.4601  0.11890  \n",
       "1  0.2750  0.08902  \n",
       "2  0.3613  0.08758  \n",
       "3  0.6638  0.17300  \n",
       "4  0.2364  0.07678  \n",
       "\n",
       "[5 rows x 30 columns]"
      ]
     },
     "execution_count": 691,
     "metadata": {},
     "output_type": "execute_result"
    }
   ],
   "source": [
    "cancer_df.head()"
   ]
  },
  {
   "cell_type": "code",
   "execution_count": 692,
   "metadata": {},
   "outputs": [],
   "source": [
    "cancer_df.columns = cancer.feature_names"
   ]
  },
  {
   "cell_type": "code",
   "execution_count": 693,
   "metadata": {},
   "outputs": [
    {
     "data": {
      "text/html": [
       "<div>\n",
       "<style scoped>\n",
       "    .dataframe tbody tr th:only-of-type {\n",
       "        vertical-align: middle;\n",
       "    }\n",
       "\n",
       "    .dataframe tbody tr th {\n",
       "        vertical-align: top;\n",
       "    }\n",
       "\n",
       "    .dataframe thead th {\n",
       "        text-align: right;\n",
       "    }\n",
       "</style>\n",
       "<table border=\"1\" class=\"dataframe\">\n",
       "  <thead>\n",
       "    <tr style=\"text-align: right;\">\n",
       "      <th></th>\n",
       "      <th>mean radius</th>\n",
       "      <th>mean texture</th>\n",
       "      <th>mean perimeter</th>\n",
       "      <th>mean area</th>\n",
       "      <th>mean smoothness</th>\n",
       "      <th>mean compactness</th>\n",
       "      <th>mean concavity</th>\n",
       "      <th>mean concave points</th>\n",
       "      <th>mean symmetry</th>\n",
       "      <th>mean fractal dimension</th>\n",
       "      <th>...</th>\n",
       "      <th>worst radius</th>\n",
       "      <th>worst texture</th>\n",
       "      <th>worst perimeter</th>\n",
       "      <th>worst area</th>\n",
       "      <th>worst smoothness</th>\n",
       "      <th>worst compactness</th>\n",
       "      <th>worst concavity</th>\n",
       "      <th>worst concave points</th>\n",
       "      <th>worst symmetry</th>\n",
       "      <th>worst fractal dimension</th>\n",
       "    </tr>\n",
       "  </thead>\n",
       "  <tbody>\n",
       "    <tr>\n",
       "      <th>0</th>\n",
       "      <td>17.99</td>\n",
       "      <td>10.38</td>\n",
       "      <td>122.80</td>\n",
       "      <td>1001.0</td>\n",
       "      <td>0.11840</td>\n",
       "      <td>0.27760</td>\n",
       "      <td>0.3001</td>\n",
       "      <td>0.14710</td>\n",
       "      <td>0.2419</td>\n",
       "      <td>0.07871</td>\n",
       "      <td>...</td>\n",
       "      <td>25.38</td>\n",
       "      <td>17.33</td>\n",
       "      <td>184.60</td>\n",
       "      <td>2019.0</td>\n",
       "      <td>0.1622</td>\n",
       "      <td>0.6656</td>\n",
       "      <td>0.7119</td>\n",
       "      <td>0.2654</td>\n",
       "      <td>0.4601</td>\n",
       "      <td>0.11890</td>\n",
       "    </tr>\n",
       "    <tr>\n",
       "      <th>1</th>\n",
       "      <td>20.57</td>\n",
       "      <td>17.77</td>\n",
       "      <td>132.90</td>\n",
       "      <td>1326.0</td>\n",
       "      <td>0.08474</td>\n",
       "      <td>0.07864</td>\n",
       "      <td>0.0869</td>\n",
       "      <td>0.07017</td>\n",
       "      <td>0.1812</td>\n",
       "      <td>0.05667</td>\n",
       "      <td>...</td>\n",
       "      <td>24.99</td>\n",
       "      <td>23.41</td>\n",
       "      <td>158.80</td>\n",
       "      <td>1956.0</td>\n",
       "      <td>0.1238</td>\n",
       "      <td>0.1866</td>\n",
       "      <td>0.2416</td>\n",
       "      <td>0.1860</td>\n",
       "      <td>0.2750</td>\n",
       "      <td>0.08902</td>\n",
       "    </tr>\n",
       "    <tr>\n",
       "      <th>2</th>\n",
       "      <td>19.69</td>\n",
       "      <td>21.25</td>\n",
       "      <td>130.00</td>\n",
       "      <td>1203.0</td>\n",
       "      <td>0.10960</td>\n",
       "      <td>0.15990</td>\n",
       "      <td>0.1974</td>\n",
       "      <td>0.12790</td>\n",
       "      <td>0.2069</td>\n",
       "      <td>0.05999</td>\n",
       "      <td>...</td>\n",
       "      <td>23.57</td>\n",
       "      <td>25.53</td>\n",
       "      <td>152.50</td>\n",
       "      <td>1709.0</td>\n",
       "      <td>0.1444</td>\n",
       "      <td>0.4245</td>\n",
       "      <td>0.4504</td>\n",
       "      <td>0.2430</td>\n",
       "      <td>0.3613</td>\n",
       "      <td>0.08758</td>\n",
       "    </tr>\n",
       "    <tr>\n",
       "      <th>3</th>\n",
       "      <td>11.42</td>\n",
       "      <td>20.38</td>\n",
       "      <td>77.58</td>\n",
       "      <td>386.1</td>\n",
       "      <td>0.14250</td>\n",
       "      <td>0.28390</td>\n",
       "      <td>0.2414</td>\n",
       "      <td>0.10520</td>\n",
       "      <td>0.2597</td>\n",
       "      <td>0.09744</td>\n",
       "      <td>...</td>\n",
       "      <td>14.91</td>\n",
       "      <td>26.50</td>\n",
       "      <td>98.87</td>\n",
       "      <td>567.7</td>\n",
       "      <td>0.2098</td>\n",
       "      <td>0.8663</td>\n",
       "      <td>0.6869</td>\n",
       "      <td>0.2575</td>\n",
       "      <td>0.6638</td>\n",
       "      <td>0.17300</td>\n",
       "    </tr>\n",
       "    <tr>\n",
       "      <th>4</th>\n",
       "      <td>20.29</td>\n",
       "      <td>14.34</td>\n",
       "      <td>135.10</td>\n",
       "      <td>1297.0</td>\n",
       "      <td>0.10030</td>\n",
       "      <td>0.13280</td>\n",
       "      <td>0.1980</td>\n",
       "      <td>0.10430</td>\n",
       "      <td>0.1809</td>\n",
       "      <td>0.05883</td>\n",
       "      <td>...</td>\n",
       "      <td>22.54</td>\n",
       "      <td>16.67</td>\n",
       "      <td>152.20</td>\n",
       "      <td>1575.0</td>\n",
       "      <td>0.1374</td>\n",
       "      <td>0.2050</td>\n",
       "      <td>0.4000</td>\n",
       "      <td>0.1625</td>\n",
       "      <td>0.2364</td>\n",
       "      <td>0.07678</td>\n",
       "    </tr>\n",
       "  </tbody>\n",
       "</table>\n",
       "<p>5 rows × 30 columns</p>\n",
       "</div>"
      ],
      "text/plain": [
       "   mean radius  mean texture  mean perimeter  mean area  mean smoothness  \\\n",
       "0        17.99         10.38          122.80     1001.0          0.11840   \n",
       "1        20.57         17.77          132.90     1326.0          0.08474   \n",
       "2        19.69         21.25          130.00     1203.0          0.10960   \n",
       "3        11.42         20.38           77.58      386.1          0.14250   \n",
       "4        20.29         14.34          135.10     1297.0          0.10030   \n",
       "\n",
       "   mean compactness  mean concavity  mean concave points  mean symmetry  \\\n",
       "0           0.27760          0.3001              0.14710         0.2419   \n",
       "1           0.07864          0.0869              0.07017         0.1812   \n",
       "2           0.15990          0.1974              0.12790         0.2069   \n",
       "3           0.28390          0.2414              0.10520         0.2597   \n",
       "4           0.13280          0.1980              0.10430         0.1809   \n",
       "\n",
       "   mean fractal dimension  ...  worst radius  worst texture  worst perimeter  \\\n",
       "0                 0.07871  ...         25.38          17.33           184.60   \n",
       "1                 0.05667  ...         24.99          23.41           158.80   \n",
       "2                 0.05999  ...         23.57          25.53           152.50   \n",
       "3                 0.09744  ...         14.91          26.50            98.87   \n",
       "4                 0.05883  ...         22.54          16.67           152.20   \n",
       "\n",
       "   worst area  worst smoothness  worst compactness  worst concavity  \\\n",
       "0      2019.0            0.1622             0.6656           0.7119   \n",
       "1      1956.0            0.1238             0.1866           0.2416   \n",
       "2      1709.0            0.1444             0.4245           0.4504   \n",
       "3       567.7            0.2098             0.8663           0.6869   \n",
       "4      1575.0            0.1374             0.2050           0.4000   \n",
       "\n",
       "   worst concave points  worst symmetry  worst fractal dimension  \n",
       "0                0.2654          0.4601                  0.11890  \n",
       "1                0.1860          0.2750                  0.08902  \n",
       "2                0.2430          0.3613                  0.08758  \n",
       "3                0.2575          0.6638                  0.17300  \n",
       "4                0.1625          0.2364                  0.07678  \n",
       "\n",
       "[5 rows x 30 columns]"
      ]
     },
     "execution_count": 693,
     "metadata": {},
     "output_type": "execute_result"
    }
   ],
   "source": [
    "cancer_df.head()"
   ]
  },
  {
   "cell_type": "code",
   "execution_count": 694,
   "metadata": {},
   "outputs": [
    {
     "data": {
      "text/plain": [
       "(569, 30)"
      ]
     },
     "execution_count": 694,
     "metadata": {},
     "output_type": "execute_result"
    }
   ],
   "source": [
    "cancer_df.shape"
   ]
  },
  {
   "cell_type": "code",
   "execution_count": 695,
   "metadata": {},
   "outputs": [
    {
     "name": "stdout",
     "output_type": "stream",
     "text": [
      "<class 'pandas.core.frame.DataFrame'>\n",
      "RangeIndex: 569 entries, 0 to 568\n",
      "Data columns (total 30 columns):\n",
      "mean radius                569 non-null float64\n",
      "mean texture               569 non-null float64\n",
      "mean perimeter             569 non-null float64\n",
      "mean area                  569 non-null float64\n",
      "mean smoothness            569 non-null float64\n",
      "mean compactness           569 non-null float64\n",
      "mean concavity             569 non-null float64\n",
      "mean concave points        569 non-null float64\n",
      "mean symmetry              569 non-null float64\n",
      "mean fractal dimension     569 non-null float64\n",
      "radius error               569 non-null float64\n",
      "texture error              569 non-null float64\n",
      "perimeter error            569 non-null float64\n",
      "area error                 569 non-null float64\n",
      "smoothness error           569 non-null float64\n",
      "compactness error          569 non-null float64\n",
      "concavity error            569 non-null float64\n",
      "concave points error       569 non-null float64\n",
      "symmetry error             569 non-null float64\n",
      "fractal dimension error    569 non-null float64\n",
      "worst radius               569 non-null float64\n",
      "worst texture              569 non-null float64\n",
      "worst perimeter            569 non-null float64\n",
      "worst area                 569 non-null float64\n",
      "worst smoothness           569 non-null float64\n",
      "worst compactness          569 non-null float64\n",
      "worst concavity            569 non-null float64\n",
      "worst concave points       569 non-null float64\n",
      "worst symmetry             569 non-null float64\n",
      "worst fractal dimension    569 non-null float64\n",
      "dtypes: float64(30)\n",
      "memory usage: 133.4 KB\n"
     ]
    }
   ],
   "source": [
    "cancer_df.info()"
   ]
  },
  {
   "cell_type": "code",
   "execution_count": 696,
   "metadata": {},
   "outputs": [],
   "source": [
    "cancer_df['target'] = cancer.target"
   ]
  },
  {
   "cell_type": "code",
   "execution_count": 697,
   "metadata": {},
   "outputs": [
    {
     "data": {
      "text/html": [
       "<div>\n",
       "<style scoped>\n",
       "    .dataframe tbody tr th:only-of-type {\n",
       "        vertical-align: middle;\n",
       "    }\n",
       "\n",
       "    .dataframe tbody tr th {\n",
       "        vertical-align: top;\n",
       "    }\n",
       "\n",
       "    .dataframe thead th {\n",
       "        text-align: right;\n",
       "    }\n",
       "</style>\n",
       "<table border=\"1\" class=\"dataframe\">\n",
       "  <thead>\n",
       "    <tr style=\"text-align: right;\">\n",
       "      <th></th>\n",
       "      <th>mean radius</th>\n",
       "      <th>mean texture</th>\n",
       "      <th>mean perimeter</th>\n",
       "      <th>mean area</th>\n",
       "      <th>mean smoothness</th>\n",
       "      <th>mean compactness</th>\n",
       "      <th>mean concavity</th>\n",
       "      <th>mean concave points</th>\n",
       "      <th>mean symmetry</th>\n",
       "      <th>mean fractal dimension</th>\n",
       "      <th>...</th>\n",
       "      <th>worst texture</th>\n",
       "      <th>worst perimeter</th>\n",
       "      <th>worst area</th>\n",
       "      <th>worst smoothness</th>\n",
       "      <th>worst compactness</th>\n",
       "      <th>worst concavity</th>\n",
       "      <th>worst concave points</th>\n",
       "      <th>worst symmetry</th>\n",
       "      <th>worst fractal dimension</th>\n",
       "      <th>target</th>\n",
       "    </tr>\n",
       "  </thead>\n",
       "  <tbody>\n",
       "    <tr>\n",
       "      <th>0</th>\n",
       "      <td>17.99</td>\n",
       "      <td>10.38</td>\n",
       "      <td>122.80</td>\n",
       "      <td>1001.0</td>\n",
       "      <td>0.11840</td>\n",
       "      <td>0.27760</td>\n",
       "      <td>0.3001</td>\n",
       "      <td>0.14710</td>\n",
       "      <td>0.2419</td>\n",
       "      <td>0.07871</td>\n",
       "      <td>...</td>\n",
       "      <td>17.33</td>\n",
       "      <td>184.60</td>\n",
       "      <td>2019.0</td>\n",
       "      <td>0.1622</td>\n",
       "      <td>0.6656</td>\n",
       "      <td>0.7119</td>\n",
       "      <td>0.2654</td>\n",
       "      <td>0.4601</td>\n",
       "      <td>0.11890</td>\n",
       "      <td>0</td>\n",
       "    </tr>\n",
       "    <tr>\n",
       "      <th>1</th>\n",
       "      <td>20.57</td>\n",
       "      <td>17.77</td>\n",
       "      <td>132.90</td>\n",
       "      <td>1326.0</td>\n",
       "      <td>0.08474</td>\n",
       "      <td>0.07864</td>\n",
       "      <td>0.0869</td>\n",
       "      <td>0.07017</td>\n",
       "      <td>0.1812</td>\n",
       "      <td>0.05667</td>\n",
       "      <td>...</td>\n",
       "      <td>23.41</td>\n",
       "      <td>158.80</td>\n",
       "      <td>1956.0</td>\n",
       "      <td>0.1238</td>\n",
       "      <td>0.1866</td>\n",
       "      <td>0.2416</td>\n",
       "      <td>0.1860</td>\n",
       "      <td>0.2750</td>\n",
       "      <td>0.08902</td>\n",
       "      <td>0</td>\n",
       "    </tr>\n",
       "    <tr>\n",
       "      <th>2</th>\n",
       "      <td>19.69</td>\n",
       "      <td>21.25</td>\n",
       "      <td>130.00</td>\n",
       "      <td>1203.0</td>\n",
       "      <td>0.10960</td>\n",
       "      <td>0.15990</td>\n",
       "      <td>0.1974</td>\n",
       "      <td>0.12790</td>\n",
       "      <td>0.2069</td>\n",
       "      <td>0.05999</td>\n",
       "      <td>...</td>\n",
       "      <td>25.53</td>\n",
       "      <td>152.50</td>\n",
       "      <td>1709.0</td>\n",
       "      <td>0.1444</td>\n",
       "      <td>0.4245</td>\n",
       "      <td>0.4504</td>\n",
       "      <td>0.2430</td>\n",
       "      <td>0.3613</td>\n",
       "      <td>0.08758</td>\n",
       "      <td>0</td>\n",
       "    </tr>\n",
       "    <tr>\n",
       "      <th>3</th>\n",
       "      <td>11.42</td>\n",
       "      <td>20.38</td>\n",
       "      <td>77.58</td>\n",
       "      <td>386.1</td>\n",
       "      <td>0.14250</td>\n",
       "      <td>0.28390</td>\n",
       "      <td>0.2414</td>\n",
       "      <td>0.10520</td>\n",
       "      <td>0.2597</td>\n",
       "      <td>0.09744</td>\n",
       "      <td>...</td>\n",
       "      <td>26.50</td>\n",
       "      <td>98.87</td>\n",
       "      <td>567.7</td>\n",
       "      <td>0.2098</td>\n",
       "      <td>0.8663</td>\n",
       "      <td>0.6869</td>\n",
       "      <td>0.2575</td>\n",
       "      <td>0.6638</td>\n",
       "      <td>0.17300</td>\n",
       "      <td>0</td>\n",
       "    </tr>\n",
       "    <tr>\n",
       "      <th>4</th>\n",
       "      <td>20.29</td>\n",
       "      <td>14.34</td>\n",
       "      <td>135.10</td>\n",
       "      <td>1297.0</td>\n",
       "      <td>0.10030</td>\n",
       "      <td>0.13280</td>\n",
       "      <td>0.1980</td>\n",
       "      <td>0.10430</td>\n",
       "      <td>0.1809</td>\n",
       "      <td>0.05883</td>\n",
       "      <td>...</td>\n",
       "      <td>16.67</td>\n",
       "      <td>152.20</td>\n",
       "      <td>1575.0</td>\n",
       "      <td>0.1374</td>\n",
       "      <td>0.2050</td>\n",
       "      <td>0.4000</td>\n",
       "      <td>0.1625</td>\n",
       "      <td>0.2364</td>\n",
       "      <td>0.07678</td>\n",
       "      <td>0</td>\n",
       "    </tr>\n",
       "  </tbody>\n",
       "</table>\n",
       "<p>5 rows × 31 columns</p>\n",
       "</div>"
      ],
      "text/plain": [
       "   mean radius  mean texture  mean perimeter  mean area  mean smoothness  \\\n",
       "0        17.99         10.38          122.80     1001.0          0.11840   \n",
       "1        20.57         17.77          132.90     1326.0          0.08474   \n",
       "2        19.69         21.25          130.00     1203.0          0.10960   \n",
       "3        11.42         20.38           77.58      386.1          0.14250   \n",
       "4        20.29         14.34          135.10     1297.0          0.10030   \n",
       "\n",
       "   mean compactness  mean concavity  mean concave points  mean symmetry  \\\n",
       "0           0.27760          0.3001              0.14710         0.2419   \n",
       "1           0.07864          0.0869              0.07017         0.1812   \n",
       "2           0.15990          0.1974              0.12790         0.2069   \n",
       "3           0.28390          0.2414              0.10520         0.2597   \n",
       "4           0.13280          0.1980              0.10430         0.1809   \n",
       "\n",
       "   mean fractal dimension  ...  worst texture  worst perimeter  worst area  \\\n",
       "0                 0.07871  ...          17.33           184.60      2019.0   \n",
       "1                 0.05667  ...          23.41           158.80      1956.0   \n",
       "2                 0.05999  ...          25.53           152.50      1709.0   \n",
       "3                 0.09744  ...          26.50            98.87       567.7   \n",
       "4                 0.05883  ...          16.67           152.20      1575.0   \n",
       "\n",
       "   worst smoothness  worst compactness  worst concavity  worst concave points  \\\n",
       "0            0.1622             0.6656           0.7119                0.2654   \n",
       "1            0.1238             0.1866           0.2416                0.1860   \n",
       "2            0.1444             0.4245           0.4504                0.2430   \n",
       "3            0.2098             0.8663           0.6869                0.2575   \n",
       "4            0.1374             0.2050           0.4000                0.1625   \n",
       "\n",
       "   worst symmetry  worst fractal dimension  target  \n",
       "0          0.4601                  0.11890       0  \n",
       "1          0.2750                  0.08902       0  \n",
       "2          0.3613                  0.08758       0  \n",
       "3          0.6638                  0.17300       0  \n",
       "4          0.2364                  0.07678       0  \n",
       "\n",
       "[5 rows x 31 columns]"
      ]
     },
     "execution_count": 697,
     "metadata": {},
     "output_type": "execute_result"
    }
   ],
   "source": [
    "cancer_df.head()"
   ]
  },
  {
   "cell_type": "code",
   "execution_count": 698,
   "metadata": {},
   "outputs": [
    {
     "data": {
      "text/plain": [
       "mean radius                0\n",
       "mean texture               0\n",
       "mean perimeter             0\n",
       "mean area                  0\n",
       "mean smoothness            0\n",
       "mean compactness           0\n",
       "mean concavity             0\n",
       "mean concave points        0\n",
       "mean symmetry              0\n",
       "mean fractal dimension     0\n",
       "radius error               0\n",
       "texture error              0\n",
       "perimeter error            0\n",
       "area error                 0\n",
       "smoothness error           0\n",
       "compactness error          0\n",
       "concavity error            0\n",
       "concave points error       0\n",
       "symmetry error             0\n",
       "fractal dimension error    0\n",
       "worst radius               0\n",
       "worst texture              0\n",
       "worst perimeter            0\n",
       "worst area                 0\n",
       "worst smoothness           0\n",
       "worst compactness          0\n",
       "worst concavity            0\n",
       "worst concave points       0\n",
       "worst symmetry             0\n",
       "worst fractal dimension    0\n",
       "target                     0\n",
       "dtype: int64"
      ]
     },
     "execution_count": 698,
     "metadata": {},
     "output_type": "execute_result"
    }
   ],
   "source": [
    "cancer_df.isnull().sum()"
   ]
  },
  {
   "cell_type": "code",
   "execution_count": 699,
   "metadata": {},
   "outputs": [
    {
     "data": {
      "text/plain": [
       "Index(['mean radius', 'mean texture', 'mean perimeter', 'mean area',\n",
       "       'mean smoothness', 'mean compactness', 'mean concavity',\n",
       "       'mean concave points', 'mean symmetry', 'mean fractal dimension',\n",
       "       'radius error', 'texture error', 'perimeter error', 'area error',\n",
       "       'smoothness error', 'compactness error', 'concavity error',\n",
       "       'concave points error', 'symmetry error', 'fractal dimension error',\n",
       "       'worst radius', 'worst texture', 'worst perimeter', 'worst area',\n",
       "       'worst smoothness', 'worst compactness', 'worst concavity',\n",
       "       'worst concave points', 'worst symmetry', 'worst fractal dimension',\n",
       "       'target'],\n",
       "      dtype='object')"
      ]
     },
     "execution_count": 699,
     "metadata": {},
     "output_type": "execute_result"
    }
   ],
   "source": [
    "cancer_df.columns"
   ]
  },
  {
   "cell_type": "code",
   "execution_count": 700,
   "metadata": {},
   "outputs": [
    {
     "data": {
      "text/html": [
       "<div>\n",
       "<style scoped>\n",
       "    .dataframe tbody tr th:only-of-type {\n",
       "        vertical-align: middle;\n",
       "    }\n",
       "\n",
       "    .dataframe tbody tr th {\n",
       "        vertical-align: top;\n",
       "    }\n",
       "\n",
       "    .dataframe thead th {\n",
       "        text-align: right;\n",
       "    }\n",
       "</style>\n",
       "<table border=\"1\" class=\"dataframe\">\n",
       "  <thead>\n",
       "    <tr style=\"text-align: right;\">\n",
       "      <th></th>\n",
       "      <th>mean radius</th>\n",
       "      <th>mean texture</th>\n",
       "      <th>mean perimeter</th>\n",
       "      <th>mean area</th>\n",
       "      <th>mean smoothness</th>\n",
       "      <th>mean compactness</th>\n",
       "      <th>mean concavity</th>\n",
       "      <th>mean concave points</th>\n",
       "      <th>mean symmetry</th>\n",
       "      <th>mean fractal dimension</th>\n",
       "      <th>...</th>\n",
       "      <th>worst texture</th>\n",
       "      <th>worst perimeter</th>\n",
       "      <th>worst area</th>\n",
       "      <th>worst smoothness</th>\n",
       "      <th>worst compactness</th>\n",
       "      <th>worst concavity</th>\n",
       "      <th>worst concave points</th>\n",
       "      <th>worst symmetry</th>\n",
       "      <th>worst fractal dimension</th>\n",
       "      <th>target</th>\n",
       "    </tr>\n",
       "  </thead>\n",
       "  <tbody>\n",
       "    <tr>\n",
       "      <th>count</th>\n",
       "      <td>569.000000</td>\n",
       "      <td>569.000000</td>\n",
       "      <td>569.000000</td>\n",
       "      <td>569.000000</td>\n",
       "      <td>569.000000</td>\n",
       "      <td>569.000000</td>\n",
       "      <td>569.000000</td>\n",
       "      <td>569.000000</td>\n",
       "      <td>569.000000</td>\n",
       "      <td>569.000000</td>\n",
       "      <td>...</td>\n",
       "      <td>569.000000</td>\n",
       "      <td>569.000000</td>\n",
       "      <td>569.000000</td>\n",
       "      <td>569.000000</td>\n",
       "      <td>569.000000</td>\n",
       "      <td>569.000000</td>\n",
       "      <td>569.000000</td>\n",
       "      <td>569.000000</td>\n",
       "      <td>569.000000</td>\n",
       "      <td>569.000000</td>\n",
       "    </tr>\n",
       "    <tr>\n",
       "      <th>mean</th>\n",
       "      <td>14.127292</td>\n",
       "      <td>19.289649</td>\n",
       "      <td>91.969033</td>\n",
       "      <td>654.889104</td>\n",
       "      <td>0.096360</td>\n",
       "      <td>0.104341</td>\n",
       "      <td>0.088799</td>\n",
       "      <td>0.048919</td>\n",
       "      <td>0.181162</td>\n",
       "      <td>0.062798</td>\n",
       "      <td>...</td>\n",
       "      <td>25.677223</td>\n",
       "      <td>107.261213</td>\n",
       "      <td>880.583128</td>\n",
       "      <td>0.132369</td>\n",
       "      <td>0.254265</td>\n",
       "      <td>0.272188</td>\n",
       "      <td>0.114606</td>\n",
       "      <td>0.290076</td>\n",
       "      <td>0.083946</td>\n",
       "      <td>0.627417</td>\n",
       "    </tr>\n",
       "    <tr>\n",
       "      <th>std</th>\n",
       "      <td>3.524049</td>\n",
       "      <td>4.301036</td>\n",
       "      <td>24.298981</td>\n",
       "      <td>351.914129</td>\n",
       "      <td>0.014064</td>\n",
       "      <td>0.052813</td>\n",
       "      <td>0.079720</td>\n",
       "      <td>0.038803</td>\n",
       "      <td>0.027414</td>\n",
       "      <td>0.007060</td>\n",
       "      <td>...</td>\n",
       "      <td>6.146258</td>\n",
       "      <td>33.602542</td>\n",
       "      <td>569.356993</td>\n",
       "      <td>0.022832</td>\n",
       "      <td>0.157336</td>\n",
       "      <td>0.208624</td>\n",
       "      <td>0.065732</td>\n",
       "      <td>0.061867</td>\n",
       "      <td>0.018061</td>\n",
       "      <td>0.483918</td>\n",
       "    </tr>\n",
       "    <tr>\n",
       "      <th>min</th>\n",
       "      <td>6.981000</td>\n",
       "      <td>9.710000</td>\n",
       "      <td>43.790000</td>\n",
       "      <td>143.500000</td>\n",
       "      <td>0.052630</td>\n",
       "      <td>0.019380</td>\n",
       "      <td>0.000000</td>\n",
       "      <td>0.000000</td>\n",
       "      <td>0.106000</td>\n",
       "      <td>0.049960</td>\n",
       "      <td>...</td>\n",
       "      <td>12.020000</td>\n",
       "      <td>50.410000</td>\n",
       "      <td>185.200000</td>\n",
       "      <td>0.071170</td>\n",
       "      <td>0.027290</td>\n",
       "      <td>0.000000</td>\n",
       "      <td>0.000000</td>\n",
       "      <td>0.156500</td>\n",
       "      <td>0.055040</td>\n",
       "      <td>0.000000</td>\n",
       "    </tr>\n",
       "    <tr>\n",
       "      <th>25%</th>\n",
       "      <td>11.700000</td>\n",
       "      <td>16.170000</td>\n",
       "      <td>75.170000</td>\n",
       "      <td>420.300000</td>\n",
       "      <td>0.086370</td>\n",
       "      <td>0.064920</td>\n",
       "      <td>0.029560</td>\n",
       "      <td>0.020310</td>\n",
       "      <td>0.161900</td>\n",
       "      <td>0.057700</td>\n",
       "      <td>...</td>\n",
       "      <td>21.080000</td>\n",
       "      <td>84.110000</td>\n",
       "      <td>515.300000</td>\n",
       "      <td>0.116600</td>\n",
       "      <td>0.147200</td>\n",
       "      <td>0.114500</td>\n",
       "      <td>0.064930</td>\n",
       "      <td>0.250400</td>\n",
       "      <td>0.071460</td>\n",
       "      <td>0.000000</td>\n",
       "    </tr>\n",
       "    <tr>\n",
       "      <th>50%</th>\n",
       "      <td>13.370000</td>\n",
       "      <td>18.840000</td>\n",
       "      <td>86.240000</td>\n",
       "      <td>551.100000</td>\n",
       "      <td>0.095870</td>\n",
       "      <td>0.092630</td>\n",
       "      <td>0.061540</td>\n",
       "      <td>0.033500</td>\n",
       "      <td>0.179200</td>\n",
       "      <td>0.061540</td>\n",
       "      <td>...</td>\n",
       "      <td>25.410000</td>\n",
       "      <td>97.660000</td>\n",
       "      <td>686.500000</td>\n",
       "      <td>0.131300</td>\n",
       "      <td>0.211900</td>\n",
       "      <td>0.226700</td>\n",
       "      <td>0.099930</td>\n",
       "      <td>0.282200</td>\n",
       "      <td>0.080040</td>\n",
       "      <td>1.000000</td>\n",
       "    </tr>\n",
       "    <tr>\n",
       "      <th>75%</th>\n",
       "      <td>15.780000</td>\n",
       "      <td>21.800000</td>\n",
       "      <td>104.100000</td>\n",
       "      <td>782.700000</td>\n",
       "      <td>0.105300</td>\n",
       "      <td>0.130400</td>\n",
       "      <td>0.130700</td>\n",
       "      <td>0.074000</td>\n",
       "      <td>0.195700</td>\n",
       "      <td>0.066120</td>\n",
       "      <td>...</td>\n",
       "      <td>29.720000</td>\n",
       "      <td>125.400000</td>\n",
       "      <td>1084.000000</td>\n",
       "      <td>0.146000</td>\n",
       "      <td>0.339100</td>\n",
       "      <td>0.382900</td>\n",
       "      <td>0.161400</td>\n",
       "      <td>0.317900</td>\n",
       "      <td>0.092080</td>\n",
       "      <td>1.000000</td>\n",
       "    </tr>\n",
       "    <tr>\n",
       "      <th>max</th>\n",
       "      <td>28.110000</td>\n",
       "      <td>39.280000</td>\n",
       "      <td>188.500000</td>\n",
       "      <td>2501.000000</td>\n",
       "      <td>0.163400</td>\n",
       "      <td>0.345400</td>\n",
       "      <td>0.426800</td>\n",
       "      <td>0.201200</td>\n",
       "      <td>0.304000</td>\n",
       "      <td>0.097440</td>\n",
       "      <td>...</td>\n",
       "      <td>49.540000</td>\n",
       "      <td>251.200000</td>\n",
       "      <td>4254.000000</td>\n",
       "      <td>0.222600</td>\n",
       "      <td>1.058000</td>\n",
       "      <td>1.252000</td>\n",
       "      <td>0.291000</td>\n",
       "      <td>0.663800</td>\n",
       "      <td>0.207500</td>\n",
       "      <td>1.000000</td>\n",
       "    </tr>\n",
       "  </tbody>\n",
       "</table>\n",
       "<p>8 rows × 31 columns</p>\n",
       "</div>"
      ],
      "text/plain": [
       "       mean radius  mean texture  mean perimeter    mean area  \\\n",
       "count   569.000000    569.000000      569.000000   569.000000   \n",
       "mean     14.127292     19.289649       91.969033   654.889104   \n",
       "std       3.524049      4.301036       24.298981   351.914129   \n",
       "min       6.981000      9.710000       43.790000   143.500000   \n",
       "25%      11.700000     16.170000       75.170000   420.300000   \n",
       "50%      13.370000     18.840000       86.240000   551.100000   \n",
       "75%      15.780000     21.800000      104.100000   782.700000   \n",
       "max      28.110000     39.280000      188.500000  2501.000000   \n",
       "\n",
       "       mean smoothness  mean compactness  mean concavity  mean concave points  \\\n",
       "count       569.000000        569.000000      569.000000           569.000000   \n",
       "mean          0.096360          0.104341        0.088799             0.048919   \n",
       "std           0.014064          0.052813        0.079720             0.038803   \n",
       "min           0.052630          0.019380        0.000000             0.000000   \n",
       "25%           0.086370          0.064920        0.029560             0.020310   \n",
       "50%           0.095870          0.092630        0.061540             0.033500   \n",
       "75%           0.105300          0.130400        0.130700             0.074000   \n",
       "max           0.163400          0.345400        0.426800             0.201200   \n",
       "\n",
       "       mean symmetry  mean fractal dimension  ...  worst texture  \\\n",
       "count     569.000000              569.000000  ...     569.000000   \n",
       "mean        0.181162                0.062798  ...      25.677223   \n",
       "std         0.027414                0.007060  ...       6.146258   \n",
       "min         0.106000                0.049960  ...      12.020000   \n",
       "25%         0.161900                0.057700  ...      21.080000   \n",
       "50%         0.179200                0.061540  ...      25.410000   \n",
       "75%         0.195700                0.066120  ...      29.720000   \n",
       "max         0.304000                0.097440  ...      49.540000   \n",
       "\n",
       "       worst perimeter   worst area  worst smoothness  worst compactness  \\\n",
       "count       569.000000   569.000000        569.000000         569.000000   \n",
       "mean        107.261213   880.583128          0.132369           0.254265   \n",
       "std          33.602542   569.356993          0.022832           0.157336   \n",
       "min          50.410000   185.200000          0.071170           0.027290   \n",
       "25%          84.110000   515.300000          0.116600           0.147200   \n",
       "50%          97.660000   686.500000          0.131300           0.211900   \n",
       "75%         125.400000  1084.000000          0.146000           0.339100   \n",
       "max         251.200000  4254.000000          0.222600           1.058000   \n",
       "\n",
       "       worst concavity  worst concave points  worst symmetry  \\\n",
       "count       569.000000            569.000000      569.000000   \n",
       "mean          0.272188              0.114606        0.290076   \n",
       "std           0.208624              0.065732        0.061867   \n",
       "min           0.000000              0.000000        0.156500   \n",
       "25%           0.114500              0.064930        0.250400   \n",
       "50%           0.226700              0.099930        0.282200   \n",
       "75%           0.382900              0.161400        0.317900   \n",
       "max           1.252000              0.291000        0.663800   \n",
       "\n",
       "       worst fractal dimension      target  \n",
       "count               569.000000  569.000000  \n",
       "mean                  0.083946    0.627417  \n",
       "std                   0.018061    0.483918  \n",
       "min                   0.055040    0.000000  \n",
       "25%                   0.071460    0.000000  \n",
       "50%                   0.080040    1.000000  \n",
       "75%                   0.092080    1.000000  \n",
       "max                   0.207500    1.000000  \n",
       "\n",
       "[8 rows x 31 columns]"
      ]
     },
     "execution_count": 700,
     "metadata": {},
     "output_type": "execute_result"
    }
   ],
   "source": [
    "cancer_df.describe()"
   ]
  },
  {
   "cell_type": "code",
   "execution_count": 701,
   "metadata": {},
   "outputs": [
    {
     "data": {
      "text/plain": [
       "mean radius                0.942380\n",
       "mean texture               0.650450\n",
       "mean perimeter             0.990650\n",
       "mean area                  1.645732\n",
       "mean smoothness            0.456324\n",
       "mean compactness           1.190123\n",
       "mean concavity             1.401180\n",
       "mean concave points        1.171180\n",
       "mean symmetry              0.725609\n",
       "mean fractal dimension     1.304489\n",
       "radius error               3.088612\n",
       "texture error              1.646444\n",
       "perimeter error            3.443615\n",
       "area error                 5.447186\n",
       "smoothness error           2.314450\n",
       "compactness error          1.902221\n",
       "concavity error            5.110463\n",
       "concave points error       1.444678\n",
       "symmetry error             2.195133\n",
       "fractal dimension error    3.923969\n",
       "worst radius               1.103115\n",
       "worst texture              0.498321\n",
       "worst perimeter            1.128164\n",
       "worst area                 1.859373\n",
       "worst smoothness           0.415426\n",
       "worst compactness          1.473555\n",
       "worst concavity            1.150237\n",
       "worst concave points       0.492616\n",
       "worst symmetry             1.433928\n",
       "worst fractal dimension    1.662579\n",
       "target                    -0.528461\n",
       "dtype: float64"
      ]
     },
     "execution_count": 701,
     "metadata": {},
     "output_type": "execute_result"
    }
   ],
   "source": [
    "cancer_df.skew()"
   ]
  },
  {
   "cell_type": "code",
   "execution_count": 702,
   "metadata": {},
   "outputs": [
    {
     "data": {
      "text/plain": [
       "Index(['radius error', 'perimeter error', 'area error', 'smoothness error',\n",
       "       'concavity error', 'symmetry error', 'fractal dimension error'],\n",
       "      dtype='object')"
      ]
     },
     "execution_count": 702,
     "metadata": {},
     "output_type": "execute_result"
    }
   ],
   "source": [
    "cancer_df.columns[cancer_df.skew()>1.96]"
   ]
  },
  {
   "cell_type": "code",
   "execution_count": 703,
   "metadata": {},
   "outputs": [
    {
     "data": {
      "text/html": [
       "<div>\n",
       "<style scoped>\n",
       "    .dataframe tbody tr th:only-of-type {\n",
       "        vertical-align: middle;\n",
       "    }\n",
       "\n",
       "    .dataframe tbody tr th {\n",
       "        vertical-align: top;\n",
       "    }\n",
       "\n",
       "    .dataframe thead th {\n",
       "        text-align: right;\n",
       "    }\n",
       "</style>\n",
       "<table border=\"1\" class=\"dataframe\">\n",
       "  <thead>\n",
       "    <tr style=\"text-align: right;\">\n",
       "      <th></th>\n",
       "      <th>radius error</th>\n",
       "      <th>perimeter error</th>\n",
       "      <th>area error</th>\n",
       "      <th>smoothness error</th>\n",
       "      <th>concavity error</th>\n",
       "      <th>symmetry error</th>\n",
       "      <th>fractal dimension error</th>\n",
       "    </tr>\n",
       "  </thead>\n",
       "  <tbody>\n",
       "    <tr>\n",
       "      <th>count</th>\n",
       "      <td>569.000000</td>\n",
       "      <td>569.000000</td>\n",
       "      <td>569.000000</td>\n",
       "      <td>569.000000</td>\n",
       "      <td>569.000000</td>\n",
       "      <td>569.000000</td>\n",
       "      <td>569.000000</td>\n",
       "    </tr>\n",
       "    <tr>\n",
       "      <th>mean</th>\n",
       "      <td>0.405172</td>\n",
       "      <td>2.866059</td>\n",
       "      <td>40.337079</td>\n",
       "      <td>0.007041</td>\n",
       "      <td>0.031894</td>\n",
       "      <td>0.020542</td>\n",
       "      <td>0.003795</td>\n",
       "    </tr>\n",
       "    <tr>\n",
       "      <th>std</th>\n",
       "      <td>0.277313</td>\n",
       "      <td>2.021855</td>\n",
       "      <td>45.491006</td>\n",
       "      <td>0.003003</td>\n",
       "      <td>0.030186</td>\n",
       "      <td>0.008266</td>\n",
       "      <td>0.002646</td>\n",
       "    </tr>\n",
       "    <tr>\n",
       "      <th>min</th>\n",
       "      <td>0.111500</td>\n",
       "      <td>0.757000</td>\n",
       "      <td>6.802000</td>\n",
       "      <td>0.001713</td>\n",
       "      <td>0.000000</td>\n",
       "      <td>0.007882</td>\n",
       "      <td>0.000895</td>\n",
       "    </tr>\n",
       "    <tr>\n",
       "      <th>5%</th>\n",
       "      <td>0.160100</td>\n",
       "      <td>1.132800</td>\n",
       "      <td>11.360000</td>\n",
       "      <td>0.003690</td>\n",
       "      <td>0.003253</td>\n",
       "      <td>0.011758</td>\n",
       "      <td>0.001522</td>\n",
       "    </tr>\n",
       "    <tr>\n",
       "      <th>25%</th>\n",
       "      <td>0.232400</td>\n",
       "      <td>1.606000</td>\n",
       "      <td>17.850000</td>\n",
       "      <td>0.005169</td>\n",
       "      <td>0.015090</td>\n",
       "      <td>0.015160</td>\n",
       "      <td>0.002248</td>\n",
       "    </tr>\n",
       "    <tr>\n",
       "      <th>50%</th>\n",
       "      <td>0.324200</td>\n",
       "      <td>2.287000</td>\n",
       "      <td>24.530000</td>\n",
       "      <td>0.006380</td>\n",
       "      <td>0.025890</td>\n",
       "      <td>0.018730</td>\n",
       "      <td>0.003187</td>\n",
       "    </tr>\n",
       "    <tr>\n",
       "      <th>75%</th>\n",
       "      <td>0.478900</td>\n",
       "      <td>3.357000</td>\n",
       "      <td>45.190000</td>\n",
       "      <td>0.008146</td>\n",
       "      <td>0.042050</td>\n",
       "      <td>0.023480</td>\n",
       "      <td>0.004558</td>\n",
       "    </tr>\n",
       "    <tr>\n",
       "      <th>99.7%</th>\n",
       "      <td>1.816248</td>\n",
       "      <td>13.313680</td>\n",
       "      <td>319.609600</td>\n",
       "      <td>0.022232</td>\n",
       "      <td>0.197989</td>\n",
       "      <td>0.060172</td>\n",
       "      <td>0.022205</td>\n",
       "    </tr>\n",
       "    <tr>\n",
       "      <th>max</th>\n",
       "      <td>2.873000</td>\n",
       "      <td>21.980000</td>\n",
       "      <td>542.200000</td>\n",
       "      <td>0.031130</td>\n",
       "      <td>0.396000</td>\n",
       "      <td>0.078950</td>\n",
       "      <td>0.029840</td>\n",
       "    </tr>\n",
       "  </tbody>\n",
       "</table>\n",
       "</div>"
      ],
      "text/plain": [
       "       radius error  perimeter error  area error  smoothness error  \\\n",
       "count    569.000000       569.000000  569.000000        569.000000   \n",
       "mean       0.405172         2.866059   40.337079          0.007041   \n",
       "std        0.277313         2.021855   45.491006          0.003003   \n",
       "min        0.111500         0.757000    6.802000          0.001713   \n",
       "5%         0.160100         1.132800   11.360000          0.003690   \n",
       "25%        0.232400         1.606000   17.850000          0.005169   \n",
       "50%        0.324200         2.287000   24.530000          0.006380   \n",
       "75%        0.478900         3.357000   45.190000          0.008146   \n",
       "99.7%      1.816248        13.313680  319.609600          0.022232   \n",
       "max        2.873000        21.980000  542.200000          0.031130   \n",
       "\n",
       "       concavity error  symmetry error  fractal dimension error  \n",
       "count       569.000000      569.000000               569.000000  \n",
       "mean          0.031894        0.020542                 0.003795  \n",
       "std           0.030186        0.008266                 0.002646  \n",
       "min           0.000000        0.007882                 0.000895  \n",
       "5%            0.003253        0.011758                 0.001522  \n",
       "25%           0.015090        0.015160                 0.002248  \n",
       "50%           0.025890        0.018730                 0.003187  \n",
       "75%           0.042050        0.023480                 0.004558  \n",
       "99.7%         0.197989        0.060172                 0.022205  \n",
       "max           0.396000        0.078950                 0.029840  "
      ]
     },
     "execution_count": 703,
     "metadata": {},
     "output_type": "execute_result"
    }
   ],
   "source": [
    "cancer_df.describe(percentiles=[0.05,.25,.5,.75,.997])[cancer_df.columns[cancer_df.skew()>1.96]]"
   ]
  },
  {
   "cell_type": "code",
   "execution_count": 704,
   "metadata": {},
   "outputs": [
    {
     "data": {
      "text/plain": [
       "<matplotlib.axes._subplots.AxesSubplot at 0x1fa32fe0ef0>"
      ]
     },
     "execution_count": 704,
     "metadata": {},
     "output_type": "execute_result"
    },
    {
     "data": {
      "image/png": "[encoded data removed]",
      "text/plain": [
       "<Figure size 3960x720 with 1 Axes>"
      ]
     },
     "metadata": {
      "needs_background": "light"
     },
     "output_type": "display_data"
    }
   ],
   "source": [
    "fig = plt.figure(figsize=(55,10))\n",
    "cancer_df.boxplot()"
   ]
  },
  {
   "cell_type": "code",
   "execution_count": 705,
   "metadata": {},
   "outputs": [
    {
     "data": {
      "text/plain": [
       "<matplotlib.axes._subplots.AxesSubplot at 0x1fa32ffc7b8>"
      ]
     },
     "execution_count": 705,
     "metadata": {},
     "output_type": "execute_result"
    },
    {
     "data": {
      "image/png": "[encoded data removed]",
      "text/plain": [
       "<Figure size 1440x1440 with 2 Axes>"
      ]
     },
     "metadata": {
      "needs_background": "light"
     },
     "output_type": "display_data"
    }
   ],
   "source": [
    "fig = plt.figure(figsize=(20,20))\n",
    "sns.heatmap(cancer_df.corr(),annot=True,annot_kws={'size':8})"
   ]
  },
  {
   "cell_type": "code",
   "execution_count": 706,
   "metadata": {},
   "outputs": [],
   "source": [
    "X = cancer_df.drop(labels=['target'],axis=1)"
   ]
  },
  {
   "cell_type": "code",
   "execution_count": 707,
   "metadata": {},
   "outputs": [],
   "source": [
    "y = cancer_df.target"
   ]
  },
  {
   "cell_type": "code",
   "execution_count": 708,
   "metadata": {},
   "outputs": [
    {
     "name": "stdout",
     "output_type": "stream",
     "text": [
      "<class 'pandas.core.frame.DataFrame'> <class 'pandas.core.series.Series'>\n"
     ]
    }
   ],
   "source": [
    "print(type(X),type(y))"
   ]
  },
  {
   "cell_type": "markdown",
   "metadata": {},
   "source": [
    "# Split the Data"
   ]
  },
  {
   "cell_type": "code",
   "execution_count": 709,
   "metadata": {},
   "outputs": [],
   "source": [
    "from sklearn.model_selection import train_test_split"
   ]
  },
  {
   "cell_type": "code",
   "execution_count": 710,
   "metadata": {},
   "outputs": [],
   "source": [
    "X_train, X_test, y_train, y_test = train_test_split(X,y,test_size=.25,random_state=101)"
   ]
  },
  {
   "cell_type": "markdown",
   "metadata": {},
   "source": [
    "# Scaling"
   ]
  },
  {
   "cell_type": "code",
   "execution_count": 711,
   "metadata": {},
   "outputs": [],
   "source": [
    "from sklearn.preprocessing import StandardScaler"
   ]
  },
  {
   "cell_type": "code",
   "execution_count": 712,
   "metadata": {},
   "outputs": [],
   "source": [
    "sc = StandardScaler()"
   ]
  },
  {
   "cell_type": "code",
   "execution_count": 713,
   "metadata": {},
   "outputs": [],
   "source": [
    "X_train = sc.fit_transform(X_train)"
   ]
  },
  {
   "cell_type": "code",
   "execution_count": 714,
   "metadata": {},
   "outputs": [],
   "source": [
    "X_train_scaled = pd.DataFrame(X_train)"
   ]
  },
  {
   "cell_type": "code",
   "execution_count": 715,
   "metadata": {},
   "outputs": [],
   "source": [
    "X_train_scaled.columns = cancer.feature_names"
   ]
  },
  {
   "cell_type": "code",
   "execution_count": 716,
   "metadata": {},
   "outputs": [],
   "source": [
    "X_test1 = sc.transform(X_test)"
   ]
  },
  {
   "cell_type": "code",
   "execution_count": 717,
   "metadata": {},
   "outputs": [],
   "source": [
    "X_test_scaled = pd.DataFrame(X_test)\n",
    "X_test_scaled.columns = cancer.feature_names"
   ]
  },
  {
   "cell_type": "code",
   "execution_count": null,
   "metadata": {},
   "outputs": [],
   "source": []
  },
  {
   "cell_type": "code",
   "execution_count": null,
   "metadata": {},
   "outputs": [],
   "source": []
  },
  {
   "cell_type": "markdown",
   "metadata": {},
   "source": [
    "# RFE"
   ]
  },
  {
   "cell_type": "code",
   "execution_count": 718,
   "metadata": {},
   "outputs": [],
   "source": [
    "from sklearn.feature_selection import RFE"
   ]
  },
  {
   "cell_type": "code",
   "execution_count": 719,
   "metadata": {},
   "outputs": [],
   "source": [
    "from sklearn.linear_model import LogisticRegression"
   ]
  },
  {
   "cell_type": "code",
   "execution_count": 720,
   "metadata": {},
   "outputs": [],
   "source": [
    "lgr = LogisticRegression()"
   ]
  },
  {
   "cell_type": "code",
   "execution_count": 721,
   "metadata": {},
   "outputs": [],
   "source": [
    "rfe = RFE(lgr)  # RFE(lgr,15)  --  default value half of the columns"
   ]
  },
  {
   "cell_type": "code",
   "execution_count": 722,
   "metadata": {},
   "outputs": [
    {
     "data": {
      "text/plain": [
       "RFE(estimator=LogisticRegression(C=1.0, class_weight=None, dual=False,\n",
       "                                 fit_intercept=True, intercept_scaling=1,\n",
       "                                 l1_ratio=None, max_iter=100,\n",
       "                                 multi_class='warn', n_jobs=None, penalty='l2',\n",
       "                                 random_state=None, solver='warn', tol=0.0001,\n",
       "                                 verbose=0, warm_start=False),\n",
       "    n_features_to_select=None, step=1, verbose=0)"
      ]
     },
     "execution_count": 722,
     "metadata": {},
     "output_type": "execute_result"
    }
   ],
   "source": [
    "rfe.fit(X_train_scaled,y_train)"
   ]
  },
  {
   "cell_type": "markdown",
   "metadata": {},
   "source": [
    "# select the columns depending on the rfe support"
   ]
  },
  {
   "cell_type": "code",
   "execution_count": 723,
   "metadata": {},
   "outputs": [
    {
     "data": {
      "text/plain": [
       "[('mean radius', False, 6),\n",
       " ('mean texture', False, 7),\n",
       " ('mean perimeter', False, 8),\n",
       " ('mean area', False, 4),\n",
       " ('mean smoothness', False, 16),\n",
       " ('mean compactness', False, 5),\n",
       " ('mean concavity', True, 1),\n",
       " ('mean concave points', True, 1),\n",
       " ('mean symmetry', False, 12),\n",
       " ('mean fractal dimension', False, 2),\n",
       " ('radius error', True, 1),\n",
       " ('texture error', False, 13),\n",
       " ('perimeter error', True, 1),\n",
       " ('area error', True, 1),\n",
       " ('smoothness error', False, 9),\n",
       " ('compactness error', True, 1),\n",
       " ('concavity error', False, 11),\n",
       " ('concave points error', False, 10),\n",
       " ('symmetry error', False, 14),\n",
       " ('fractal dimension error', True, 1),\n",
       " ('worst radius', True, 1),\n",
       " ('worst texture', True, 1),\n",
       " ('worst perimeter', True, 1),\n",
       " ('worst area', True, 1),\n",
       " ('worst smoothness', True, 1),\n",
       " ('worst compactness', False, 15),\n",
       " ('worst concavity', True, 1),\n",
       " ('worst concave points', True, 1),\n",
       " ('worst symmetry', True, 1),\n",
       " ('worst fractal dimension', False, 3)]"
      ]
     },
     "execution_count": 723,
     "metadata": {},
     "output_type": "execute_result"
    }
   ],
   "source": [
    "list(zip(X_train_scaled.columns,rfe.support_,rfe.ranking_))"
   ]
  },
  {
   "cell_type": "code",
   "execution_count": 724,
   "metadata": {},
   "outputs": [],
   "source": [
    "X_train_scaled_rfe = X_train_scaled[X_train_scaled.columns[rfe.support_]]"
   ]
  },
  {
   "cell_type": "code",
   "execution_count": 725,
   "metadata": {},
   "outputs": [
    {
     "data": {
      "text/plain": [
       "(426, 15)"
      ]
     },
     "execution_count": 725,
     "metadata": {},
     "output_type": "execute_result"
    }
   ],
   "source": [
    "X_train_scaled_rfe.shape"
   ]
  },
  {
   "cell_type": "code",
   "execution_count": 726,
   "metadata": {},
   "outputs": [
    {
     "data": {
      "text/plain": [
       "Index(['mean concavity', 'mean concave points', 'radius error',\n",
       "       'perimeter error', 'area error', 'compactness error',\n",
       "       'fractal dimension error', 'worst radius', 'worst texture',\n",
       "       'worst perimeter', 'worst area', 'worst smoothness', 'worst concavity',\n",
       "       'worst concave points', 'worst symmetry'],\n",
       "      dtype='object')"
      ]
     },
     "execution_count": 726,
     "metadata": {},
     "output_type": "execute_result"
    }
   ],
   "source": [
    "X_train_scaled_rfe.columns"
   ]
  },
  {
   "cell_type": "code",
   "execution_count": 727,
   "metadata": {
    "scrolled": true
   },
   "outputs": [
    {
     "data": {
      "text/html": [
       "<div>\n",
       "<style scoped>\n",
       "    .dataframe tbody tr th:only-of-type {\n",
       "        vertical-align: middle;\n",
       "    }\n",
       "\n",
       "    .dataframe tbody tr th {\n",
       "        vertical-align: top;\n",
       "    }\n",
       "\n",
       "    .dataframe thead th {\n",
       "        text-align: right;\n",
       "    }\n",
       "</style>\n",
       "<table border=\"1\" class=\"dataframe\">\n",
       "  <thead>\n",
       "    <tr style=\"text-align: right;\">\n",
       "      <th></th>\n",
       "      <th>mean concavity</th>\n",
       "      <th>mean concave points</th>\n",
       "      <th>radius error</th>\n",
       "      <th>perimeter error</th>\n",
       "      <th>area error</th>\n",
       "      <th>compactness error</th>\n",
       "      <th>fractal dimension error</th>\n",
       "      <th>worst radius</th>\n",
       "      <th>worst texture</th>\n",
       "      <th>worst perimeter</th>\n",
       "      <th>worst area</th>\n",
       "      <th>worst smoothness</th>\n",
       "      <th>worst concavity</th>\n",
       "      <th>worst concave points</th>\n",
       "      <th>worst symmetry</th>\n",
       "    </tr>\n",
       "  </thead>\n",
       "  <tbody>\n",
       "    <tr>\n",
       "      <th>0</th>\n",
       "      <td>-0.488062</td>\n",
       "      <td>-0.499701</td>\n",
       "      <td>-0.726156</td>\n",
       "      <td>-0.823571</td>\n",
       "      <td>-0.506883</td>\n",
       "      <td>-0.563365</td>\n",
       "      <td>-0.789535</td>\n",
       "      <td>-0.253909</td>\n",
       "      <td>-0.316013</td>\n",
       "      <td>-0.332409</td>\n",
       "      <td>-0.313127</td>\n",
       "      <td>-0.183956</td>\n",
       "      <td>-0.399728</td>\n",
       "      <td>-0.142570</td>\n",
       "      <td>-1.070124</td>\n",
       "    </tr>\n",
       "    <tr>\n",
       "      <th>1</th>\n",
       "      <td>-0.723068</td>\n",
       "      <td>-0.654921</td>\n",
       "      <td>-0.854323</td>\n",
       "      <td>-0.888766</td>\n",
       "      <td>-0.590993</td>\n",
       "      <td>-0.924582</td>\n",
       "      <td>-0.802422</td>\n",
       "      <td>-0.368088</td>\n",
       "      <td>-0.596425</td>\n",
       "      <td>-0.434877</td>\n",
       "      <td>-0.405998</td>\n",
       "      <td>-0.436942</td>\n",
       "      <td>-0.394561</td>\n",
       "      <td>-0.233524</td>\n",
       "      <td>0.571966</td>\n",
       "    </tr>\n",
       "    <tr>\n",
       "      <th>2</th>\n",
       "      <td>-0.586137</td>\n",
       "      <td>-0.658035</td>\n",
       "      <td>-0.656071</td>\n",
       "      <td>-0.689922</td>\n",
       "      <td>-0.439501</td>\n",
       "      <td>-0.745358</td>\n",
       "      <td>-0.676206</td>\n",
       "      <td>0.058042</td>\n",
       "      <td>-0.501343</td>\n",
       "      <td>-0.014408</td>\n",
       "      <td>-0.069533</td>\n",
       "      <td>-0.432504</td>\n",
       "      <td>-0.313302</td>\n",
       "      <td>-0.467817</td>\n",
       "      <td>1.095532</td>\n",
       "    </tr>\n",
       "    <tr>\n",
       "      <th>3</th>\n",
       "      <td>-0.363545</td>\n",
       "      <td>0.010342</td>\n",
       "      <td>-0.197228</td>\n",
       "      <td>-0.221605</td>\n",
       "      <td>-0.113663</td>\n",
       "      <td>-0.387024</td>\n",
       "      <td>-0.664835</td>\n",
       "      <td>0.404654</td>\n",
       "      <td>-0.064610</td>\n",
       "      <td>0.318316</td>\n",
       "      <td>0.238608</td>\n",
       "      <td>0.064592</td>\n",
       "      <td>-0.499776</td>\n",
       "      <td>-0.344065</td>\n",
       "      <td>-0.817861</td>\n",
       "    </tr>\n",
       "    <tr>\n",
       "      <th>4</th>\n",
       "      <td>-0.960557</td>\n",
       "      <td>-0.957053</td>\n",
       "      <td>-1.063029</td>\n",
       "      <td>-1.083807</td>\n",
       "      <td>-0.692632</td>\n",
       "      <td>-1.128561</td>\n",
       "      <td>-0.907792</td>\n",
       "      <td>-0.600522</td>\n",
       "      <td>-0.883283</td>\n",
       "      <td>-0.663661</td>\n",
       "      <td>-0.560670</td>\n",
       "      <td>-1.271352</td>\n",
       "      <td>-0.987663</td>\n",
       "      <td>-1.114059</td>\n",
       "      <td>-0.013475</td>\n",
       "    </tr>\n",
       "  </tbody>\n",
       "</table>\n",
       "</div>"
      ],
      "text/plain": [
       "   mean concavity  mean concave points  radius error  perimeter error  \\\n",
       "0       -0.488062            -0.499701     -0.726156        -0.823571   \n",
       "1       -0.723068            -0.654921     -0.854323        -0.888766   \n",
       "2       -0.586137            -0.658035     -0.656071        -0.689922   \n",
       "3       -0.363545             0.010342     -0.197228        -0.221605   \n",
       "4       -0.960557            -0.957053     -1.063029        -1.083807   \n",
       "\n",
       "   area error  compactness error  fractal dimension error  worst radius  \\\n",
       "0   -0.506883          -0.563365                -0.789535     -0.253909   \n",
       "1   -0.590993          -0.924582                -0.802422     -0.368088   \n",
       "2   -0.439501          -0.745358                -0.676206      0.058042   \n",
       "3   -0.113663          -0.387024                -0.664835      0.404654   \n",
       "4   -0.692632          -1.128561                -0.907792     -0.600522   \n",
       "\n",
       "   worst texture  worst perimeter  worst area  worst smoothness  \\\n",
       "0      -0.316013        -0.332409   -0.313127         -0.183956   \n",
       "1      -0.596425        -0.434877   -0.405998         -0.436942   \n",
       "2      -0.501343        -0.014408   -0.069533         -0.432504   \n",
       "3      -0.064610         0.318316    0.238608          0.064592   \n",
       "4      -0.883283        -0.663661   -0.560670         -1.271352   \n",
       "\n",
       "   worst concavity  worst concave points  worst symmetry  \n",
       "0        -0.399728             -0.142570       -1.070124  \n",
       "1        -0.394561             -0.233524        0.571966  \n",
       "2        -0.313302             -0.467817        1.095532  \n",
       "3        -0.499776             -0.344065       -0.817861  \n",
       "4        -0.987663             -1.114059       -0.013475  "
      ]
     },
     "execution_count": 727,
     "metadata": {},
     "output_type": "execute_result"
    }
   ],
   "source": [
    "X_train_scaled_rfe.head()"
   ]
  },
  {
   "cell_type": "code",
   "execution_count": null,
   "metadata": {},
   "outputs": [],
   "source": []
  },
  {
   "cell_type": "code",
   "execution_count": 728,
   "metadata": {},
   "outputs": [],
   "source": [
    "import statsmodels.api as sm"
   ]
  },
  {
   "cell_type": "code",
   "execution_count": 729,
   "metadata": {},
   "outputs": [],
   "source": [
    "X_train_scaled_rfe_sm = sm.add_constant(X_train_scaled_rfe)"
   ]
  },
  {
   "cell_type": "code",
   "execution_count": 730,
   "metadata": {},
   "outputs": [
    {
     "data": {
      "text/html": [
       "<div>\n",
       "<style scoped>\n",
       "    .dataframe tbody tr th:only-of-type {\n",
       "        vertical-align: middle;\n",
       "    }\n",
       "\n",
       "    .dataframe tbody tr th {\n",
       "        vertical-align: top;\n",
       "    }\n",
       "\n",
       "    .dataframe thead th {\n",
       "        text-align: right;\n",
       "    }\n",
       "</style>\n",
       "<table border=\"1\" class=\"dataframe\">\n",
       "  <thead>\n",
       "    <tr style=\"text-align: right;\">\n",
       "      <th></th>\n",
       "      <th>const</th>\n",
       "      <th>mean concavity</th>\n",
       "      <th>mean concave points</th>\n",
       "      <th>radius error</th>\n",
       "      <th>perimeter error</th>\n",
       "      <th>area error</th>\n",
       "      <th>compactness error</th>\n",
       "      <th>fractal dimension error</th>\n",
       "      <th>worst radius</th>\n",
       "      <th>worst texture</th>\n",
       "      <th>worst perimeter</th>\n",
       "      <th>worst area</th>\n",
       "      <th>worst smoothness</th>\n",
       "      <th>worst concavity</th>\n",
       "      <th>worst concave points</th>\n",
       "      <th>worst symmetry</th>\n",
       "    </tr>\n",
       "  </thead>\n",
       "  <tbody>\n",
       "    <tr>\n",
       "      <th>0</th>\n",
       "      <td>1.0</td>\n",
       "      <td>-0.488062</td>\n",
       "      <td>-0.499701</td>\n",
       "      <td>-0.726156</td>\n",
       "      <td>-0.823571</td>\n",
       "      <td>-0.506883</td>\n",
       "      <td>-0.563365</td>\n",
       "      <td>-0.789535</td>\n",
       "      <td>-0.253909</td>\n",
       "      <td>-0.316013</td>\n",
       "      <td>-0.332409</td>\n",
       "      <td>-0.313127</td>\n",
       "      <td>-0.183956</td>\n",
       "      <td>-0.399728</td>\n",
       "      <td>-0.142570</td>\n",
       "      <td>-1.070124</td>\n",
       "    </tr>\n",
       "    <tr>\n",
       "      <th>1</th>\n",
       "      <td>1.0</td>\n",
       "      <td>-0.723068</td>\n",
       "      <td>-0.654921</td>\n",
       "      <td>-0.854323</td>\n",
       "      <td>-0.888766</td>\n",
       "      <td>-0.590993</td>\n",
       "      <td>-0.924582</td>\n",
       "      <td>-0.802422</td>\n",
       "      <td>-0.368088</td>\n",
       "      <td>-0.596425</td>\n",
       "      <td>-0.434877</td>\n",
       "      <td>-0.405998</td>\n",
       "      <td>-0.436942</td>\n",
       "      <td>-0.394561</td>\n",
       "      <td>-0.233524</td>\n",
       "      <td>0.571966</td>\n",
       "    </tr>\n",
       "    <tr>\n",
       "      <th>2</th>\n",
       "      <td>1.0</td>\n",
       "      <td>-0.586137</td>\n",
       "      <td>-0.658035</td>\n",
       "      <td>-0.656071</td>\n",
       "      <td>-0.689922</td>\n",
       "      <td>-0.439501</td>\n",
       "      <td>-0.745358</td>\n",
       "      <td>-0.676206</td>\n",
       "      <td>0.058042</td>\n",
       "      <td>-0.501343</td>\n",
       "      <td>-0.014408</td>\n",
       "      <td>-0.069533</td>\n",
       "      <td>-0.432504</td>\n",
       "      <td>-0.313302</td>\n",
       "      <td>-0.467817</td>\n",
       "      <td>1.095532</td>\n",
       "    </tr>\n",
       "    <tr>\n",
       "      <th>3</th>\n",
       "      <td>1.0</td>\n",
       "      <td>-0.363545</td>\n",
       "      <td>0.010342</td>\n",
       "      <td>-0.197228</td>\n",
       "      <td>-0.221605</td>\n",
       "      <td>-0.113663</td>\n",
       "      <td>-0.387024</td>\n",
       "      <td>-0.664835</td>\n",
       "      <td>0.404654</td>\n",
       "      <td>-0.064610</td>\n",
       "      <td>0.318316</td>\n",
       "      <td>0.238608</td>\n",
       "      <td>0.064592</td>\n",
       "      <td>-0.499776</td>\n",
       "      <td>-0.344065</td>\n",
       "      <td>-0.817861</td>\n",
       "    </tr>\n",
       "    <tr>\n",
       "      <th>4</th>\n",
       "      <td>1.0</td>\n",
       "      <td>-0.960557</td>\n",
       "      <td>-0.957053</td>\n",
       "      <td>-1.063029</td>\n",
       "      <td>-1.083807</td>\n",
       "      <td>-0.692632</td>\n",
       "      <td>-1.128561</td>\n",
       "      <td>-0.907792</td>\n",
       "      <td>-0.600522</td>\n",
       "      <td>-0.883283</td>\n",
       "      <td>-0.663661</td>\n",
       "      <td>-0.560670</td>\n",
       "      <td>-1.271352</td>\n",
       "      <td>-0.987663</td>\n",
       "      <td>-1.114059</td>\n",
       "      <td>-0.013475</td>\n",
       "    </tr>\n",
       "  </tbody>\n",
       "</table>\n",
       "</div>"
      ],
      "text/plain": [
       "   const  mean concavity  mean concave points  radius error  perimeter error  \\\n",
       "0    1.0       -0.488062            -0.499701     -0.726156        -0.823571   \n",
       "1    1.0       -0.723068            -0.654921     -0.854323        -0.888766   \n",
       "2    1.0       -0.586137            -0.658035     -0.656071        -0.689922   \n",
       "3    1.0       -0.363545             0.010342     -0.197228        -0.221605   \n",
       "4    1.0       -0.960557            -0.957053     -1.063029        -1.083807   \n",
       "\n",
       "   area error  compactness error  fractal dimension error  worst radius  \\\n",
       "0   -0.506883          -0.563365                -0.789535     -0.253909   \n",
       "1   -0.590993          -0.924582                -0.802422     -0.368088   \n",
       "2   -0.439501          -0.745358                -0.676206      0.058042   \n",
       "3   -0.113663          -0.387024                -0.664835      0.404654   \n",
       "4   -0.692632          -1.128561                -0.907792     -0.600522   \n",
       "\n",
       "   worst texture  worst perimeter  worst area  worst smoothness  \\\n",
       "0      -0.316013        -0.332409   -0.313127         -0.183956   \n",
       "1      -0.596425        -0.434877   -0.405998         -0.436942   \n",
       "2      -0.501343        -0.014408   -0.069533         -0.432504   \n",
       "3      -0.064610         0.318316    0.238608          0.064592   \n",
       "4      -0.883283        -0.663661   -0.560670         -1.271352   \n",
       "\n",
       "   worst concavity  worst concave points  worst symmetry  \n",
       "0        -0.399728             -0.142570       -1.070124  \n",
       "1        -0.394561             -0.233524        0.571966  \n",
       "2        -0.313302             -0.467817        1.095532  \n",
       "3        -0.499776             -0.344065       -0.817861  \n",
       "4        -0.987663             -1.114059       -0.013475  "
      ]
     },
     "execution_count": 730,
     "metadata": {},
     "output_type": "execute_result"
    }
   ],
   "source": [
    "X_train_scaled_rfe_sm.head(5)"
   ]
  },
  {
   "cell_type": "code",
   "execution_count": 731,
   "metadata": {},
   "outputs": [],
   "source": [
    "col = X_train_scaled_rfe_sm.columns"
   ]
  },
  {
   "cell_type": "code",
   "execution_count": 732,
   "metadata": {},
   "outputs": [],
   "source": [
    "logml = sm.GLM(list(y_train),X_train_scaled_rfe_sm,family=sm.families.Binomial()).fit()"
   ]
  },
  {
   "cell_type": "code",
   "execution_count": 733,
   "metadata": {},
   "outputs": [
    {
     "name": "stdout",
     "output_type": "stream",
     "text": [
      "                 Generalized Linear Model Regression Results                  \n",
      "==============================================================================\n",
      "Dep. Variable:                      y   No. Observations:                  426\n",
      "Model:                            GLM   Df Residuals:                      410\n",
      "Model Family:                Binomial   Df Model:                           15\n",
      "Link Function:                  logit   Scale:                          1.0000\n",
      "Method:                          IRLS   Log-Likelihood:                -19.124\n",
      "Date:                Fri, 13 Sep 2019   Deviance:                       38.249\n",
      "Time:                        00:01:23   Pearson chi2:                     43.6\n",
      "No. Iterations:                    11                                         \n",
      "Covariance Type:            nonrobust                                         \n",
      "===========================================================================================\n",
      "                              coef    std err          z      P>|z|      [0.025      0.975]\n",
      "-------------------------------------------------------------------------------------------\n",
      "const                      -0.0122      1.879     -0.007      0.995      -3.694       3.670\n",
      "mean concavity             -0.1388      3.435     -0.040      0.968      -6.872       6.595\n",
      "mean concave points        -1.8853      2.919     -0.646      0.518      -7.607       3.836\n",
      "radius error               -8.9169      8.978     -0.993      0.321     -26.514       8.680\n",
      "perimeter error             4.0986      7.031      0.583      0.560      -9.682      17.879\n",
      "area error                 -4.1876     11.906     -0.352      0.725     -27.522      19.147\n",
      "compactness error           2.5030      1.664      1.504      0.133      -0.759       5.765\n",
      "fractal dimension error     1.2403      1.707      0.727      0.467      -2.106       4.586\n",
      "worst radius              -13.5010     26.641     -0.507      0.612     -65.715      38.713\n",
      "worst texture              -2.8544      0.840     -3.397      0.001      -4.502      -1.207\n",
      "worst perimeter             1.4917     16.003      0.093      0.926     -29.873      32.857\n",
      "worst area                  8.9364     23.904      0.374      0.709     -37.914      55.787\n",
      "worst smoothness           -1.2535      0.937     -1.338      0.181      -3.090       0.583\n",
      "worst concavity            -2.6308      2.972     -0.885      0.376      -8.457       3.195\n",
      "worst concave points       -3.0427      2.472     -1.231      0.218      -7.889       1.803\n",
      "worst symmetry             -1.5358      1.122     -1.369      0.171      -3.735       0.664\n",
      "===========================================================================================\n"
     ]
    }
   ],
   "source": [
    "print(logml.summary())"
   ]
  },
  {
   "cell_type": "code",
   "execution_count": 734,
   "metadata": {},
   "outputs": [
    {
     "data": {
      "text/plain": [
       "const                      0.994799\n",
       "mean concavity             0.967777\n",
       "worst perimeter            0.925735\n",
       "area error                 0.725038\n",
       "worst area                 0.708516\n",
       "worst radius               0.612306\n",
       "perimeter error            0.559929\n",
       "mean concave points        0.518398\n",
       "fractal dimension error    0.467483\n",
       "worst concavity            0.376118\n",
       "radius error               0.320624\n",
       "worst concave points       0.218455\n",
       "worst smoothness           0.180956\n",
       "worst symmetry             0.171150\n",
       "compactness error          0.132617\n",
       "worst texture              0.000682\n",
       "dtype: float64"
      ]
     },
     "execution_count": 734,
     "metadata": {},
     "output_type": "execute_result"
    }
   ],
   "source": [
    "logml.pvalues.sort_values(ascending=False)"
   ]
  },
  {
   "cell_type": "code",
   "execution_count": 735,
   "metadata": {},
   "outputs": [],
   "source": [
    "col = col.drop('mean concavity')"
   ]
  },
  {
   "cell_type": "code",
   "execution_count": 736,
   "metadata": {},
   "outputs": [],
   "source": [
    "X_train_scaled_rfe_sm = X_train_scaled_rfe_sm[col]"
   ]
  },
  {
   "cell_type": "code",
   "execution_count": 737,
   "metadata": {},
   "outputs": [],
   "source": [
    "logml1 = sm.GLM(list(y_train),X_train_scaled_rfe_sm,family=sm.families.Binomial()).fit()"
   ]
  },
  {
   "cell_type": "code",
   "execution_count": 738,
   "metadata": {},
   "outputs": [
    {
     "name": "stdout",
     "output_type": "stream",
     "text": [
      "                 Generalized Linear Model Regression Results                  \n",
      "==============================================================================\n",
      "Dep. Variable:                      y   No. Observations:                  426\n",
      "Model:                            GLM   Df Residuals:                      411\n",
      "Model Family:                Binomial   Df Model:                           14\n",
      "Link Function:                  logit   Scale:                          1.0000\n",
      "Method:                          IRLS   Log-Likelihood:                -19.125\n",
      "Date:                Fri, 13 Sep 2019   Deviance:                       38.251\n",
      "Time:                        00:01:24   Pearson chi2:                     43.5\n",
      "No. Iterations:                    11                                         \n",
      "Covariance Type:            nonrobust                                         \n",
      "===========================================================================================\n",
      "                              coef    std err          z      P>|z|      [0.025      0.975]\n",
      "-------------------------------------------------------------------------------------------\n",
      "const                      -0.0087      1.881     -0.005      0.996      -3.696       3.679\n",
      "mean concave points        -1.9700      2.030     -0.970      0.332      -5.950       2.010\n",
      "radius error               -8.8898      9.006     -0.987      0.324     -26.542       8.762\n",
      "perimeter error             4.0807      7.065      0.578      0.564      -9.766      17.928\n",
      "area error                 -4.1863     11.903     -0.352      0.725     -27.516      19.143\n",
      "compactness error           2.5101      1.662      1.510      0.131      -0.748       5.768\n",
      "fractal dimension error     1.2224      1.684      0.726      0.468      -2.078       4.523\n",
      "worst radius              -13.3089     26.344     -0.505      0.613     -64.942      38.324\n",
      "worst texture              -2.8517      0.837     -3.407      0.001      -4.492      -1.211\n",
      "worst perimeter             1.3627     15.809      0.086      0.931     -29.622      32.347\n",
      "worst area                  8.8703     23.877      0.371      0.710     -37.929      55.669\n",
      "worst smoothness           -1.2429      0.899     -1.382      0.167      -3.005       0.519\n",
      "worst concavity            -2.7246      1.872     -1.456      0.145      -6.393       0.944\n",
      "worst concave points       -2.9966      2.194     -1.365      0.172      -7.298       1.305\n",
      "worst symmetry             -1.5240      1.083     -1.408      0.159      -3.646       0.598\n",
      "===========================================================================================\n"
     ]
    }
   ],
   "source": [
    "print(logml1.summary())"
   ]
  },
  {
   "cell_type": "code",
   "execution_count": 739,
   "metadata": {},
   "outputs": [
    {
     "data": {
      "text/plain": [
       "const                      0.996324\n",
       "worst perimeter            0.931307\n",
       "area error                 0.725062\n",
       "worst area                 0.710271\n",
       "worst radius               0.613419\n",
       "perimeter error            0.563539\n",
       "fractal dimension error    0.467951\n",
       "mean concave points        0.331939\n",
       "radius error               0.323610\n",
       "worst concave points       0.172099\n",
       "worst smoothness           0.166869\n",
       "worst symmetry             0.159233\n",
       "worst concavity            0.145466\n",
       "compactness error          0.131058\n",
       "worst texture              0.000657\n",
       "dtype: float64"
      ]
     },
     "execution_count": 739,
     "metadata": {},
     "output_type": "execute_result"
    }
   ],
   "source": [
    "logml1.pvalues.sort_values(ascending=False)"
   ]
  },
  {
   "cell_type": "code",
   "execution_count": null,
   "metadata": {},
   "outputs": [],
   "source": []
  },
  {
   "cell_type": "code",
   "execution_count": 740,
   "metadata": {},
   "outputs": [],
   "source": [
    "col = col.drop('worst perimeter')"
   ]
  },
  {
   "cell_type": "code",
   "execution_count": 741,
   "metadata": {},
   "outputs": [],
   "source": [
    "X_train_scaled_rfe_sm = X_train_scaled_rfe_sm[col]"
   ]
  },
  {
   "cell_type": "code",
   "execution_count": 742,
   "metadata": {},
   "outputs": [],
   "source": [
    "logml2 = sm.GLM(list(y_train),X_train_scaled_rfe_sm,family=sm.families.Binomial()).fit()"
   ]
  },
  {
   "cell_type": "code",
   "execution_count": 743,
   "metadata": {},
   "outputs": [
    {
     "name": "stdout",
     "output_type": "stream",
     "text": [
      "                 Generalized Linear Model Regression Results                  \n",
      "==============================================================================\n",
      "Dep. Variable:                      y   No. Observations:                  426\n",
      "Model:                            GLM   Df Residuals:                      412\n",
      "Model Family:                Binomial   Df Model:                           13\n",
      "Link Function:                  logit   Scale:                          1.0000\n",
      "Method:                          IRLS   Log-Likelihood:                -19.129\n",
      "Date:                Fri, 13 Sep 2019   Deviance:                       38.258\n",
      "Time:                        00:01:24   Pearson chi2:                     43.3\n",
      "No. Iterations:                    11                                         \n",
      "Covariance Type:            nonrobust                                         \n",
      "===========================================================================================\n",
      "                              coef    std err          z      P>|z|      [0.025      0.975]\n",
      "-------------------------------------------------------------------------------------------\n",
      "const                      -0.0449      1.826     -0.025      0.980      -3.624       3.534\n",
      "mean concave points        -1.8963      1.828     -1.037      0.300      -5.479       1.687\n",
      "radius error               -9.3864      6.940     -1.353      0.176     -22.988       4.215\n",
      "perimeter error             4.5849      3.949      1.161      0.246      -3.154      12.324\n",
      "area error                 -4.1244     11.911     -0.346      0.729     -27.470      19.221\n",
      "compactness error           2.4990      1.643      1.521      0.128      -0.721       5.719\n",
      "fractal dimension error     1.2236      1.600      0.765      0.444      -1.911       4.359\n",
      "worst radius              -11.6948     18.377     -0.636      0.525     -47.713      24.324\n",
      "worst texture              -2.8472      0.835     -3.412      0.001      -4.483      -1.212\n",
      "worst area                  8.4347     23.208      0.363      0.716     -37.052      53.921\n",
      "worst smoothness           -1.2403      0.898     -1.382      0.167      -3.000       0.519\n",
      "worst concavity            -2.7013      1.841     -1.467      0.142      -6.309       0.907\n",
      "worst concave points       -3.0095      2.189     -1.375      0.169      -7.300       1.281\n",
      "worst symmetry             -1.5079      1.061     -1.422      0.155      -3.587       0.571\n",
      "===========================================================================================\n"
     ]
    }
   ],
   "source": [
    "print(logml2.summary())"
   ]
  },
  {
   "cell_type": "code",
   "execution_count": 744,
   "metadata": {},
   "outputs": [
    {
     "data": {
      "text/plain": [
       "const                      0.980369\n",
       "area error                 0.729150\n",
       "worst area                 0.716275\n",
       "worst radius               0.524528\n",
       "fractal dimension error    0.444285\n",
       "mean concave points        0.299575\n",
       "perimeter error            0.245599\n",
       "radius error               0.176195\n",
       "worst concave points       0.169163\n",
       "worst smoothness           0.167101\n",
       "worst symmetry             0.155061\n",
       "worst concavity            0.142266\n",
       "compactness error          0.128199\n",
       "worst texture              0.000645\n",
       "dtype: float64"
      ]
     },
     "execution_count": 744,
     "metadata": {},
     "output_type": "execute_result"
    }
   ],
   "source": [
    "logml2.pvalues.sort_values(ascending=False)"
   ]
  },
  {
   "cell_type": "code",
   "execution_count": null,
   "metadata": {},
   "outputs": [],
   "source": []
  },
  {
   "cell_type": "code",
   "execution_count": 745,
   "metadata": {},
   "outputs": [
    {
     "name": "stdout",
     "output_type": "stream",
     "text": [
      "                 Generalized Linear Model Regression Results                  \n",
      "==============================================================================\n",
      "Dep. Variable:                      y   No. Observations:                  426\n",
      "Model:                            GLM   Df Residuals:                      413\n",
      "Model Family:                Binomial   Df Model:                           12\n",
      "Link Function:                  logit   Scale:                          1.0000\n",
      "Method:                          IRLS   Log-Likelihood:                -19.194\n",
      "Date:                Fri, 13 Sep 2019   Deviance:                       38.387\n",
      "Time:                        00:01:25   Pearson chi2:                     44.1\n",
      "No. Iterations:                    11                                         \n",
      "Covariance Type:            nonrobust                                         \n",
      "===========================================================================================\n",
      "                              coef    std err          z      P>|z|      [0.025      0.975]\n",
      "-------------------------------------------------------------------------------------------\n",
      "const                      -0.0750      1.767     -0.042      0.966      -3.538       3.388\n",
      "mean concave points        -1.9350      1.836     -1.054      0.292      -5.533       1.663\n",
      "radius error              -11.0273      5.099     -2.163      0.031     -21.020      -1.034\n",
      "perimeter error             4.3490      3.859      1.127      0.260      -3.215      11.913\n",
      "compactness error           2.1889      1.340      1.633      0.102      -0.438       4.815\n",
      "fractal dimension error     1.3380      1.429      0.936      0.349      -1.464       4.140\n",
      "worst radius               -8.5749     15.884     -0.540      0.589     -39.706      22.556\n",
      "worst texture              -2.8837      0.833     -3.463      0.001      -4.516      -1.252\n",
      "worst area                  3.5781     18.539      0.193      0.847     -32.759      39.915\n",
      "worst smoothness           -1.2185      0.893     -1.364      0.173      -2.970       0.533\n",
      "worst concavity            -2.4015      1.580     -1.520      0.129      -5.498       0.695\n",
      "worst concave points       -3.1709      2.206     -1.437      0.151      -7.495       1.153\n",
      "worst symmetry             -1.4362      1.044     -1.376      0.169      -3.482       0.610\n",
      "===========================================================================================\n"
     ]
    },
    {
     "data": {
      "text/plain": [
       "const                      0.966146\n",
       "worst area                 0.846961\n",
       "worst radius               0.589291\n",
       "fractal dimension error    0.349249\n",
       "mean concave points        0.291787\n",
       "perimeter error            0.259768\n",
       "worst smoothness           0.172598\n",
       "worst symmetry             0.168866\n",
       "worst concave points       0.150611\n",
       "worst concavity            0.128510\n",
       "compactness error          0.102379\n",
       "radius error               0.030557\n",
       "worst texture              0.000534\n",
       "dtype: float64"
      ]
     },
     "execution_count": 745,
     "metadata": {},
     "output_type": "execute_result"
    }
   ],
   "source": [
    "col = col.drop('area error')\n",
    "X_train_scaled_rfe_sm = X_train_scaled_rfe_sm[col]\n",
    "logml3 = sm.GLM(list(y_train),X_train_scaled_rfe_sm,family=sm.families.Binomial()).fit()\n",
    "print(logml3.summary())\n",
    "logml3.pvalues.sort_values(ascending=False)"
   ]
  },
  {
   "cell_type": "code",
   "execution_count": null,
   "metadata": {},
   "outputs": [],
   "source": []
  },
  {
   "cell_type": "code",
   "execution_count": 746,
   "metadata": {},
   "outputs": [
    {
     "name": "stdout",
     "output_type": "stream",
     "text": [
      "                 Generalized Linear Model Regression Results                  \n",
      "==============================================================================\n",
      "Dep. Variable:                      y   No. Observations:                  426\n",
      "Model:                            GLM   Df Residuals:                      414\n",
      "Model Family:                Binomial   Df Model:                           11\n",
      "Link Function:                  logit   Scale:                          1.0000\n",
      "Method:                          IRLS   Log-Likelihood:                -19.212\n",
      "Date:                Fri, 13 Sep 2019   Deviance:                       38.424\n",
      "Time:                        00:01:25   Pearson chi2:                     45.4\n",
      "No. Iterations:                    11                                         \n",
      "Covariance Type:            nonrobust                                         \n",
      "===========================================================================================\n",
      "                              coef    std err          z      P>|z|      [0.025      0.975]\n",
      "-------------------------------------------------------------------------------------------\n",
      "const                      -0.3855      0.737     -0.523      0.601      -1.831       1.060\n",
      "mean concave points        -1.9209      1.829     -1.050      0.293      -5.505       1.663\n",
      "radius error              -10.6478      4.658     -2.286      0.022     -19.777      -1.519\n",
      "perimeter error             4.2096      3.803      1.107      0.268      -3.244      11.663\n",
      "compactness error           2.1190      1.267      1.673      0.094      -0.364       4.601\n",
      "fractal dimension error     1.3040      1.380      0.945      0.345      -1.400       4.008\n",
      "worst radius               -5.5412      1.894     -2.926      0.003      -9.253      -1.830\n",
      "worst texture              -2.8678      0.830     -3.456      0.001      -4.494      -1.241\n",
      "worst smoothness           -1.1965      0.883     -1.355      0.176      -2.928       0.535\n",
      "worst concavity            -2.1916      1.104     -1.985      0.047      -4.355      -0.028\n",
      "worst concave points       -3.3008      2.111     -1.563      0.118      -7.439       0.837\n",
      "worst symmetry             -1.4199      1.028     -1.381      0.167      -3.436       0.596\n",
      "===========================================================================================\n"
     ]
    },
    {
     "data": {
      "text/plain": [
       "const                      0.601185\n",
       "fractal dimension error    0.344515\n",
       "mean concave points        0.293492\n",
       "perimeter error            0.268334\n",
       "worst smoothness           0.175529\n",
       "worst symmetry             0.167380\n",
       "worst concave points       0.117975\n",
       "compactness error          0.094338\n",
       "worst concavity            0.047128\n",
       "radius error               0.022254\n",
       "worst radius               0.003432\n",
       "worst texture              0.000549\n",
       "dtype: float64"
      ]
     },
     "execution_count": 746,
     "metadata": {},
     "output_type": "execute_result"
    }
   ],
   "source": [
    "col = col.drop('worst area')\n",
    "X_train_scaled_rfe_sm = X_train_scaled_rfe_sm[col]\n",
    "logml4 = sm.GLM(list(y_train),X_train_scaled_rfe_sm,family=sm.families.Binomial()).fit()\n",
    "print(logml4.summary())\n",
    "logml4.pvalues.sort_values(ascending=False)"
   ]
  },
  {
   "cell_type": "code",
   "execution_count": 747,
   "metadata": {},
   "outputs": [
    {
     "name": "stdout",
     "output_type": "stream",
     "text": [
      "                 Generalized Linear Model Regression Results                  \n",
      "==============================================================================\n",
      "Dep. Variable:                      y   No. Observations:                  426\n",
      "Model:                            GLM   Df Residuals:                      415\n",
      "Model Family:                Binomial   Df Model:                           10\n",
      "Link Function:                  logit   Scale:                          1.0000\n",
      "Method:                          IRLS   Log-Likelihood:                -19.748\n",
      "Date:                Fri, 13 Sep 2019   Deviance:                       39.496\n",
      "Time:                        00:01:25   Pearson chi2:                     41.2\n",
      "No. Iterations:                    11                                         \n",
      "Covariance Type:            nonrobust                                         \n",
      "===========================================================================================\n",
      "                              coef    std err          z      P>|z|      [0.025      0.975]\n",
      "-------------------------------------------------------------------------------------------\n",
      "const                      -0.2568      0.718     -0.358      0.720      -1.664       1.150\n",
      "radius error              -10.2655      4.320     -2.376      0.017     -18.732      -1.798\n",
      "perimeter error             3.3908      3.424      0.990      0.322      -3.320      10.102\n",
      "compactness error           1.7236      1.155      1.493      0.136      -0.540       3.987\n",
      "fractal dimension error     1.2991      1.367      0.951      0.342      -1.379       3.978\n",
      "worst radius               -5.7666      1.845     -3.125      0.002      -9.383      -2.150\n",
      "worst texture              -2.8331      0.812     -3.487      0.000      -4.425      -1.241\n",
      "worst smoothness           -1.4175      0.845     -1.678      0.093      -3.073       0.238\n",
      "worst concavity            -2.0339      1.022     -1.991      0.047      -4.036      -0.031\n",
      "worst concave points       -4.5409      1.840     -2.468      0.014      -8.147      -0.935\n",
      "worst symmetry             -0.8226      0.817     -1.007      0.314      -2.424       0.779\n",
      "===========================================================================================\n"
     ]
    },
    {
     "data": {
      "text/plain": [
       "const                      0.720492\n",
       "fractal dimension error    0.341787\n",
       "perimeter error            0.322052\n",
       "worst symmetry             0.314070\n",
       "compactness error          0.135535\n",
       "worst smoothness           0.093289\n",
       "worst concavity            0.046507\n",
       "radius error               0.017489\n",
       "worst concave points       0.013582\n",
       "worst radius               0.001777\n",
       "worst texture              0.000488\n",
       "dtype: float64"
      ]
     },
     "execution_count": 747,
     "metadata": {},
     "output_type": "execute_result"
    }
   ],
   "source": [
    "col = col.drop('mean concave points')\n",
    "X_train_scaled_rfe_sm = X_train_scaled_rfe_sm[col]\n",
    "logml5 = sm.GLM(list(y_train),X_train_scaled_rfe_sm,family=sm.families.Binomial()).fit()\n",
    "print(logml5.summary())\n",
    "logml5.pvalues.sort_values(ascending=False)"
   ]
  },
  {
   "cell_type": "code",
   "execution_count": null,
   "metadata": {},
   "outputs": [],
   "source": []
  },
  {
   "cell_type": "code",
   "execution_count": 748,
   "metadata": {},
   "outputs": [
    {
     "name": "stdout",
     "output_type": "stream",
     "text": [
      "                 Generalized Linear Model Regression Results                  \n",
      "==============================================================================\n",
      "Dep. Variable:                      y   No. Observations:                  426\n",
      "Model:                            GLM   Df Residuals:                      416\n",
      "Model Family:                Binomial   Df Model:                            9\n",
      "Link Function:                  logit   Scale:                          1.0000\n",
      "Method:                          IRLS   Log-Likelihood:                -20.268\n",
      "Date:                Fri, 13 Sep 2019   Deviance:                       40.536\n",
      "Time:                        00:01:25   Pearson chi2:                     46.8\n",
      "No. Iterations:                    11                                         \n",
      "Covariance Type:            nonrobust                                         \n",
      "===========================================================================================\n",
      "                              coef    std err          z      P>|z|      [0.025      0.975]\n",
      "-------------------------------------------------------------------------------------------\n",
      "const                      -0.1633      0.714     -0.229      0.819      -1.563       1.236\n",
      "radius error               -6.9180      2.181     -3.171      0.002     -11.194      -2.642\n",
      "compactness error           1.5889      1.183      1.343      0.179      -0.730       3.908\n",
      "fractal dimension error     1.6128      1.745      0.924      0.356      -1.808       5.034\n",
      "worst radius               -5.3613      1.698     -3.158      0.002      -8.689      -2.034\n",
      "worst texture              -2.7251      0.753     -3.620      0.000      -4.201      -1.249\n",
      "worst smoothness           -1.2720      0.797     -1.595      0.111      -2.835       0.291\n",
      "worst concavity            -2.1570      1.064     -2.027      0.043      -4.242      -0.072\n",
      "worst concave points       -4.0362      1.650     -2.446      0.014      -7.271      -0.802\n",
      "worst symmetry             -0.8369      0.778     -1.076      0.282      -2.362       0.688\n",
      "===========================================================================================\n"
     ]
    },
    {
     "data": {
      "text/plain": [
       "const                      0.819105\n",
       "fractal dimension error    0.355504\n",
       "worst symmetry             0.282059\n",
       "compactness error          0.179326\n",
       "worst smoothness           0.110615\n",
       "worst concavity            0.042629\n",
       "worst concave points       0.014456\n",
       "worst radius               0.001589\n",
       "radius error               0.001518\n",
       "worst texture              0.000295\n",
       "dtype: float64"
      ]
     },
     "execution_count": 748,
     "metadata": {},
     "output_type": "execute_result"
    }
   ],
   "source": [
    "col = col.drop('perimeter error')\n",
    "X_train_scaled_rfe_sm = X_train_scaled_rfe_sm[col]\n",
    "logml6 = sm.GLM(list(y_train),X_train_scaled_rfe_sm,family=sm.families.Binomial()).fit()\n",
    "print(logml6.summary())\n",
    "logml6.pvalues.sort_values(ascending=False)"
   ]
  },
  {
   "cell_type": "code",
   "execution_count": null,
   "metadata": {},
   "outputs": [],
   "source": []
  },
  {
   "cell_type": "code",
   "execution_count": 749,
   "metadata": {},
   "outputs": [
    {
     "name": "stdout",
     "output_type": "stream",
     "text": [
      "                 Generalized Linear Model Regression Results                  \n",
      "==============================================================================\n",
      "Dep. Variable:                      y   No. Observations:                  426\n",
      "Model:                            GLM   Df Residuals:                      417\n",
      "Model Family:                Binomial   Df Model:                            8\n",
      "Link Function:                  logit   Scale:                          1.0000\n",
      "Method:                          IRLS   Log-Likelihood:                -20.968\n",
      "Date:                Fri, 13 Sep 2019   Deviance:                       41.937\n",
      "Time:                        00:01:25   Pearson chi2:                     47.9\n",
      "No. Iterations:                    11                                         \n",
      "Covariance Type:            nonrobust                                         \n",
      "===========================================================================================\n",
      "                              coef    std err          z      P>|z|      [0.025      0.975]\n",
      "-------------------------------------------------------------------------------------------\n",
      "const                       0.0938      0.661      0.142      0.887      -1.202       1.389\n",
      "radius error               -6.3226      1.885     -3.354      0.001     -10.018      -2.628\n",
      "compactness error           1.1855      1.079      1.099      0.272      -0.929       3.300\n",
      "fractal dimension error     1.6241      1.741      0.933      0.351      -1.788       5.036\n",
      "worst radius               -5.0303      1.557     -3.231      0.001      -8.082      -1.979\n",
      "worst texture              -2.6705      0.710     -3.762      0.000      -4.062      -1.279\n",
      "worst smoothness           -1.3565      0.759     -1.788      0.074      -2.843       0.130\n",
      "worst concavity            -2.0928      0.994     -2.106      0.035      -4.040      -0.145\n",
      "worst concave points       -4.4855      1.555     -2.884      0.004      -7.534      -1.437\n",
      "===========================================================================================\n"
     ]
    },
    {
     "data": {
      "text/plain": [
       "const                      0.887113\n",
       "fractal dimension error    0.350832\n",
       "compactness error          0.271844\n",
       "worst smoothness           0.073751\n",
       "worst concavity            0.035195\n",
       "worst concave points       0.003926\n",
       "worst radius               0.001233\n",
       "radius error               0.000797\n",
       "worst texture              0.000168\n",
       "dtype: float64"
      ]
     },
     "execution_count": 749,
     "metadata": {},
     "output_type": "execute_result"
    }
   ],
   "source": [
    "col = col.drop('worst symmetry')\n",
    "X_train_scaled_rfe_sm = X_train_scaled_rfe_sm[col]\n",
    "logml7 = sm.GLM(list(y_train),X_train_scaled_rfe_sm,family=sm.families.Binomial()).fit()\n",
    "print(logml7.summary())\n",
    "logml7.pvalues.sort_values(ascending=False)"
   ]
  },
  {
   "cell_type": "code",
   "execution_count": 750,
   "metadata": {},
   "outputs": [
    {
     "name": "stdout",
     "output_type": "stream",
     "text": [
      "                 Generalized Linear Model Regression Results                  \n",
      "==============================================================================\n",
      "Dep. Variable:                      y   No. Observations:                  426\n",
      "Model:                            GLM   Df Residuals:                      418\n",
      "Model Family:                Binomial   Df Model:                            7\n",
      "Link Function:                  logit   Scale:                          1.0000\n",
      "Method:                          IRLS   Log-Likelihood:                -22.199\n",
      "Date:                Fri, 13 Sep 2019   Deviance:                       44.398\n",
      "Time:                        00:01:25   Pearson chi2:                     61.2\n",
      "No. Iterations:                    11                                         \n",
      "Covariance Type:            nonrobust                                         \n",
      "========================================================================================\n",
      "                           coef    std err          z      P>|z|      [0.025      0.975]\n",
      "----------------------------------------------------------------------------------------\n",
      "const                    0.0335      0.540      0.062      0.951      -1.025       1.092\n",
      "radius error            -5.0900      1.484     -3.430      0.001      -7.998      -2.182\n",
      "compactness error        1.8493      0.666      2.778      0.005       0.545       3.154\n",
      "worst radius            -5.8361      1.518     -3.844      0.000      -8.812      -2.860\n",
      "worst texture           -2.6205      0.686     -3.818      0.000      -3.966      -1.275\n",
      "worst smoothness        -1.3560      0.727     -1.866      0.062      -2.780       0.068\n",
      "worst concavity         -1.6392      1.066     -1.538      0.124      -3.728       0.449\n",
      "worst concave points    -4.1337      1.505     -2.747      0.006      -7.083      -1.184\n",
      "========================================================================================\n"
     ]
    },
    {
     "data": {
      "text/plain": [
       "const                   0.950536\n",
       "worst concavity         0.123944\n",
       "worst smoothness        0.062036\n",
       "worst concave points    0.006017\n",
       "compactness error       0.005470\n",
       "radius error            0.000603\n",
       "worst texture           0.000135\n",
       "worst radius            0.000121\n",
       "dtype: float64"
      ]
     },
     "execution_count": 750,
     "metadata": {},
     "output_type": "execute_result"
    }
   ],
   "source": [
    "col = col.drop('fractal dimension error')\n",
    "X_train_scaled_rfe_sm = X_train_scaled_rfe_sm[col]\n",
    "logml8 = sm.GLM(list(y_train),X_train_scaled_rfe_sm,family=sm.families.Binomial()).fit()\n",
    "print(logml8.summary())\n",
    "logml8.pvalues.sort_values(ascending=False)"
   ]
  },
  {
   "cell_type": "code",
   "execution_count": null,
   "metadata": {},
   "outputs": [],
   "source": []
  },
  {
   "cell_type": "code",
   "execution_count": 751,
   "metadata": {},
   "outputs": [
    {
     "name": "stdout",
     "output_type": "stream",
     "text": [
      "                 Generalized Linear Model Regression Results                  \n",
      "==============================================================================\n",
      "Dep. Variable:                      y   No. Observations:                  426\n",
      "Model:                            GLM   Df Residuals:                      419\n",
      "Model Family:                Binomial   Df Model:                            6\n",
      "Link Function:                  logit   Scale:                          1.0000\n",
      "Method:                          IRLS   Log-Likelihood:                -23.359\n",
      "Date:                Fri, 13 Sep 2019   Deviance:                       46.718\n",
      "Time:                        00:01:25   Pearson chi2:                     60.5\n",
      "No. Iterations:                    10                                         \n",
      "Covariance Type:            nonrobust                                         \n",
      "========================================================================================\n",
      "                           coef    std err          z      P>|z|      [0.025      0.975]\n",
      "----------------------------------------------------------------------------------------\n",
      "const                    0.2472      0.490      0.505      0.614      -0.712       1.207\n",
      "radius error            -4.7870      1.441     -3.321      0.001      -7.612      -1.962\n",
      "compactness error        1.1957      0.458      2.612      0.009       0.299       2.093\n",
      "worst radius            -5.5809      1.481     -3.769      0.000      -8.483      -2.679\n",
      "worst texture           -2.6709      0.667     -4.005      0.000      -3.978      -1.364\n",
      "worst smoothness        -1.1009      0.630     -1.747      0.081      -2.336       0.134\n",
      "worst concave points    -5.2443      1.425     -3.680      0.000      -8.037      -2.451\n",
      "========================================================================================\n"
     ]
    },
    {
     "data": {
      "text/plain": [
       "const                   0.613594\n",
       "worst smoothness        0.080696\n",
       "compactness error       0.008991\n",
       "radius error            0.000896\n",
       "worst concave points    0.000233\n",
       "worst radius            0.000164\n",
       "worst texture           0.000062\n",
       "dtype: float64"
      ]
     },
     "execution_count": 751,
     "metadata": {},
     "output_type": "execute_result"
    }
   ],
   "source": [
    "col = col.drop('worst concavity')\n",
    "X_train_scaled_rfe_sm = X_train_scaled_rfe_sm[col]\n",
    "logml9 = sm.GLM(list(y_train),X_train_scaled_rfe_sm,family=sm.families.Binomial()).fit()\n",
    "print(logml9.summary())\n",
    "logml9.pvalues.sort_values(ascending=False)"
   ]
  },
  {
   "cell_type": "code",
   "execution_count": null,
   "metadata": {},
   "outputs": [],
   "source": []
  },
  {
   "cell_type": "code",
   "execution_count": 752,
   "metadata": {},
   "outputs": [
    {
     "name": "stdout",
     "output_type": "stream",
     "text": [
      "                 Generalized Linear Model Regression Results                  \n",
      "==============================================================================\n",
      "Dep. Variable:                      y   No. Observations:                  426\n",
      "Model:                            GLM   Df Residuals:                      420\n",
      "Model Family:                Binomial   Df Model:                            5\n",
      "Link Function:                  logit   Scale:                          1.0000\n",
      "Method:                          IRLS   Log-Likelihood:                -25.120\n",
      "Date:                Fri, 13 Sep 2019   Deviance:                       50.240\n",
      "Time:                        00:01:25   Pearson chi2:                     69.8\n",
      "No. Iterations:                    10                                         \n",
      "Covariance Type:            nonrobust                                         \n",
      "========================================================================================\n",
      "                           coef    std err          z      P>|z|      [0.025      0.975]\n",
      "----------------------------------------------------------------------------------------\n",
      "const                    0.6155      0.428      1.438      0.151      -0.224       1.455\n",
      "radius error            -4.3066      1.173     -3.670      0.000      -6.606      -2.007\n",
      "compactness error        1.1641      0.406      2.869      0.004       0.369       1.959\n",
      "worst radius            -4.3919      1.147     -3.828      0.000      -6.641      -2.143\n",
      "worst texture           -2.6156      0.602     -4.349      0.000      -3.795      -1.437\n",
      "worst concave points    -6.0259      1.332     -4.524      0.000      -8.636      -3.416\n",
      "========================================================================================\n"
     ]
    },
    {
     "data": {
      "text/plain": [
       "const                   0.150573\n",
       "compactness error       0.004120\n",
       "radius error            0.000242\n",
       "worst radius            0.000129\n",
       "worst texture           0.000014\n",
       "worst concave points    0.000006\n",
       "dtype: float64"
      ]
     },
     "execution_count": 752,
     "metadata": {},
     "output_type": "execute_result"
    }
   ],
   "source": [
    "col = col.drop('worst smoothness')\n",
    "X_train_scaled_rfe_sm = X_train_scaled_rfe_sm[col]\n",
    "logml10 = sm.GLM(list(y_train),X_train_scaled_rfe_sm,family=sm.families.Binomial()).fit()\n",
    "print(logml10.summary())\n",
    "logml10.pvalues.sort_values(ascending=False)"
   ]
  },
  {
   "cell_type": "code",
   "execution_count": null,
   "metadata": {},
   "outputs": [],
   "source": []
  },
  {
   "cell_type": "code",
   "execution_count": 753,
   "metadata": {},
   "outputs": [],
   "source": [
    "from statsmodels.stats.outliers_influence import variance_inflation_factor"
   ]
  },
  {
   "cell_type": "code",
   "execution_count": 754,
   "metadata": {},
   "outputs": [
    {
     "name": "stdout",
     "output_type": "stream",
     "text": [
      "               Features   VIF\n",
      "3          worst radius  5.89\n",
      "5  worst concave points  4.43\n",
      "1          radius error  2.72\n",
      "2     compactness error  1.91\n",
      "4         worst texture  1.16\n",
      "0                 const  1.00\n"
     ]
    }
   ],
   "source": [
    "vif = pd.DataFrame()\n",
    "vif['Features'] = X_train_scaled_rfe_sm.columns\n",
    "vif['VIF'] = [variance_inflation_factor(X_train_scaled_rfe_sm.values, i) for i in range(X_train_scaled_rfe_sm.shape[1])]\n",
    "vif['VIF'] = round(vif['VIF'],2)\n",
    "vif = vif.sort_values(by = 'VIF', ascending = False)\n",
    "print(vif)"
   ]
  },
  {
   "cell_type": "code",
   "execution_count": 755,
   "metadata": {},
   "outputs": [
    {
     "name": "stdout",
     "output_type": "stream",
     "text": [
      "                 Generalized Linear Model Regression Results                  \n",
      "==============================================================================\n",
      "Dep. Variable:                      y   No. Observations:                  426\n",
      "Model:                            GLM   Df Residuals:                      421\n",
      "Model Family:                Binomial   Df Model:                            4\n",
      "Link Function:                  logit   Scale:                          1.0000\n",
      "Method:                          IRLS   Log-Likelihood:                -37.237\n",
      "Date:                Fri, 13 Sep 2019   Deviance:                       74.474\n",
      "Time:                        00:01:26   Pearson chi2:                     85.2\n",
      "No. Iterations:                     9                                         \n",
      "Covariance Type:            nonrobust                                         \n",
      "========================================================================================\n",
      "                           coef    std err          z      P>|z|      [0.025      0.975]\n",
      "----------------------------------------------------------------------------------------\n",
      "const                    0.8845      0.335      2.638      0.008       0.227       1.542\n",
      "radius error            -4.1581      0.843     -4.931      0.000      -5.811      -2.505\n",
      "compactness error        1.4002      0.341      4.105      0.000       0.732       2.069\n",
      "worst texture           -2.2424      0.468     -4.791      0.000      -3.160      -1.325\n",
      "worst concave points    -6.2540      1.002     -6.242      0.000      -8.218      -4.290\n",
      "========================================================================================\n"
     ]
    },
    {
     "data": {
      "text/plain": [
       "const                   8.345055e-03\n",
       "compactness error       4.041032e-05\n",
       "worst texture           1.661735e-06\n",
       "radius error            8.182408e-07\n",
       "worst concave points    4.327294e-10\n",
       "dtype: float64"
      ]
     },
     "execution_count": 755,
     "metadata": {},
     "output_type": "execute_result"
    }
   ],
   "source": [
    "col = col.drop('worst radius')\n",
    "X_train_scaled_rfe_sm = X_train_scaled_rfe_sm[col]\n",
    "logml11 = sm.GLM(list(y_train),X_train_scaled_rfe_sm,family=sm.families.Binomial()).fit()\n",
    "print(logml11.summary())\n",
    "logml11.pvalues.sort_values(ascending=False)"
   ]
  },
  {
   "cell_type": "code",
   "execution_count": 756,
   "metadata": {},
   "outputs": [
    {
     "name": "stdout",
     "output_type": "stream",
     "text": [
      "               Features   VIF\n",
      "4  worst concave points  1.83\n",
      "1          radius error  1.47\n",
      "2     compactness error  1.33\n",
      "3         worst texture  1.14\n",
      "0                 const  1.00\n"
     ]
    }
   ],
   "source": [
    "vif = pd.DataFrame()\n",
    "vif['Features'] = X_train_scaled_rfe_sm.columns\n",
    "vif['VIF'] = [variance_inflation_factor(X_train_scaled_rfe_sm.values, i) for i in range(X_train_scaled_rfe_sm.shape[1])]\n",
    "vif['VIF'] = round(vif['VIF'],2)\n",
    "vif = vif.sort_values(by = 'VIF', ascending = False)\n",
    "print(vif)"
   ]
  },
  {
   "cell_type": "code",
   "execution_count": null,
   "metadata": {},
   "outputs": [],
   "source": []
  },
  {
   "cell_type": "markdown",
   "metadata": {},
   "source": [
    "# Predict"
   ]
  },
  {
   "cell_type": "markdown",
   "metadata": {},
   "source": [
    "## Train Data"
   ]
  },
  {
   "cell_type": "code",
   "execution_count": 757,
   "metadata": {},
   "outputs": [],
   "source": [
    "y_pred_sm_train = logml11.predict(X_train_scaled_rfe_sm)"
   ]
  },
  {
   "cell_type": "code",
   "execution_count": 758,
   "metadata": {},
   "outputs": [],
   "source": [
    "from sklearn.metrics import accuracy_score, confusion_matrix, classification_report"
   ]
  },
  {
   "cell_type": "code",
   "execution_count": 759,
   "metadata": {},
   "outputs": [
    {
     "data": {
      "text/plain": [
       "0.960093896713615"
      ]
     },
     "execution_count": 759,
     "metadata": {},
     "output_type": "execute_result"
    }
   ],
   "source": [
    "accuracy_score(y_train, y_pred_sm_train.round())"
   ]
  },
  {
   "cell_type": "code",
   "execution_count": 760,
   "metadata": {},
   "outputs": [
    {
     "data": {
      "text/plain": [
       "array([[147,  10],\n",
       "       [  7, 262]], dtype=int64)"
      ]
     },
     "execution_count": 760,
     "metadata": {},
     "output_type": "execute_result"
    }
   ],
   "source": [
    "confusion_matrix(y_train, y_pred_sm_train.round())"
   ]
  },
  {
   "cell_type": "code",
   "execution_count": 761,
   "metadata": {},
   "outputs": [
    {
     "name": "stdout",
     "output_type": "stream",
     "text": [
      "              precision    recall  f1-score   support\n",
      "\n",
      "           0       0.95      0.94      0.95       157\n",
      "           1       0.96      0.97      0.97       269\n",
      "\n",
      "    accuracy                           0.96       426\n",
      "   macro avg       0.96      0.96      0.96       426\n",
      "weighted avg       0.96      0.96      0.96       426\n",
      "\n"
     ]
    }
   ],
   "source": [
    "print(classification_report(y_train, y_pred_sm_train.round()))"
   ]
  },
  {
   "cell_type": "code",
   "execution_count": 762,
   "metadata": {},
   "outputs": [],
   "source": [
    "#print(cancer.DESCR)"
   ]
  },
  {
   "cell_type": "markdown",
   "metadata": {},
   "source": [
    "## Test Data"
   ]
  },
  {
   "cell_type": "code",
   "execution_count": 763,
   "metadata": {},
   "outputs": [
    {
     "data": {
      "text/html": [
       "<div>\n",
       "<style scoped>\n",
       "    .dataframe tbody tr th:only-of-type {\n",
       "        vertical-align: middle;\n",
       "    }\n",
       "\n",
       "    .dataframe tbody tr th {\n",
       "        vertical-align: top;\n",
       "    }\n",
       "\n",
       "    .dataframe thead th {\n",
       "        text-align: right;\n",
       "    }\n",
       "</style>\n",
       "<table border=\"1\" class=\"dataframe\">\n",
       "  <thead>\n",
       "    <tr style=\"text-align: right;\">\n",
       "      <th></th>\n",
       "      <th>mean radius</th>\n",
       "      <th>mean texture</th>\n",
       "      <th>mean perimeter</th>\n",
       "      <th>mean area</th>\n",
       "      <th>mean smoothness</th>\n",
       "      <th>mean compactness</th>\n",
       "      <th>mean concavity</th>\n",
       "      <th>mean concave points</th>\n",
       "      <th>mean symmetry</th>\n",
       "      <th>mean fractal dimension</th>\n",
       "      <th>...</th>\n",
       "      <th>worst radius</th>\n",
       "      <th>worst texture</th>\n",
       "      <th>worst perimeter</th>\n",
       "      <th>worst area</th>\n",
       "      <th>worst smoothness</th>\n",
       "      <th>worst compactness</th>\n",
       "      <th>worst concavity</th>\n",
       "      <th>worst concave points</th>\n",
       "      <th>worst symmetry</th>\n",
       "      <th>worst fractal dimension</th>\n",
       "    </tr>\n",
       "  </thead>\n",
       "  <tbody>\n",
       "    <tr>\n",
       "      <th>107</th>\n",
       "      <td>12.36</td>\n",
       "      <td>18.54</td>\n",
       "      <td>79.01</td>\n",
       "      <td>466.7</td>\n",
       "      <td>0.08477</td>\n",
       "      <td>0.06815</td>\n",
       "      <td>0.02643</td>\n",
       "      <td>0.01921</td>\n",
       "      <td>0.1602</td>\n",
       "      <td>0.06066</td>\n",
       "      <td>...</td>\n",
       "      <td>13.29</td>\n",
       "      <td>27.49</td>\n",
       "      <td>85.56</td>\n",
       "      <td>544.1</td>\n",
       "      <td>0.11840</td>\n",
       "      <td>0.19630</td>\n",
       "      <td>0.19370</td>\n",
       "      <td>0.08442</td>\n",
       "      <td>0.2983</td>\n",
       "      <td>0.07185</td>\n",
       "    </tr>\n",
       "    <tr>\n",
       "      <th>437</th>\n",
       "      <td>14.04</td>\n",
       "      <td>15.98</td>\n",
       "      <td>89.78</td>\n",
       "      <td>611.2</td>\n",
       "      <td>0.08458</td>\n",
       "      <td>0.05895</td>\n",
       "      <td>0.03534</td>\n",
       "      <td>0.02944</td>\n",
       "      <td>0.1714</td>\n",
       "      <td>0.05898</td>\n",
       "      <td>...</td>\n",
       "      <td>15.66</td>\n",
       "      <td>21.58</td>\n",
       "      <td>101.20</td>\n",
       "      <td>750.0</td>\n",
       "      <td>0.11950</td>\n",
       "      <td>0.12520</td>\n",
       "      <td>0.11170</td>\n",
       "      <td>0.07453</td>\n",
       "      <td>0.2725</td>\n",
       "      <td>0.07234</td>\n",
       "    </tr>\n",
       "    <tr>\n",
       "      <th>195</th>\n",
       "      <td>12.91</td>\n",
       "      <td>16.33</td>\n",
       "      <td>82.53</td>\n",
       "      <td>516.4</td>\n",
       "      <td>0.07941</td>\n",
       "      <td>0.05366</td>\n",
       "      <td>0.03873</td>\n",
       "      <td>0.02377</td>\n",
       "      <td>0.1829</td>\n",
       "      <td>0.05667</td>\n",
       "      <td>...</td>\n",
       "      <td>13.88</td>\n",
       "      <td>22.00</td>\n",
       "      <td>90.81</td>\n",
       "      <td>600.6</td>\n",
       "      <td>0.10970</td>\n",
       "      <td>0.15060</td>\n",
       "      <td>0.17640</td>\n",
       "      <td>0.08235</td>\n",
       "      <td>0.3024</td>\n",
       "      <td>0.06949</td>\n",
       "    </tr>\n",
       "    <tr>\n",
       "      <th>141</th>\n",
       "      <td>16.11</td>\n",
       "      <td>18.05</td>\n",
       "      <td>105.10</td>\n",
       "      <td>813.0</td>\n",
       "      <td>0.09721</td>\n",
       "      <td>0.11370</td>\n",
       "      <td>0.09447</td>\n",
       "      <td>0.05943</td>\n",
       "      <td>0.1861</td>\n",
       "      <td>0.06248</td>\n",
       "      <td>...</td>\n",
       "      <td>19.92</td>\n",
       "      <td>25.27</td>\n",
       "      <td>129.00</td>\n",
       "      <td>1233.0</td>\n",
       "      <td>0.13140</td>\n",
       "      <td>0.22360</td>\n",
       "      <td>0.28020</td>\n",
       "      <td>0.12160</td>\n",
       "      <td>0.2792</td>\n",
       "      <td>0.08158</td>\n",
       "    </tr>\n",
       "    <tr>\n",
       "      <th>319</th>\n",
       "      <td>12.43</td>\n",
       "      <td>17.00</td>\n",
       "      <td>78.60</td>\n",
       "      <td>477.3</td>\n",
       "      <td>0.07557</td>\n",
       "      <td>0.03454</td>\n",
       "      <td>0.01342</td>\n",
       "      <td>0.01699</td>\n",
       "      <td>0.1472</td>\n",
       "      <td>0.05561</td>\n",
       "      <td>...</td>\n",
       "      <td>12.90</td>\n",
       "      <td>20.21</td>\n",
       "      <td>81.76</td>\n",
       "      <td>515.9</td>\n",
       "      <td>0.08409</td>\n",
       "      <td>0.04712</td>\n",
       "      <td>0.02237</td>\n",
       "      <td>0.02832</td>\n",
       "      <td>0.1901</td>\n",
       "      <td>0.05932</td>\n",
       "    </tr>\n",
       "  </tbody>\n",
       "</table>\n",
       "<p>5 rows × 30 columns</p>\n",
       "</div>"
      ],
      "text/plain": [
       "     mean radius  mean texture  mean perimeter  mean area  mean smoothness  \\\n",
       "107        12.36         18.54           79.01      466.7          0.08477   \n",
       "437        14.04         15.98           89.78      611.2          0.08458   \n",
       "195        12.91         16.33           82.53      516.4          0.07941   \n",
       "141        16.11         18.05          105.10      813.0          0.09721   \n",
       "319        12.43         17.00           78.60      477.3          0.07557   \n",
       "\n",
       "     mean compactness  mean concavity  mean concave points  mean symmetry  \\\n",
       "107           0.06815         0.02643              0.01921         0.1602   \n",
       "437           0.05895         0.03534              0.02944         0.1714   \n",
       "195           0.05366         0.03873              0.02377         0.1829   \n",
       "141           0.11370         0.09447              0.05943         0.1861   \n",
       "319           0.03454         0.01342              0.01699         0.1472   \n",
       "\n",
       "     mean fractal dimension  ...  worst radius  worst texture  \\\n",
       "107                 0.06066  ...         13.29          27.49   \n",
       "437                 0.05898  ...         15.66          21.58   \n",
       "195                 0.05667  ...         13.88          22.00   \n",
       "141                 0.06248  ...         19.92          25.27   \n",
       "319                 0.05561  ...         12.90          20.21   \n",
       "\n",
       "     worst perimeter  worst area  worst smoothness  worst compactness  \\\n",
       "107            85.56       544.1           0.11840            0.19630   \n",
       "437           101.20       750.0           0.11950            0.12520   \n",
       "195            90.81       600.6           0.10970            0.15060   \n",
       "141           129.00      1233.0           0.13140            0.22360   \n",
       "319            81.76       515.9           0.08409            0.04712   \n",
       "\n",
       "     worst concavity  worst concave points  worst symmetry  \\\n",
       "107          0.19370               0.08442          0.2983   \n",
       "437          0.11170               0.07453          0.2725   \n",
       "195          0.17640               0.08235          0.3024   \n",
       "141          0.28020               0.12160          0.2792   \n",
       "319          0.02237               0.02832          0.1901   \n",
       "\n",
       "     worst fractal dimension  \n",
       "107                  0.07185  \n",
       "437                  0.07234  \n",
       "195                  0.06949  \n",
       "141                  0.08158  \n",
       "319                  0.05932  \n",
       "\n",
       "[5 rows x 30 columns]"
      ]
     },
     "execution_count": 763,
     "metadata": {},
     "output_type": "execute_result"
    }
   ],
   "source": [
    "X_test.head()"
   ]
  },
  {
   "cell_type": "code",
   "execution_count": 764,
   "metadata": {},
   "outputs": [
    {
     "data": {
      "text/plain": [
       "Index(['const', 'radius error', 'compactness error', 'worst texture',\n",
       "       'worst concave points'],\n",
       "      dtype='object')"
      ]
     },
     "execution_count": 764,
     "metadata": {},
     "output_type": "execute_result"
    }
   ],
   "source": [
    "X_train_scaled_rfe_sm.columns"
   ]
  },
  {
   "cell_type": "code",
   "execution_count": 765,
   "metadata": {},
   "outputs": [
    {
     "data": {
      "text/html": [
       "<div>\n",
       "<style scoped>\n",
       "    .dataframe tbody tr th:only-of-type {\n",
       "        vertical-align: middle;\n",
       "    }\n",
       "\n",
       "    .dataframe tbody tr th {\n",
       "        vertical-align: top;\n",
       "    }\n",
       "\n",
       "    .dataframe thead th {\n",
       "        text-align: right;\n",
       "    }\n",
       "</style>\n",
       "<table border=\"1\" class=\"dataframe\">\n",
       "  <thead>\n",
       "    <tr style=\"text-align: right;\">\n",
       "      <th></th>\n",
       "      <th>const</th>\n",
       "      <th>radius error</th>\n",
       "      <th>compactness error</th>\n",
       "      <th>worst texture</th>\n",
       "      <th>worst concave points</th>\n",
       "    </tr>\n",
       "  </thead>\n",
       "  <tbody>\n",
       "    <tr>\n",
       "      <th>107</th>\n",
       "      <td>1.0</td>\n",
       "      <td>0.1199</td>\n",
       "      <td>0.01047</td>\n",
       "      <td>27.49</td>\n",
       "      <td>0.08442</td>\n",
       "    </tr>\n",
       "    <tr>\n",
       "      <th>437</th>\n",
       "      <td>1.0</td>\n",
       "      <td>0.3892</td>\n",
       "      <td>0.01295</td>\n",
       "      <td>21.58</td>\n",
       "      <td>0.07453</td>\n",
       "    </tr>\n",
       "    <tr>\n",
       "      <th>195</th>\n",
       "      <td>1.0</td>\n",
       "      <td>0.1942</td>\n",
       "      <td>0.01587</td>\n",
       "      <td>22.00</td>\n",
       "      <td>0.08235</td>\n",
       "    </tr>\n",
       "    <tr>\n",
       "      <th>141</th>\n",
       "      <td>1.0</td>\n",
       "      <td>0.7049</td>\n",
       "      <td>0.01938</td>\n",
       "      <td>25.27</td>\n",
       "      <td>0.12160</td>\n",
       "    </tr>\n",
       "    <tr>\n",
       "      <th>319</th>\n",
       "      <td>1.0</td>\n",
       "      <td>0.3778</td>\n",
       "      <td>0.01079</td>\n",
       "      <td>20.21</td>\n",
       "      <td>0.02832</td>\n",
       "    </tr>\n",
       "  </tbody>\n",
       "</table>\n",
       "</div>"
      ],
      "text/plain": [
       "     const  radius error  compactness error  worst texture  \\\n",
       "107    1.0        0.1199            0.01047          27.49   \n",
       "437    1.0        0.3892            0.01295          21.58   \n",
       "195    1.0        0.1942            0.01587          22.00   \n",
       "141    1.0        0.7049            0.01938          25.27   \n",
       "319    1.0        0.3778            0.01079          20.21   \n",
       "\n",
       "     worst concave points  \n",
       "107               0.08442  \n",
       "437               0.07453  \n",
       "195               0.08235  \n",
       "141               0.12160  \n",
       "319               0.02832  "
      ]
     },
     "execution_count": 765,
     "metadata": {},
     "output_type": "execute_result"
    }
   ],
   "source": [
    "X_test_scaled_sm.head()"
   ]
  },
  {
   "cell_type": "code",
   "execution_count": 766,
   "metadata": {},
   "outputs": [
    {
     "data": {
      "text/html": [
       "<div>\n",
       "<style scoped>\n",
       "    .dataframe tbody tr th:only-of-type {\n",
       "        vertical-align: middle;\n",
       "    }\n",
       "\n",
       "    .dataframe tbody tr th {\n",
       "        vertical-align: top;\n",
       "    }\n",
       "\n",
       "    .dataframe thead th {\n",
       "        text-align: right;\n",
       "    }\n",
       "</style>\n",
       "<table border=\"1\" class=\"dataframe\">\n",
       "  <thead>\n",
       "    <tr style=\"text-align: right;\">\n",
       "      <th></th>\n",
       "      <th>mean radius</th>\n",
       "      <th>mean texture</th>\n",
       "      <th>mean perimeter</th>\n",
       "      <th>mean area</th>\n",
       "      <th>mean smoothness</th>\n",
       "      <th>mean compactness</th>\n",
       "      <th>mean concavity</th>\n",
       "      <th>mean concave points</th>\n",
       "      <th>mean symmetry</th>\n",
       "      <th>mean fractal dimension</th>\n",
       "      <th>...</th>\n",
       "      <th>worst radius</th>\n",
       "      <th>worst texture</th>\n",
       "      <th>worst perimeter</th>\n",
       "      <th>worst area</th>\n",
       "      <th>worst smoothness</th>\n",
       "      <th>worst compactness</th>\n",
       "      <th>worst concavity</th>\n",
       "      <th>worst concave points</th>\n",
       "      <th>worst symmetry</th>\n",
       "      <th>worst fractal dimension</th>\n",
       "    </tr>\n",
       "  </thead>\n",
       "  <tbody>\n",
       "    <tr>\n",
       "      <th>107</th>\n",
       "      <td>12.36</td>\n",
       "      <td>18.54</td>\n",
       "      <td>79.01</td>\n",
       "      <td>466.7</td>\n",
       "      <td>0.08477</td>\n",
       "      <td>0.06815</td>\n",
       "      <td>0.02643</td>\n",
       "      <td>0.01921</td>\n",
       "      <td>0.1602</td>\n",
       "      <td>0.06066</td>\n",
       "      <td>...</td>\n",
       "      <td>13.29</td>\n",
       "      <td>27.49</td>\n",
       "      <td>85.56</td>\n",
       "      <td>544.1</td>\n",
       "      <td>0.11840</td>\n",
       "      <td>0.19630</td>\n",
       "      <td>0.19370</td>\n",
       "      <td>0.08442</td>\n",
       "      <td>0.2983</td>\n",
       "      <td>0.07185</td>\n",
       "    </tr>\n",
       "    <tr>\n",
       "      <th>437</th>\n",
       "      <td>14.04</td>\n",
       "      <td>15.98</td>\n",
       "      <td>89.78</td>\n",
       "      <td>611.2</td>\n",
       "      <td>0.08458</td>\n",
       "      <td>0.05895</td>\n",
       "      <td>0.03534</td>\n",
       "      <td>0.02944</td>\n",
       "      <td>0.1714</td>\n",
       "      <td>0.05898</td>\n",
       "      <td>...</td>\n",
       "      <td>15.66</td>\n",
       "      <td>21.58</td>\n",
       "      <td>101.20</td>\n",
       "      <td>750.0</td>\n",
       "      <td>0.11950</td>\n",
       "      <td>0.12520</td>\n",
       "      <td>0.11170</td>\n",
       "      <td>0.07453</td>\n",
       "      <td>0.2725</td>\n",
       "      <td>0.07234</td>\n",
       "    </tr>\n",
       "    <tr>\n",
       "      <th>195</th>\n",
       "      <td>12.91</td>\n",
       "      <td>16.33</td>\n",
       "      <td>82.53</td>\n",
       "      <td>516.4</td>\n",
       "      <td>0.07941</td>\n",
       "      <td>0.05366</td>\n",
       "      <td>0.03873</td>\n",
       "      <td>0.02377</td>\n",
       "      <td>0.1829</td>\n",
       "      <td>0.05667</td>\n",
       "      <td>...</td>\n",
       "      <td>13.88</td>\n",
       "      <td>22.00</td>\n",
       "      <td>90.81</td>\n",
       "      <td>600.6</td>\n",
       "      <td>0.10970</td>\n",
       "      <td>0.15060</td>\n",
       "      <td>0.17640</td>\n",
       "      <td>0.08235</td>\n",
       "      <td>0.3024</td>\n",
       "      <td>0.06949</td>\n",
       "    </tr>\n",
       "    <tr>\n",
       "      <th>141</th>\n",
       "      <td>16.11</td>\n",
       "      <td>18.05</td>\n",
       "      <td>105.10</td>\n",
       "      <td>813.0</td>\n",
       "      <td>0.09721</td>\n",
       "      <td>0.11370</td>\n",
       "      <td>0.09447</td>\n",
       "      <td>0.05943</td>\n",
       "      <td>0.1861</td>\n",
       "      <td>0.06248</td>\n",
       "      <td>...</td>\n",
       "      <td>19.92</td>\n",
       "      <td>25.27</td>\n",
       "      <td>129.00</td>\n",
       "      <td>1233.0</td>\n",
       "      <td>0.13140</td>\n",
       "      <td>0.22360</td>\n",
       "      <td>0.28020</td>\n",
       "      <td>0.12160</td>\n",
       "      <td>0.2792</td>\n",
       "      <td>0.08158</td>\n",
       "    </tr>\n",
       "    <tr>\n",
       "      <th>319</th>\n",
       "      <td>12.43</td>\n",
       "      <td>17.00</td>\n",
       "      <td>78.60</td>\n",
       "      <td>477.3</td>\n",
       "      <td>0.07557</td>\n",
       "      <td>0.03454</td>\n",
       "      <td>0.01342</td>\n",
       "      <td>0.01699</td>\n",
       "      <td>0.1472</td>\n",
       "      <td>0.05561</td>\n",
       "      <td>...</td>\n",
       "      <td>12.90</td>\n",
       "      <td>20.21</td>\n",
       "      <td>81.76</td>\n",
       "      <td>515.9</td>\n",
       "      <td>0.08409</td>\n",
       "      <td>0.04712</td>\n",
       "      <td>0.02237</td>\n",
       "      <td>0.02832</td>\n",
       "      <td>0.1901</td>\n",
       "      <td>0.05932</td>\n",
       "    </tr>\n",
       "  </tbody>\n",
       "</table>\n",
       "<p>5 rows × 30 columns</p>\n",
       "</div>"
      ],
      "text/plain": [
       "     mean radius  mean texture  mean perimeter  mean area  mean smoothness  \\\n",
       "107        12.36         18.54           79.01      466.7          0.08477   \n",
       "437        14.04         15.98           89.78      611.2          0.08458   \n",
       "195        12.91         16.33           82.53      516.4          0.07941   \n",
       "141        16.11         18.05          105.10      813.0          0.09721   \n",
       "319        12.43         17.00           78.60      477.3          0.07557   \n",
       "\n",
       "     mean compactness  mean concavity  mean concave points  mean symmetry  \\\n",
       "107           0.06815         0.02643              0.01921         0.1602   \n",
       "437           0.05895         0.03534              0.02944         0.1714   \n",
       "195           0.05366         0.03873              0.02377         0.1829   \n",
       "141           0.11370         0.09447              0.05943         0.1861   \n",
       "319           0.03454         0.01342              0.01699         0.1472   \n",
       "\n",
       "     mean fractal dimension  ...  worst radius  worst texture  \\\n",
       "107                 0.06066  ...         13.29          27.49   \n",
       "437                 0.05898  ...         15.66          21.58   \n",
       "195                 0.05667  ...         13.88          22.00   \n",
       "141                 0.06248  ...         19.92          25.27   \n",
       "319                 0.05561  ...         12.90          20.21   \n",
       "\n",
       "     worst perimeter  worst area  worst smoothness  worst compactness  \\\n",
       "107            85.56       544.1           0.11840            0.19630   \n",
       "437           101.20       750.0           0.11950            0.12520   \n",
       "195            90.81       600.6           0.10970            0.15060   \n",
       "141           129.00      1233.0           0.13140            0.22360   \n",
       "319            81.76       515.9           0.08409            0.04712   \n",
       "\n",
       "     worst concavity  worst concave points  worst symmetry  \\\n",
       "107          0.19370               0.08442          0.2983   \n",
       "437          0.11170               0.07453          0.2725   \n",
       "195          0.17640               0.08235          0.3024   \n",
       "141          0.28020               0.12160          0.2792   \n",
       "319          0.02237               0.02832          0.1901   \n",
       "\n",
       "     worst fractal dimension  \n",
       "107                  0.07185  \n",
       "437                  0.07234  \n",
       "195                  0.06949  \n",
       "141                  0.08158  \n",
       "319                  0.05932  \n",
       "\n",
       "[5 rows x 30 columns]"
      ]
     },
     "execution_count": 766,
     "metadata": {},
     "output_type": "execute_result"
    }
   ],
   "source": [
    "X_test_scaled.head()"
   ]
  },
  {
   "cell_type": "code",
   "execution_count": 767,
   "metadata": {},
   "outputs": [],
   "source": [
    "X_test = sm.add_constant(X_test_scaled)"
   ]
  },
  {
   "cell_type": "code",
   "execution_count": 768,
   "metadata": {},
   "outputs": [],
   "source": [
    "X_test_rfe = X_test[X_train_scaled_rfe_sm.columns]"
   ]
  },
  {
   "cell_type": "code",
   "execution_count": 769,
   "metadata": {},
   "outputs": [],
   "source": [
    "y_pred_lgr_test = logml11.predict(X_test_rfe)"
   ]
  },
  {
   "cell_type": "code",
   "execution_count": 770,
   "metadata": {},
   "outputs": [
    {
     "data": {
      "text/plain": [
       "0.38461538461538464"
      ]
     },
     "execution_count": 770,
     "metadata": {},
     "output_type": "execute_result"
    }
   ],
   "source": [
    "accuracy_score(y_test,y_pred_lgr_test.round())"
   ]
  },
  {
   "cell_type": "code",
   "execution_count": null,
   "metadata": {},
   "outputs": [],
   "source": []
  }
 ],
 "metadata": {
  "kernelspec": {
   "display_name": "Python 3",
   "language": "python",
   "name": "python3"
  },
  "language_info": {
   "codemirror_mode": {
    "name": "ipython",
    "version": 3
   },
   "file_extension": ".py",
   "mimetype": "text/x-python",
   "name": "python",
   "nbconvert_exporter": "python",
   "pygments_lexer": "ipython3",
   "version": "3.7.3"
  }
 },
 "nbformat": 4,
 "nbformat_minor": 2
}
