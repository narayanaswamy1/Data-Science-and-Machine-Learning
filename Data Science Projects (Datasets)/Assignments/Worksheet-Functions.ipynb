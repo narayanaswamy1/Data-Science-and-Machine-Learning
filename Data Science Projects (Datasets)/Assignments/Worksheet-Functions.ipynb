{
 "cells": [
  {
   "cell_type": "markdown",
   "metadata": {},
   "source": [
    "## def Statements\n",
    "\n",
    "Let's see how to build out a function's syntax in Python. It has the following form:"
   ]
  },
  {
   "cell_type": "code",
   "execution_count": 1,
   "metadata": {},
   "outputs": [],
   "source": [
    "def name_of_function(arg1,arg2):\n",
    "    '''\n",
    "    This is where the function's Document String (docstring) goes\n",
    "    '''\n",
    "    # Do stuff here\n",
    "    # Return desired result"
   ]
  },
  {
   "cell_type": "markdown",
   "metadata": {},
   "source": [
    "### Example 1: A simple print 'hello' function"
   ]
  },
  {
   "cell_type": "code",
   "execution_count": 2,
   "metadata": {},
   "outputs": [
    {
     "name": "stdout",
     "output_type": "stream",
     "text": [
      "hello\n"
     ]
    }
   ],
   "source": [
    "def out():\n",
    "    print('hello')\n",
    "out()"
   ]
  },
  {
   "cell_type": "markdown",
   "metadata": {},
   "source": [
    "Calling Function:"
   ]
  },
  {
   "cell_type": "markdown",
   "metadata": {},
   "source": [
    "### Example 2: A simple greeting function\n",
    "Let's write a function that greets people with their name."
   ]
  },
  {
   "cell_type": "code",
   "execution_count": 3,
   "metadata": {},
   "outputs": [
    {
     "name": "stdout",
     "output_type": "stream",
     "text": [
      "Hello  swamy\n"
     ]
    }
   ],
   "source": [
    "def greeting1(name):\n",
    "    print('Hello ',name)\n",
    "greeting1('swamy')"
   ]
  },
  {
   "cell_type": "code",
   "execution_count": 4,
   "metadata": {},
   "outputs": [
    {
     "name": "stdout",
     "output_type": "stream",
     "text": [
      "Hello  Jose\n"
     ]
    }
   ],
   "source": [
    "greeting1('Jose')"
   ]
  },
  {
   "cell_type": "markdown",
   "metadata": {},
   "source": [
    "## Using return\n",
    "Let's see some example that use a <code>return</code> statement. <code>return</code> allows a function to *return* a result that can then be stored as a variable, or used in whatever manner a user wants.\n",
    "\n",
    "### Example 3: Addition function"
   ]
  },
  {
   "cell_type": "code",
   "execution_count": 5,
   "metadata": {},
   "outputs": [
    {
     "name": "stdout",
     "output_type": "stream",
     "text": [
      "11\n"
     ]
    }
   ],
   "source": [
    "def add_num(num1,num2):\n",
    "    return num1 + num2\n",
    "result = add_num(5,6)\n",
    "print(result)"
   ]
  },
  {
   "cell_type": "markdown",
   "metadata": {},
   "source": [
    "What happens if we input two strings?"
   ]
  },
  {
   "cell_type": "code",
   "execution_count": 6,
   "metadata": {},
   "outputs": [],
   "source": [
    "#Strings will be concatinated"
   ]
  },
  {
   "cell_type": "markdown",
   "metadata": {},
   "source": [
    "#### write a function which identifies whether a number is a prime number or not"
   ]
  },
  {
   "cell_type": "code",
   "execution_count": 7,
   "metadata": {},
   "outputs": [
    {
     "name": "stdout",
     "output_type": "stream",
     "text": [
      "Not Prime\n",
      "prime\n",
      "Not Prime\n"
     ]
    }
   ],
   "source": [
    "prime = False\n",
    "def is_prime(num):\n",
    "    if num == 0 or num == 1:\n",
    "        print('Not Prime')\n",
    "    for i in range(2,num+1):\n",
    "        if num%i == 0:\n",
    "            print('Not Prime')\n",
    "        else:\n",
    "            print('prime')\n",
    "is_prime(4)"
   ]
  },
  {
   "cell_type": "markdown",
   "metadata": {},
   "source": [
    "# Exercise 1:"
   ]
  },
  {
   "cell_type": "markdown",
   "metadata": {},
   "source": [
    "#### Write a python function which takes a list of numbers as input and returns the maxmum and minimum number "
   ]
  },
  {
   "cell_type": "markdown",
   "metadata": {},
   "source": [
    "max_min([-2,6,3,7,4,9.2,10.3])"
   ]
  },
  {
   "cell_type": "code",
   "execution_count": 8,
   "metadata": {},
   "outputs": [
    {
     "name": "stdout",
     "output_type": "stream",
     "text": [
      "min:  1 , max:  8\n"
     ]
    }
   ],
   "source": [
    "def max_min(a):\n",
    "    a.sort()\n",
    "    print('min: ',a[0],',','max: ',a[len(a)-1])\n",
    "\n",
    "max_min([5,6,7,8,1,2,3,4])"
   ]
  },
  {
   "cell_type": "markdown",
   "metadata": {},
   "source": [
    "#### write a python function which takes two numbers and tells whether one number is divisible by the other"
   ]
  },
  {
   "cell_type": "markdown",
   "metadata": {},
   "source": [
    "divisible(8,4)\n",
    "\n",
    "divisible(8,24) \n",
    "\n",
    "divisible(8,3)"
   ]
  },
  {
   "cell_type": "code",
   "execution_count": 9,
   "metadata": {},
   "outputs": [
    {
     "name": "stdout",
     "output_type": "stream",
     "text": [
      "Not Divisible\n"
     ]
    }
   ],
   "source": [
    "def divisible(a,b):\n",
    "    if a%b==0 or b%a==0:\n",
    "        print('Divisible')\n",
    "    else:\n",
    "        print('Not Divisible')\n",
    "divisible(8,3)"
   ]
  },
  {
   "cell_type": "markdown",
   "metadata": {},
   "source": [
    "#### Write a Python function which takes a positive integer as argument and returns the sum of the squares of all the numbers equal to or less than the number."
   ]
  },
  {
   "cell_type": "markdown",
   "metadata": {},
   "source": [
    "print(\"Sum of squares: \",sum_of_sq(5))"
   ]
  },
  {
   "cell_type": "code",
   "execution_count": 10,
   "metadata": {},
   "outputs": [
    {
     "name": "stdout",
     "output_type": "stream",
     "text": [
      "Sum of squares:  55\n"
     ]
    }
   ],
   "source": [
    "def sum_of_sq(n):\n",
    "    if n>0:\n",
    "        sum = 0\n",
    "        for i in range(1,n+1):\n",
    "            sum = sum + i**2\n",
    "        print(\"Sum of squares: \",sum)\n",
    "    else:\n",
    "        print('Invalid Number')\n",
    "sum_of_sq(5)"
   ]
  },
  {
   "cell_type": "markdown",
   "metadata": {},
   "source": [
    "#### Write a Python function which takes a positive integer as argument and returns the sum of the cube of all the positive integers smaller than the specified number"
   ]
  },
  {
   "cell_type": "code",
   "execution_count": 11,
   "metadata": {},
   "outputs": [],
   "source": [
    "# ex: print(\"Sum of cubes: \",sum_of_cubes(3))"
   ]
  },
  {
   "cell_type": "code",
   "execution_count": 12,
   "metadata": {},
   "outputs": [
    {
     "name": "stdout",
     "output_type": "stream",
     "text": [
      "Sum of cubes:  9\n"
     ]
    }
   ],
   "source": [
    "def sum_of_cubes(n):\n",
    "    if n>0:\n",
    "        sumc = 0\n",
    "        for i in range(1,n):\n",
    "            sumc = sumc + i**3\n",
    "        print(\"Sum of cubes: \",sumc)\n",
    "    else:\n",
    "        print('Invalid Number')\n",
    "sum_of_cubes(3)\n"
   ]
  },
  {
   "cell_type": "markdown",
   "metadata": {},
   "source": [
    "# Function Exercise2:\n",
    "\n"
   ]
  },
  {
   "cell_type": "markdown",
   "metadata": {},
   "source": [
    "####  Write a Python function to multiply all the numbers in a list. \n",
    "\n",
    "Sample List : (8, 2, 3, -1, 7)\n",
    "Expected Output : -336 "
   ]
  },
  {
   "cell_type": "code",
   "execution_count": 13,
   "metadata": {},
   "outputs": [
    {
     "name": "stdout",
     "output_type": "stream",
     "text": [
      "Product:  -336\n"
     ]
    }
   ],
   "source": [
    "def mul(b):\n",
    "    mul1 = 1\n",
    "    for i in range(len(b)):\n",
    "        mul1 = mul1 * b[i]\n",
    "    print('Product: ',mul1)\n",
    "mul([8,2,3,-1,7])"
   ]
  },
  {
   "cell_type": "markdown",
   "metadata": {},
   "source": [
    "####  Write a Python function to sum all the numbers in a list. \n",
    "Sample List : (8, 2, 3, 0, 7)\n",
    "Expected Output : 20 "
   ]
  },
  {
   "cell_type": "code",
   "execution_count": 14,
   "metadata": {},
   "outputs": [
    {
     "name": "stdout",
     "output_type": "stream",
     "text": [
      "Sum is:  20\n"
     ]
    }
   ],
   "source": [
    "def addz(c):\n",
    "    addz1 = 0\n",
    "    for i in range(len(c)):\n",
    "        addz1 = addz1 + c[i]\n",
    "    print('Sum is: ',addz1)\n",
    "addz([8, 2, 3, 0, 7])\n"
   ]
  },
  {
   "cell_type": "markdown",
   "metadata": {},
   "source": [
    "####  Write a Python function that accepts a non-negative  integer as argumen and calculates the factorial of the number"
   ]
  },
  {
   "cell_type": "code",
   "execution_count": 15,
   "metadata": {},
   "outputs": [
    {
     "name": "stdout",
     "output_type": "stream",
     "text": [
      "Factorial is:  120\n"
     ]
    }
   ],
   "source": [
    "def fact(n):\n",
    "    fact = 1\n",
    "    if n==0 and n==1:\n",
    "        return fact\n",
    "    for i in range(1,n+1):\n",
    "        fact = fact*i\n",
    "    print('Factorial is: ',fact)\n",
    "fact(5)"
   ]
  },
  {
   "cell_type": "markdown",
   "metadata": {},
   "source": [
    "####  Write a Python program to reverse a string\n",
    "Sample String : \"1234abcd\"\n",
    "Expected Output : \"dcba4321\""
   ]
  },
  {
   "cell_type": "code",
   "execution_count": 16,
   "metadata": {},
   "outputs": [
    {
     "name": "stdout",
     "output_type": "stream",
     "text": [
      "dcba4321"
     ]
    }
   ],
   "source": [
    "s = '1234abcd'\n",
    "i = len(s)-1\n",
    "while i>=0:\n",
    "    print(s[i],end = '')\n",
    "    i -= 1"
   ]
  },
  {
   "cell_type": "markdown",
   "metadata": {},
   "source": [
    "#### Write a Python funtion which takes a list of numbers as argument and prints the even numbers from the given list."
   ]
  },
  {
   "cell_type": "code",
   "execution_count": 17,
   "metadata": {},
   "outputs": [
    {
     "name": "stdout",
     "output_type": "stream",
     "text": [
      "[2, 4, 6, 8, 10]\n"
     ]
    }
   ],
   "source": [
    "def even(en):\n",
    "    l = []\n",
    "    for i in en:\n",
    "        if i%2 == 0:\n",
    "            l.append(i)\n",
    "    print(l)\n",
    "even([1,2,3,4,5,6,7,8,9,10])"
   ]
  },
  {
   "cell_type": "markdown",
   "metadata": {},
   "source": [
    "#### Write a Python function that accepts a string and calculate the number of upper case letters and lower case letters."
   ]
  },
  {
   "cell_type": "code",
   "execution_count": 18,
   "metadata": {},
   "outputs": [
    {
     "name": "stdout",
     "output_type": "stream",
     "text": [
      "No. of Upper case characters :  5\n",
      "No. of Lower case characters : 6\n"
     ]
    }
   ],
   "source": [
    "def ulcount(s1):\n",
    "    u=l=0\n",
    "    for i in s1:\n",
    "        if i.isupper()==True:\n",
    "            u += 1\n",
    "        else:\n",
    "            l += 1\n",
    "    print('No. of Upper case characters : ',u)\n",
    "    print('No. of Lower case characters :',l)\n",
    "ulcount('AAAAhhshkjA')"
   ]
  },
  {
   "cell_type": "markdown",
   "metadata": {},
   "source": [
    "#### Write a Python function that takes a list and returns a new list with unique elements of the first list."
   ]
  },
  {
   "cell_type": "code",
   "execution_count": 19,
   "metadata": {},
   "outputs": [
    {
     "name": "stdout",
     "output_type": "stream",
     "text": [
      "[1, 2, 3, 4, 5]\n"
     ]
    }
   ],
   "source": [
    "def unique_list(ulist):\n",
    "    nlist = []\n",
    "    count = 0\n",
    "    for i in ulist:\n",
    "        if i != ulist[i]:\n",
    "            nlist.append(i)\n",
    "        else:\n",
    "            count += 1\n",
    "            if count<=1:\n",
    "                nlist.append(i)\n",
    "    print(nlist)\n",
    "\n",
    "unique_list([1,2,3,3,3,3,4,5])"
   ]
  },
  {
   "cell_type": "markdown",
   "metadata": {},
   "source": [
    "#### Write a Python function to check whether a number is in a given range."
   ]
  },
  {
   "cell_type": "code",
   "execution_count": 20,
   "metadata": {},
   "outputs": [
    {
     "name": "stdout",
     "output_type": "stream",
     "text": [
      "Enter the first range element: 1\n",
      "Enter the second range element: 10\n",
      "5  is in the range\n"
     ]
    }
   ],
   "source": [
    "def test_range(n1):\n",
    "    n9 = int(input('Enter the first range element: '))\n",
    "    n10 = int(input('Enter the second range element: '))\n",
    "    if(n1>n9 and n1<n10):\n",
    "        print(n1,' is in the range')\n",
    "    else:\n",
    "        print(n1,' is not in the range')\n",
    "test_range(5)"
   ]
  },
  {
   "cell_type": "markdown",
   "metadata": {},
   "source": [
    "#### Write a Python function that checks whether a passed string is palindrome or not.\n",
    "\n",
    "Note: A palindrome is a word, phrase, or sequence that reads the same backward as forward, e.g., madam or nurses run."
   ]
  },
  {
   "cell_type": "code",
   "execution_count": 21,
   "metadata": {},
   "outputs": [
    {
     "name": "stdout",
     "output_type": "stream",
     "text": [
      "Not a Palindrome\n"
     ]
    }
   ],
   "source": [
    "def isPalindrome(s):\n",
    "    s1 = s[::-1]\n",
    "    if s==s1:\n",
    "        print('Palindrome')\n",
    "    else:\n",
    "        print('Not a Palindrome')\n",
    "isPalindrome('azaz') "
   ]
  },
  {
   "cell_type": "markdown",
   "metadata": {},
   "source": [
    "#### Write a Python function to create and print a list where the values are square of numbers between 1 and 10 (both included)."
   ]
  },
  {
   "cell_type": "code",
   "execution_count": 22,
   "metadata": {},
   "outputs": [
    {
     "name": "stdout",
     "output_type": "stream",
     "text": [
      "[1, 4, 9, 16, 25, 36, 49, 64, 81, 100]\n"
     ]
    }
   ],
   "source": [
    "def print_square_Values():\n",
    "    d = []\n",
    "    for i in range(1,11):\n",
    "        d.append(i**2)\n",
    "    print(d)\n",
    "\n",
    "print_square_Values()"
   ]
  },
  {
   "cell_type": "markdown",
   "metadata": {},
   "source": [
    "#### write fibonacci function 1,1,2,3,5,8 => fib(n) using recursion"
   ]
  },
  {
   "cell_type": "code",
   "execution_count": 23,
   "metadata": {},
   "outputs": [
    {
     "name": "stdout",
     "output_type": "stream",
     "text": [
      "Enter the Number of terms: 10\n",
      "0 1 1 2 3 5 8 13 21 34 "
     ]
    }
   ],
   "source": [
    "def fib1(n):\n",
    "    if n<=1:\n",
    "        return n\n",
    "    return fib1(n-1) + fib1(n-2)\n",
    "n = int(input('Enter the Number of terms: '))\n",
    "for i in range(n):\n",
    "    print(fib1(i),end=' ')"
   ]
  },
  {
   "cell_type": "markdown",
   "metadata": {},
   "source": [
    "#### write fibonacci function fib2 using iteration"
   ]
  },
  {
   "cell_type": "code",
   "execution_count": 24,
   "metadata": {},
   "outputs": [
    {
     "name": "stdout",
     "output_type": "stream",
     "text": [
      "0\n",
      "1\n",
      "1\n",
      "2\n",
      "3\n",
      "5\n",
      "8\n",
      "13\n",
      "21\n",
      "34\n"
     ]
    }
   ],
   "source": [
    "def fib2(n):\n",
    "    first = 0\n",
    "    second = 1\n",
    "    print(first)\n",
    "    print(second)\n",
    "    for i in range(2,n):\n",
    "        next = first + second\n",
    "        print(next)\n",
    "        first = second\n",
    "        second = next\n",
    "fib2(10)"
   ]
  },
  {
   "cell_type": "markdown",
   "metadata": {},
   "source": [
    "####  function that takes an argument and finds sum of squares of variable number of the argument"
   ]
  },
  {
   "cell_type": "code",
   "execution_count": 25,
   "metadata": {},
   "outputs": [
    {
     "name": "stdout",
     "output_type": "stream",
     "text": [
      "30\n"
     ]
    }
   ],
   "source": [
    "def sumOfSquares(*n):\n",
    "    sum = 0\n",
    "    for i in n:\n",
    "        sum = sum + i**2\n",
    "    print(sum)\n",
    "\n",
    "sumOfSquares(1,2,3,4)"
   ]
  },
  {
   "cell_type": "code",
   "execution_count": 26,
   "metadata": {},
   "outputs": [
    {
     "name": "stdout",
     "output_type": "stream",
     "text": [
      "[]\n"
     ]
    }
   ],
   "source": [
    "def unique_list(ulist):\n",
    "    nlist = []\n",
    "    for i in ulist:\n",
    "        if i not in ulist:\n",
    "            nlist.append(i)\n",
    "    return  nlist\n",
    "print(unique_list([1,2,3,3,3,3,4,5]))"
   ]
  }
 ],
 "metadata": {
  "kernelspec": {
   "display_name": "Python 3",
   "language": "python",
   "name": "python3"
  },
  "language_info": {
   "codemirror_mode": {
    "name": "ipython",
    "version": 3
   },
   "file_extension": ".py",
   "mimetype": "text/x-python",
   "name": "python",
   "nbconvert_exporter": "python",
   "pygments_lexer": "ipython3",
   "version": "3.7.3"
  }
 },
 "nbformat": 4,
 "nbformat_minor": 2
}
