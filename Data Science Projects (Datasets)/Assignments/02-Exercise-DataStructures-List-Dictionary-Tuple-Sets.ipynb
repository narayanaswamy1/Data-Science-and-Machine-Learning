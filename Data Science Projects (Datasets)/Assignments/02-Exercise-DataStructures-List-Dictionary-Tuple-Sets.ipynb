{
 "cells": [
  {
   "cell_type": "markdown",
   "metadata": {},
   "source": [
    "#### Q1. Declare a list and find its length?"
   ]
  },
  {
   "cell_type": "code",
   "execution_count": 2,
   "metadata": {},
   "outputs": [
    {
     "name": "stdout",
     "output_type": "stream",
     "text": [
      "Length :  5\n"
     ]
    }
   ],
   "source": [
    "a = [1,2,3,4,5]\n",
    "print('Length : ',len(a))"
   ]
  },
  {
   "cell_type": "markdown",
   "metadata": {},
   "source": [
    "#### Q2. Can list be nested?"
   ]
  },
  {
   "cell_type": "code",
   "execution_count": 3,
   "metadata": {},
   "outputs": [
    {
     "data": {
      "text/plain": [
       "['a', 'b', 1, 3, [9, 8, 6]]"
      ]
     },
     "execution_count": 3,
     "metadata": {},
     "output_type": "execute_result"
    }
   ],
   "source": [
    "# yes list can be nested\n",
    "b = ['a','b',1,3,[9,8,6]]\n",
    "b"
   ]
  },
  {
   "cell_type": "markdown",
   "metadata": {},
   "source": [
    "#### Q3. What will happen if we add the two lists\n",
    "\n",
    "l1=[2,4,5,1]\n",
    "\n",
    "l2= [3,2.6.7]"
   ]
  },
  {
   "cell_type": "code",
   "execution_count": 4,
   "metadata": {},
   "outputs": [
    {
     "data": {
      "text/plain": [
       "[2, 4, 5, 1, 3, 2, 6, 7]"
      ]
     },
     "execution_count": 4,
     "metadata": {},
     "output_type": "execute_result"
    }
   ],
   "source": [
    "# Elements will be appended to the list\n",
    "l1 = [2,4,5,1]\n",
    "l2 = [3,2,6,7]\n",
    "l1+l2"
   ]
  },
  {
   "cell_type": "markdown",
   "metadata": {},
   "source": [
    "#### Q4. What will happen if we multiply the following list by 3\n",
    "\n",
    "l1=[2,4,5,1]"
   ]
  },
  {
   "cell_type": "code",
   "execution_count": 5,
   "metadata": {},
   "outputs": [
    {
     "data": {
      "text/plain": [
       "[2, 4, 5, 1, 2, 4, 5, 1, 2, 4, 5, 1]"
      ]
     },
     "execution_count": 5,
     "metadata": {},
     "output_type": "execute_result"
    }
   ],
   "source": [
    "# Elements will be repeated 3 times\n",
    "l3 = [2,4,5,1]\n",
    "l3*3"
   ]
  },
  {
   "cell_type": "markdown",
   "metadata": {},
   "source": [
    "#### Q5. Use indexing to grab the word \"Test Yantra\" from the following list"
   ]
  },
  {
   "cell_type": "code",
   "execution_count": 6,
   "metadata": {},
   "outputs": [
    {
     "data": {
      "text/plain": [
       "'Test Yantra'"
      ]
     },
     "execution_count": 6,
     "metadata": {},
     "output_type": "execute_result"
    }
   ],
   "source": [
    "lst1 = [1,3,5,7,\"Test Yantra\"]\n",
    "lst1[4]"
   ]
  },
  {
   "cell_type": "markdown",
   "metadata": {},
   "source": [
    "#### Q6. Use indexing to grab the word \"Data Science\" from the following list"
   ]
  },
  {
   "cell_type": "code",
   "execution_count": 7,
   "metadata": {},
   "outputs": [
    {
     "data": {
      "text/plain": [
       "'DataScience'"
      ]
     },
     "execution_count": 7,
     "metadata": {},
     "output_type": "execute_result"
    }
   ],
   "source": [
    "lst3=[33,21,4,6,7,[[2,1,34,\"DataScience\"], 22,True]]\n",
    "lst3[5][0][3]"
   ]
  },
  {
   "cell_type": "markdown",
   "metadata": {},
   "source": [
    "#### Q7. Use indexing to grab the word \"Python\" from the following list"
   ]
  },
  {
   "cell_type": "code",
   "execution_count": 8,
   "metadata": {},
   "outputs": [
    {
     "data": {
      "text/plain": [
       "'Python'"
      ]
     },
     "execution_count": 8,
     "metadata": {},
     "output_type": "execute_result"
    }
   ],
   "source": [
    "lst = [1,2,[3,4],[5,[100,200,['Python']],23,11],1,7]\n",
    "lst[3][1][2][0]"
   ]
  },
  {
   "cell_type": "markdown",
   "metadata": {},
   "source": [
    "#### Q8. Use indexing to grab the word \"hello\" from the following list"
   ]
  },
  {
   "cell_type": "code",
   "execution_count": 9,
   "metadata": {},
   "outputs": [
    {
     "data": {
      "text/plain": [
       "'hello'"
      ]
     },
     "execution_count": 9,
     "metadata": {},
     "output_type": "execute_result"
    }
   ],
   "source": [
    "lst4 = [1,2,[3,4],[5,[100,200,['hello']],23,11],1,7]\n",
    "lst4[3][1][2][0]"
   ]
  },
  {
   "cell_type": "markdown",
   "metadata": {},
   "source": [
    " #### Q9. Given this nested list, use indexing to grab the word \"final_target\" "
   ]
  },
  {
   "cell_type": "code",
   "execution_count": 10,
   "metadata": {},
   "outputs": [
    {
     "data": {
      "text/plain": [
       "'final_target'"
      ]
     },
     "execution_count": 10,
     "metadata": {},
     "output_type": "execute_result"
    }
   ],
   "source": [
    "nest = [1,2,3,[4,5,['target', 'next_target',['final_target']]]]\n",
    "nest[3][2][2][0]"
   ]
  },
  {
   "cell_type": "markdown",
   "metadata": {},
   "source": [
    "#### Q10. name some in-built methods for list and give example for each of them\n"
   ]
  },
  {
   "cell_type": "code",
   "execution_count": 11,
   "metadata": {},
   "outputs": [
    {
     "name": "stdout",
     "output_type": "stream",
     "text": [
      "[1, 2, 3, 4, 5, 6, 7, 8, 9, 10, 99]\n",
      "[1, 2, 3, 4, 5, 6, 7, 8, 9, 10, 99, 22, 33, 44]\n",
      "[1, 2, 3, 4, 5, 6, 7, 8, 9, 10, 99, 22, 33, 44, [55]]\n",
      "2\n",
      "[1, 2, 77, 3, 4, 5, 6, 7, 8, 9, 10, 99, 22, 33, 44, [55]]\n",
      "[[55], 44, 33, 22, 99, 10, 9, 8, 7, 6, 5, 4, 3, 77, 2, 1]\n",
      "[[55], 44, 33, 22, 99, 10, 8, 7, 6, 5, 4, 3, 77, 2, 1]\n"
     ]
    }
   ],
   "source": [
    "l = [1,2,3,4,5,6,7,8,9,10]\n",
    "l.append(99)\n",
    "print(l)\n",
    "l.extend([22,33,44])\n",
    "print(l)\n",
    "l.append([55])\n",
    "print(l)\n",
    "print(l.index(3))\n",
    "l.insert(2,77)\n",
    "print(l)\n",
    "l.reverse()\n",
    "print(l)\n",
    "l.remove(9)\n",
    "print(l)"
   ]
  },
  {
   "cell_type": "markdown",
   "metadata": {},
   "source": [
    "#### Q11. What is the difference between 'del' and 'clear' with respect to list ?\n"
   ]
  },
  {
   "cell_type": "code",
   "execution_count": 12,
   "metadata": {},
   "outputs": [],
   "source": [
    "# del:    it will clear the value along with the memory\n",
    "# clear:  it ill clear only the value"
   ]
  },
  {
   "cell_type": "markdown",
   "metadata": {},
   "source": [
    "#### Q12. Write codes to create a dictionary and use some inbuilt methods "
   ]
  },
  {
   "cell_type": "code",
   "execution_count": 13,
   "metadata": {},
   "outputs": [
    {
     "name": "stdout",
     "output_type": "stream",
     "text": [
      "apple\n",
      "dict_items([(1, 'apple'), (2, 'ball'), (3, 'cat'), (4, 'dog')])\n",
      "dict_keys([1, 2, 3, 4])\n",
      "dict_values(['apple', 'ball', 'cat', 'dog'])\n",
      "(4, 'dog')\n",
      "apple\n"
     ]
    }
   ],
   "source": [
    "d = {1:'apple',2:'ball',3:'cat',4:'dog'}\n",
    "d\n",
    "print(d.get(1))\n",
    "print(d.items())\n",
    "print(d.keys())\n",
    "print(d.values())\n",
    "print(d.popitem())\n",
    "print(d.setdefault(1))"
   ]
  },
  {
   "cell_type": "markdown",
   "metadata": {},
   "source": [
    "#### Q13.Given this nested dictionary grab the word \"val3\". "
   ]
  },
  {
   "cell_type": "code",
   "execution_count": 14,
   "metadata": {},
   "outputs": [],
   "source": [
    "d = {'key1':{'val1':{'val2':'val3'}}}"
   ]
  },
  {
   "cell_type": "code",
   "execution_count": 15,
   "metadata": {},
   "outputs": [
    {
     "data": {
      "text/plain": [
       "'val3'"
      ]
     },
     "execution_count": 15,
     "metadata": {},
     "output_type": "execute_result"
    }
   ],
   "source": [
    "d['key1']['val1']['val2']"
   ]
  },
  {
   "cell_type": "markdown",
   "metadata": {},
   "source": [
    "#### Q14.Given this nested dictionary grab the word \"welome\""
   ]
  },
  {
   "cell_type": "code",
   "execution_count": 16,
   "metadata": {},
   "outputs": [],
   "source": [
    "d1 = {'key1':[1,3,5,{'hello':[{'world':[4,6,'welcome']},'a','e','g']}]}"
   ]
  },
  {
   "cell_type": "code",
   "execution_count": 17,
   "metadata": {},
   "outputs": [
    {
     "data": {
      "text/plain": [
       "'welcome'"
      ]
     },
     "execution_count": 17,
     "metadata": {},
     "output_type": "execute_result"
    }
   ],
   "source": [
    "d1['key1'][3]['hello'][0]['world'][2]"
   ]
  },
  {
   "cell_type": "markdown",
   "metadata": {},
   "source": [
    "#### Q15.Given this nested dictionary grab the word \"Data Scientist\""
   ]
  },
  {
   "cell_type": "code",
   "execution_count": 18,
   "metadata": {},
   "outputs": [],
   "source": [
    "d2 = {'key1':[1,3,5,{'I am':[5,7,8,[{'a':[4,6,['Data Scientist']]},'a','e','g']]}]}"
   ]
  },
  {
   "cell_type": "code",
   "execution_count": 19,
   "metadata": {},
   "outputs": [
    {
     "data": {
      "text/plain": [
       "'Data Scientist'"
      ]
     },
     "execution_count": 19,
     "metadata": {},
     "output_type": "execute_result"
    }
   ],
   "source": [
    "d2['key1'][3]['I am'][3][0]['a'][2][0]"
   ]
  },
  {
   "cell_type": "markdown",
   "metadata": {},
   "source": [
    "#### Q16.Given this nested dictionary grab the word \"hello\"."
   ]
  },
  {
   "cell_type": "code",
   "execution_count": 20,
   "metadata": {},
   "outputs": [],
   "source": [
    "d3 = {'k1':[1,2,3,{'tricky':['oh','man','inception',{'target':[1,2,3,'hello']}]}]}"
   ]
  },
  {
   "cell_type": "code",
   "execution_count": 21,
   "metadata": {},
   "outputs": [
    {
     "data": {
      "text/plain": [
       "'hello'"
      ]
     },
     "execution_count": 21,
     "metadata": {},
     "output_type": "execute_result"
    }
   ],
   "source": [
    "d3['k1'][3]['tricky'][3]['target'][3]"
   ]
  },
  {
   "cell_type": "markdown",
   "metadata": {},
   "source": [
    "#### Q17.  Create one Tuple and use some methods associated with that"
   ]
  },
  {
   "cell_type": "code",
   "execution_count": 22,
   "metadata": {},
   "outputs": [
    {
     "name": "stdout",
     "output_type": "stream",
     "text": [
      "1\n",
      "4\n"
     ]
    }
   ],
   "source": [
    "tup = (1,2,3,4,5,6)\n",
    "print(tup.count(2))\n",
    "print(tup.index(5))"
   ]
  },
  {
   "cell_type": "markdown",
   "metadata": {},
   "source": [
    "#### Q18.  Create some Sets and use some methods associated with that"
   ]
  },
  {
   "cell_type": "code",
   "execution_count": 23,
   "metadata": {},
   "outputs": [
    {
     "name": "stdout",
     "output_type": "stream",
     "text": [
      "{1, 2}\n",
      "{3, 4}\n",
      "False\n",
      "False\n",
      "False\n",
      "{1, 2, 3, 4, 5, 6}\n"
     ]
    }
   ],
   "source": [
    "s1 = {1,2,3,4}\n",
    "s2 = {3,4,5,6}\n",
    "print(s1.difference(s2))\n",
    "print(s1.intersection(s2))\n",
    "print(s1.isdisjoint(s2))\n",
    "print(s1.issubset(s2))\n",
    "print(s1.issuperset(s2))\n",
    "print(s1.union(s2))"
   ]
  }
 ],
 "metadata": {
  "kernelspec": {
   "display_name": "Python 3",
   "language": "python",
   "name": "python3"
  },
  "language_info": {
   "codemirror_mode": {
    "name": "ipython",
    "version": 3
   },
   "file_extension": ".py",
   "mimetype": "text/x-python",
   "name": "python",
   "nbconvert_exporter": "python",
   "pygments_lexer": "ipython3",
   "version": "3.7.3"
  }
 },
 "nbformat": 4,
 "nbformat_minor": 2
}
