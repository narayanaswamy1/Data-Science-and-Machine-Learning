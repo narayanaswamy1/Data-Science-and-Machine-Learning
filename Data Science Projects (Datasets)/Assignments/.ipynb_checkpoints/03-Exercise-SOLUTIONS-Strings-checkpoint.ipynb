{
 "cells": [
  {
   "cell_type": "markdown",
   "metadata": {},
   "source": [
    "#### Q1. Print \"Hello World\" "
   ]
  },
  {
   "cell_type": "code",
   "execution_count": 1,
   "metadata": {},
   "outputs": [
    {
     "name": "stdout",
     "output_type": "stream",
     "text": [
      "Hello World\n"
     ]
    }
   ],
   "source": [
    "print('Hello World')"
   ]
  },
  {
   "cell_type": "markdown",
   "metadata": {},
   "source": [
    "#### Q2.Write code in python to get the length of a string "
   ]
  },
  {
   "cell_type": "code",
   "execution_count": 2,
   "metadata": {},
   "outputs": [
    {
     "name": "stdout",
     "output_type": "stream",
     "text": [
      "Length:  11\n"
     ]
    }
   ],
   "source": [
    "s = 'Hello World'\n",
    "print('Length: ',len(s))"
   ]
  },
  {
   "cell_type": "markdown",
   "metadata": {},
   "source": [
    "#### Q3. Declare a string in python and write a program to keep count the number of times each character appeared in the string"
   ]
  },
  {
   "cell_type": "code",
   "execution_count": 3,
   "metadata": {},
   "outputs": [
    {
     "name": "stdout",
     "output_type": "stream",
     "text": [
      "h 1\n",
      "e 1\n",
      "l 1\n",
      "l 2\n",
      "o 1\n",
      "  1\n",
      "w 1\n",
      "o 2\n",
      "r 1\n",
      "l 3\n",
      "d 1\n"
     ]
    }
   ],
   "source": [
    "s1 = 'hello world'\n",
    "for i in range(len(s1)):\n",
    "    count = 1\n",
    "    for j in range(i):\n",
    "        if s1[j] == s1[i]:\n",
    "            count += 1\n",
    "    print(s1[i], count)"
   ]
  },
  {
   "cell_type": "markdown",
   "metadata": {},
   "source": [
    "#### Q4. Write a python program which takes the initial letters from the Name and Cername of a person and prints the initials."
   ]
  },
  {
   "cell_type": "code",
   "execution_count": 4,
   "metadata": {},
   "outputs": [
    {
     "name": "stdout",
     "output_type": "stream",
     "text": [
      "N S\n"
     ]
    }
   ],
   "source": [
    "name = 'Narayana Swamy'\n",
    "print(name.split()[0][0],name.split()[1][0])"
   ]
  },
  {
   "cell_type": "markdown",
   "metadata": {},
   "source": [
    "#### Q5. Write a python Program which counts the number of occurance of a substring in a particular string "
   ]
  },
  {
   "cell_type": "code",
   "execution_count": 5,
   "metadata": {},
   "outputs": [
    {
     "data": {
      "text/plain": [
       "2"
      ]
     },
     "execution_count": 5,
     "metadata": {},
     "output_type": "execute_result"
    }
   ],
   "source": [
    "ss = 'I am a Data Scientist and i am learning Python'\n",
    "ss.count('am')"
   ]
  },
  {
   "cell_type": "markdown",
   "metadata": {},
   "source": [
    "#### Q6. Write a Python program to find smallest and largest word in a given string"
   ]
  },
  {
   "cell_type": "code",
   "execution_count": 6,
   "metadata": {},
   "outputs": [
    {
     "name": "stdout",
     "output_type": "stream",
     "text": [
      "I 1\n",
      "am 2\n",
      "a 1\n",
      "Data 4\n",
      "Scientist 9\n",
      "and 3\n",
      "i 1\n",
      "am 2\n",
      "learning 8\n",
      "Python 6\n"
     ]
    }
   ],
   "source": [
    "ss1 = 'I am a Data Scientist and i am learning Python'\n",
    "ss2 = ss1.split()\n",
    "for i in range(len(ss2)):\n",
    "    print(ss2[i],len(ss2[i]))"
   ]
  },
  {
   "cell_type": "markdown",
   "metadata": {},
   "source": [
    "#### Q7. How will you get 'Python' from the string \"I like to code in Python\""
   ]
  },
  {
   "cell_type": "code",
   "execution_count": 7,
   "metadata": {},
   "outputs": [
    {
     "data": {
      "text/plain": [
       "'Python'"
      ]
     },
     "execution_count": 7,
     "metadata": {},
     "output_type": "execute_result"
    }
   ],
   "source": [
    "st = 'I like to code in Python'\n",
    "str = st.split()\n",
    "str[len(str)-1]"
   ]
  },
  {
   "cell_type": "markdown",
   "metadata": {},
   "source": [
    "#### Q8. Name  10 in-built methods/functions used for string with examples."
   ]
  },
  {
   "cell_type": "code",
   "execution_count": 8,
   "metadata": {},
   "outputs": [
    {
     "name": "stdout",
     "output_type": "stream",
     "text": [
      "Hello world\n",
      "hello world\n",
      "HELLO WORLD\n",
      "Hello World\n",
      "False\n",
      "True\n",
      "False\n",
      "False\n",
      "['hello', 'World']\n",
      "h-e-l-l-o- -W-o-r-l-d\n"
     ]
    }
   ],
   "source": [
    "sz = 'hello World'\n",
    "print(sz.capitalize())\n",
    "print(sz.lower())\n",
    "print(sz.upper())\n",
    "print(sz.title())\n",
    "print(sz.endswith('z'))\n",
    "print(sz.startswith('h'))\n",
    "print(sz.isalpha())\n",
    "print(sz.isdigit())\n",
    "print(sz.split())\n",
    "print('-'.join(sz))"
   ]
  },
  {
   "cell_type": "markdown",
   "metadata": {},
   "source": [
    "#### Q9 Find the number of words in the string \" I am a Data Scientist\""
   ]
  },
  {
   "cell_type": "code",
   "execution_count": 9,
   "metadata": {},
   "outputs": [
    {
     "name": "stdout",
     "output_type": "stream",
     "text": [
      "number of words:  5\n"
     ]
    }
   ],
   "source": [
    "s1 = 'I am a Data Scientist'\n",
    "print('number of words: ',len(s1.split()))"
   ]
  },
  {
   "cell_type": "markdown",
   "metadata": {},
   "source": []
  },
  {
   "cell_type": "code",
   "execution_count": null,
   "metadata": {},
   "outputs": [],
   "source": []
  }
 ],
 "metadata": {
  "kernelspec": {
   "display_name": "Python 3",
   "language": "python",
   "name": "python3"
  },
  "language_info": {
   "codemirror_mode": {
    "name": "ipython",
    "version": 3
   },
   "file_extension": ".py",
   "mimetype": "text/x-python",
   "name": "python",
   "nbconvert_exporter": "python",
   "pygments_lexer": "ipython3",
   "version": "3.7.3"
  }
 },
 "nbformat": 4,
 "nbformat_minor": 2
}
