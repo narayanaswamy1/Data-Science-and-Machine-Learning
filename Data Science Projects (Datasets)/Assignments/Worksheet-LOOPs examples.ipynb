{
 "cells": [
  {
   "cell_type": "markdown",
   "metadata": {
    "collapsed": true
   },
   "source": [
    "# List Comprehensions\n",
    "\n",
    "In addition to sequence operations and list methods, Python includes a more advanced operation called a list comprehension.\n",
    "\n",
    "List comprehensions allow us to build out lists using a different notation. You can think of it as essentially a one line <code>for</code> loop built inside of brackets. For a simple example:\n",
    "#### Example 1"
   ]
  },
  {
   "cell_type": "code",
   "execution_count": 1,
   "metadata": {},
   "outputs": [
    {
     "name": "stdout",
     "output_type": "stream",
     "text": [
      "['w', 'o', 'r', 'd', 's']\n",
      "['w', 'o', 'r', 'd', 's']\n"
     ]
    }
   ],
   "source": [
    "# Grab every letter in string\n",
    "\n",
    "s = 'words'\n",
    "l = []\n",
    "for i in range(len(s)):\n",
    "    l.append(s[i])\n",
    "print(l)\n",
    "\n",
    "# or\n",
    "\n",
    "sl = [x for x in s]\n",
    "print(sl)"
   ]
  },
  {
   "cell_type": "markdown",
   "metadata": {},
   "source": [
    "\n",
    "#### Example 2"
   ]
  },
  {
   "cell_type": "code",
   "execution_count": 2,
   "metadata": {},
   "outputs": [
    {
     "name": "stdout",
     "output_type": "stream",
     "text": [
      "[0, 1, 4, 9, 16, 25]\n",
      "[0, 1, 4, 9, 16, 25]\n"
     ]
    }
   ],
   "source": [
    "# Square numbers in range and turn into list\n",
    "\n",
    "l1 = []\n",
    "for i in range(6):\n",
    "    l1.append(i**2)\n",
    "print(l1)\n",
    "\n",
    "# or\n",
    "\n",
    "sz1 = [x**2 for x in range(6)]\n",
    "print(sz1)"
   ]
  },
  {
   "cell_type": "markdown",
   "metadata": {},
   "source": [
    "#### Example 3\n",
    "Let's see how to add in <code>if</code> statements:"
   ]
  },
  {
   "cell_type": "code",
   "execution_count": 3,
   "metadata": {},
   "outputs": [
    {
     "name": "stdout",
     "output_type": "stream",
     "text": [
      "[0, 2, 4, 6, 8, 10]\n",
      "[0, 2, 4, 6, 8, 10]\n"
     ]
    }
   ],
   "source": [
    "# Check for even numbers in a range\n",
    "\n",
    "l2 = []\n",
    "for i in range(11):\n",
    "    if i%2==0:\n",
    "        l2.append(i)\n",
    "print(l2)\n",
    "\n",
    "# or\n",
    "\n",
    "sz2 = [x for x in range(11) if x%2==0]\n",
    "print(sz2)"
   ]
  },
  {
   "cell_type": "markdown",
   "metadata": {},
   "source": [
    "#### Example 4\n",
    "Can also do more complicated arithmetic:"
   ]
  },
  {
   "cell_type": "code",
   "execution_count": 4,
   "metadata": {},
   "outputs": [
    {
     "data": {
      "text/plain": [
       "[32.0, 50.0, 68.18, 94.1]"
      ]
     },
     "execution_count": 4,
     "metadata": {},
     "output_type": "execute_result"
    }
   ],
   "source": [
    "# Convert Celsius to Fahrenheit\n",
    "\n",
    "celsius = [0,10,20.1,34.5]\n",
    "#f = ((c*9)/5) +32\n",
    "l3 = []\n",
    "for i in celsius:\n",
    "    l3.append(((i*9)/5) +32)\n",
    "l3"
   ]
  },
  {
   "cell_type": "markdown",
   "metadata": {},
   "source": [
    "#### Example 5\n",
    "We can also perform nested list comprehensions, for example:"
   ]
  },
  {
   "cell_type": "code",
   "execution_count": 5,
   "metadata": {},
   "outputs": [
    {
     "data": {
      "text/plain": [
       "[0, 1, 16, 81, 256, 625, 1296, 2401, 4096, 6561, 10000]"
      ]
     },
     "execution_count": 5,
     "metadata": {},
     "output_type": "execute_result"
    }
   ],
   "source": [
    "lst = [i**2 for i in (i**2 for i in range(11))]\n",
    "lst"
   ]
  },
  {
   "cell_type": "markdown",
   "metadata": {},
   "source": [
    "# Exercise:\n"
   ]
  },
  {
   "cell_type": "markdown",
   "metadata": {},
   "source": [
    "####  Write a Python program to find those numbers which are divisible by 7 and multiple of 5, between 1500 and 2700 (both included)"
   ]
  },
  {
   "cell_type": "code",
   "execution_count": 6,
   "metadata": {},
   "outputs": [
    {
     "name": "stdout",
     "output_type": "stream",
     "text": [
      "[1505, 1540, 1575, 1610, 1645, 1680, 1715, 1750, 1785, 1820, 1855, 1890, 1925, 1960, 1995, 2030, 2065, 2100, 2135, 2170, 2205, 2240, 2275, 2310, 2345, 2380, 2415, 2450, 2485, 2520, 2555, 2590, 2625, 2660, 2695]\n"
     ]
    }
   ],
   "source": [
    "l4=[]\n",
    "for i in range(1500, 2701):\n",
    "    if (i%7==0) and (i%5==0):\n",
    "        l4.append((i))\n",
    "\n",
    "print(l4)\n"
   ]
  },
  {
   "cell_type": "markdown",
   "metadata": {},
   "source": [
    "#### Write a Python program to convert temperatures to and from celsius, fahrenheit.\n",
    "[ Formula : c/5 = f-32/9 [ where c = temperature in celsius and f = temperature in fahrenheit ] \n",
    "\n",
    "Expected Output : \n",
    "\n",
    "60°C is 140 in Fahrenheit\n",
    "\n",
    "45°F is 7 in Celsius "
   ]
  },
  {
   "cell_type": "code",
   "execution_count": 7,
   "metadata": {},
   "outputs": [
    {
     "name": "stdout",
     "output_type": "stream",
     "text": [
      "Input the  temperature you like to convert? (e.g., 45F, 102C etc.) : 102f\n",
      "102 is 38.88888888888889 in Celsius\n"
     ]
    }
   ],
   "source": [
    "temp = input(\"Input the  temperature you like to convert? (e.g., 45F, 102C etc.) : \")\n",
    "degree = int(temp[:-1])\n",
    "conv = temp[-1]\n",
    "if conv.lower() == 'c':\n",
    "    print(degree,'is',((degree*9)/5)+32,'in Fahrenheit')\n",
    "elif conv.lower() == 'f':\n",
    "    print(degree,'is',((5/9)*(degree-32)),'in Celsius')\n",
    "else:\n",
    "    print('Invalid Temparature')"
   ]
  },
  {
   "cell_type": "markdown",
   "metadata": {},
   "source": [
    "#### Write a Python program to check whether an alphabet is a vowel or consonant\n"
   ]
  },
  {
   "cell_type": "code",
   "execution_count": 8,
   "metadata": {},
   "outputs": [
    {
     "name": "stdout",
     "output_type": "stream",
     "text": [
      "Enter an Alphabet: a\n",
      "a is Vowel\n"
     ]
    }
   ],
   "source": [
    "a = input('Enter an Alphabet: ')\n",
    "if a in ['a','e','i','o','u','A','E','I','O','U']:\n",
    "    print(a,'is Vowel')\n",
    "else:\n",
    "    print(a,'not an Vowel')"
   ]
  },
  {
   "cell_type": "markdown",
   "metadata": {},
   "source": [
    "####   Write a Python program to get the sum of two given integers. However, if the sum is between 15 to 20 it will return 20."
   ]
  },
  {
   "cell_type": "code",
   "execution_count": 9,
   "metadata": {},
   "outputs": [
    {
     "name": "stdout",
     "output_type": "stream",
     "text": [
      "Enter first Number: 1\n",
      "Enter second Number: 10\n",
      "Sum:  11\n"
     ]
    }
   ],
   "source": [
    "n1 = int(input('Enter first Number: '))\n",
    "n2 = int(input('Enter second Number: '))\n",
    "if (n1+n2 > 15) and (n1+n2 < 20):\n",
    "    print(20)\n",
    "else:\n",
    "    print('Sum: ',n1+n2)"
   ]
  },
  {
   "cell_type": "markdown",
   "metadata": {},
   "source": [
    "####  Write a Python program that prints the total number of days in a month if  month name is given\n"
   ]
  },
  {
   "cell_type": "code",
   "execution_count": 10,
   "metadata": {},
   "outputs": [
    {
     "name": "stdout",
     "output_type": "stream",
     "text": [
      "Enter the Month: may\n",
      "No. of Days in May is:  31\n"
     ]
    }
   ],
   "source": [
    "chk = input('Enter the Month: ')\n",
    "mon = {'january':31,'febraury':28,'march':31,'april':30,'may':31,'june':30,'july':31,'august':31,'september':30,'october':31,'november':30,'december':31}\n",
    "for i in mon:\n",
    "    if i in chk.lower():\n",
    "        print('No. of Days in',i.capitalize(),'is: ',mon.get(i))\n",
    "    else:\n",
    "        pass"
   ]
  },
  {
   "cell_type": "markdown",
   "metadata": {},
   "source": [
    "#### Write a Python program to display astrological sign for given date of birth. \n",
    "\n",
    "Expected Output:\n",
    "\n",
    "Input birthday: 15                                                      \n",
    "\n",
    "Input month of birth (e.g. march, july etc): may                        \n",
    "\n",
    "Your Astrological sign is : Taurus"
   ]
  },
  {
   "cell_type": "code",
   "execution_count": 11,
   "metadata": {},
   "outputs": [
    {
     "name": "stdout",
     "output_type": "stream",
     "text": [
      "Enter date: 25\n",
      "Enter month: may\n",
      "Gemini\n"
     ]
    }
   ],
   "source": [
    "a = int(input('Enter date: '))\n",
    "b = input('Enter month: ')\n",
    "mon = ['january','febraury','march','april','may','june','july','august','september','october','november','december']\n",
    "if (b==mon[0] and a>=20) or (b==mon[1] and a<=18):\n",
    "    print('Aquarius')\n",
    "elif (b==mon[1] and a>=19) or (b==mon[2] and a<=20):\n",
    "    print('Pisces')\n",
    "elif (b==mon[2] and a>=21) or (b==mon[3] and a<=19):\n",
    "    print('Aries')\n",
    "elif (b==mon[3] and a>=20) or (b==mon[4] and a<=20):\n",
    "    print('Taurus')\n",
    "elif (b==mon[4] and a>=21) or (b==mon[5] and a<=20):\n",
    "    print('Gemini')\n",
    "elif (b==mon[5] and a>=21) or (b==mon[6] and a<=22):\n",
    "    print('Cancer')\n",
    "elif (b==mon[6] and a>=23) or (b==mon[7] and a<=22):\n",
    "    print('Leo')\n",
    "elif (b==mon[7] and a>=23) or (b==mon[8] and a<=22):\n",
    "    print('Virgo')\n",
    "elif (b==mon[8] and a>=23) or (b==mon[9] and a<=22):\n",
    "    print('Libra')\n",
    "elif (b==mon[9] and a>=23) or (b==mon[10] and a<=21):\n",
    "    print('Scorpio')\n",
    "elif (b==mon[10] and a>=22) or (b==mon[11] and a<=21):\n",
    "    print('Sagittarius')\n",
    "elif (b==mon[11] and a>=22) or (b==mon[1] and a<=19):\n",
    "    print('Capricorn')\n",
    "else:\n",
    "    print('Invalid Details')"
   ]
  },
  {
   "attachments": {
    "image.png": {
     "image/png": "[encoded data removed]"
    }
   },
   "cell_type": "markdown",
   "metadata": {},
   "source": [
    "####  Write a Python program to print alphabet pattern 'Z'\n",
    "Expected Output:\n",
    "![image.png](attachment:image.png)"
   ]
  },
  {
   "cell_type": "code",
   "execution_count": 12,
   "metadata": {
    "scrolled": true
   },
   "outputs": [
    {
     "name": "stdout",
     "output_type": "stream",
     "text": [
      "*******\n",
      "     * \n",
      "    *  \n",
      "   *   \n",
      "  *    \n",
      " *     \n",
      "*******\n"
     ]
    }
   ],
   "source": [
    "n = 7\n",
    "for i in range(n):\n",
    "    for j in range(n):\n",
    "        if i==0 or i==n-1 or i+j == n-1:\n",
    "            print('*',end = '')\n",
    "        else:\n",
    "            print(' ',end = '')\n",
    "    print()"
   ]
  },
  {
   "attachments": {
    "image.png": {
     "image/png": "[encoded data removed]"
    }
   },
   "cell_type": "markdown",
   "metadata": {},
   "source": [
    "#### Write a Python program to construct the following pattern, using a nested for loop.\n",
    "\n",
    "![image.png](attachment:image.png)\n"
   ]
  },
  {
   "cell_type": "code",
   "execution_count": 13,
   "metadata": {},
   "outputs": [
    {
     "name": "stdout",
     "output_type": "stream",
     "text": [
      "*                 \n",
      "* *               \n",
      "* * *             \n",
      "* * * *           \n",
      "* * * * *         \n",
      "* * * *           \n",
      "* * *             \n",
      "* *               \n",
      "*                 \n"
     ]
    }
   ],
   "source": [
    "m = 9\n",
    "for i in range(m):\n",
    "    for j in range(m):\n",
    "        if i>=j and i+j <= m-1:\n",
    "            print('*',end = ' ')\n",
    "        else:\n",
    "            print(' ',end = ' ')\n",
    "    print()\n"
   ]
  },
  {
   "attachments": {
    "image.png": {
     "image/png": "[encoded data removed]"
    }
   },
   "cell_type": "markdown",
   "metadata": {},
   "source": [
    "####  Write a Python program to print alphabet pattern 'U'.\n",
    "Expected Output\n",
    "![image.png](attachment:image.png)"
   ]
  },
  {
   "cell_type": "code",
   "execution_count": 14,
   "metadata": {},
   "outputs": [
    {
     "name": "stdout",
     "output_type": "stream",
     "text": [
      " *   * \n",
      " *   * \n",
      " *   * \n",
      " *   * \n",
      " *   * \n",
      " *   * \n",
      "  ***  \n"
     ]
    }
   ],
   "source": [
    "l = 7\n",
    "for i in range(l):\n",
    "    for j in range(l):\n",
    "        if ((j == 1 or j == l-2) and i!=l-1) or (i==l-1 and j>1 and j<l-2):\n",
    "            print('*',end = '')\n",
    "        else:\n",
    "            print(' ',end = '')\n",
    "    print()"
   ]
  },
  {
   "attachments": {
    "image.png": {
     "image/png": "[encoded data removed]"
    }
   },
   "cell_type": "markdown",
   "metadata": {},
   "source": [
    "####  Write a Python program to print alphabet pattern 'T'\n",
    "Expected Output:\n",
    "![image.png](attachment:image.png)"
   ]
  },
  {
   "cell_type": "code",
   "execution_count": 15,
   "metadata": {},
   "outputs": [
    {
     "name": "stdout",
     "output_type": "stream",
     "text": [
      "*******\n",
      "   *   \n",
      "   *   \n",
      "   *   \n",
      "   *   \n",
      "   *   \n",
      "   *   \n"
     ]
    }
   ],
   "source": [
    "n = 7\n",
    "for i in range(n):\n",
    "    for j in range(n):\n",
    "        if ((i>0 and j==3)) or i==0 :\n",
    "            print('*',end='')\n",
    "        else:\n",
    "            print(' ',end='')\n",
    "    print()"
   ]
  },
  {
   "cell_type": "markdown",
   "metadata": {},
   "source": [
    "####  Write a Python program that accepts a word from the user and reverse it."
   ]
  },
  {
   "cell_type": "code",
   "execution_count": 16,
   "metadata": {},
   "outputs": [
    {
     "name": "stdout",
     "output_type": "stream",
     "text": [
      "Enter a String: data science\n",
      "ecneics atad"
     ]
    }
   ],
   "source": [
    "nn = input('Enter a String: ')\n",
    "i = len(nn)-1\n",
    "while i>=0:\n",
    "    print(nn[i],end='')\n",
    "    i-=1"
   ]
  },
  {
   "cell_type": "markdown",
   "metadata": {},
   "source": [
    "#### Write a Python program to count the number of even and odd numbers from a series of numbers\n",
    "\n",
    "Sample numbers : numbers = (1, 2, 3, 4, 5, 6, 7, 8, 9) \n",
    "\n",
    "Expected Output : \n",
    "\n",
    "Number of even numbers : 5\n",
    "\n",
    "Number of odd numbers : 4"
   ]
  },
  {
   "cell_type": "code",
   "execution_count": 17,
   "metadata": {},
   "outputs": [
    {
     "name": "stdout",
     "output_type": "stream",
     "text": [
      "Number of even numbers :  6\n",
      "Number of odd numbers :  5\n"
     ]
    }
   ],
   "source": [
    "even = odd = 0\n",
    "for i in range(11):\n",
    "    if i%2==0:\n",
    "        even += 1\n",
    "    else:\n",
    "        odd += 1\n",
    "print('Number of even numbers : ',even)\n",
    "print('Number of odd numbers : ',odd)"
   ]
  },
  {
   "cell_type": "markdown",
   "metadata": {},
   "source": [
    "#### Write a Python program that prints each item and its corresponding type from the following list.\n",
    "\n",
    "Sample List : datalist = [1452, 11.23, 1+2j, True, 'TestYantra', (0, -1), [5, 12], {\"class\":'V', \"section\":'A'}]"
   ]
  },
  {
   "cell_type": "code",
   "execution_count": 18,
   "metadata": {},
   "outputs": [
    {
     "name": "stdout",
     "output_type": "stream",
     "text": [
      "1452 : <class 'int'>\n",
      "11.23 : <class 'float'>\n",
      "(1+2j) : <class 'complex'>\n",
      "True : <class 'bool'>\n",
      "TestYantra : <class 'str'>\n",
      "(0, -1) : <class 'tuple'>\n",
      "[5, 12] : <class 'list'>\n",
      "{'class': 'V', 'section': 'A'} : <class 'dict'>\n"
     ]
    }
   ],
   "source": [
    "datalist = [1452, 11.23, 1+2j, True, 'TestYantra', (0, -1), [5, 12], {\"class\":'V', \"section\":'A'}]\n",
    "for i in datalist:\n",
    "    print(i,':', type(i))"
   ]
  },
  {
   "cell_type": "markdown",
   "metadata": {},
   "source": [
    "#### Write a Python program that prints all the numbers from 0 to 6 except 3 and 6.\n",
    " \n",
    "Expected Output : 0 1 2 4 5 "
   ]
  },
  {
   "cell_type": "code",
   "execution_count": 19,
   "metadata": {},
   "outputs": [
    {
     "name": "stdout",
     "output_type": "stream",
     "text": [
      "0 1 2 4 5 "
     ]
    }
   ],
   "source": [
    "for i in range(6):\n",
    "    if i==3 or i == 6:\n",
    "        continue\n",
    "    print(i,end = ' ')"
   ]
  },
  {
   "cell_type": "markdown",
   "metadata": {},
   "source": [
    "#### Write a Python program to get the Fibonacci series between 0 to 50\n",
    "\n",
    "Note : The Fibonacci Sequence is the series of numbers :\n",
    "\n",
    "0, 1, 1, 2, 3, 5, 8, 13, 21, .... \n",
    "\n",
    "Every next number is found by adding up the two numbers before it.\n",
    "\n",
    "Expected Output : 1 1 2 3 5 8 13 21 34"
   ]
  },
  {
   "cell_type": "code",
   "execution_count": 20,
   "metadata": {},
   "outputs": [
    {
     "name": "stdout",
     "output_type": "stream",
     "text": [
      "21\n"
     ]
    }
   ],
   "source": [
    "def fibbo(n):\n",
    "    if n<=1:\n",
    "        return n\n",
    "    return fibbo(n-1) + fibbo(n-2)\n",
    "print(fibbo(8))"
   ]
  },
  {
   "cell_type": "markdown",
   "metadata": {},
   "source": [
    "#### Write a Python program to create the multiplication table (from 1 to 10) of a number.\n",
    "\n",
    "Expected Output:\n",
    "\n",
    "Input a number: 6                                                       \n",
    "\n",
    "6 x 1 = 6                                                               \n",
    "\n",
    "6 x 2 = 12                                                              \n",
    "\n",
    "6 x 3 = 18                                                              \n",
    "\n",
    "6 x 4 = 24                                                              \n",
    "\n",
    "6 x 5 = 30                                                              \n",
    "\n",
    "6 x 6 = 36                                                              \n",
    "\n",
    "6 x 7 = 42                                                              \n",
    "\n",
    "6 x 8 = 48                                                              \n",
    "\n",
    "6 x 9 = 54                                                              \n",
    "\n",
    "6 x 10 = 60 "
   ]
  },
  {
   "cell_type": "code",
   "execution_count": 21,
   "metadata": {},
   "outputs": [
    {
     "name": "stdout",
     "output_type": "stream",
     "text": [
      "Enter a number: 7\n",
      "7 X 1 = 7\n",
      "\n",
      "7 X 2 = 14\n",
      "\n",
      "7 X 3 = 21\n",
      "\n",
      "7 X 4 = 28\n",
      "\n",
      "7 X 5 = 35\n",
      "\n",
      "7 X 6 = 42\n",
      "\n",
      "7 X 7 = 49\n",
      "\n",
      "7 X 8 = 56\n",
      "\n",
      "7 X 9 = 63\n",
      "\n",
      "7 X 10 = 70\n",
      "\n"
     ]
    }
   ],
   "source": [
    "num = int(input('Enter a number: '))\n",
    "for i in range(1,11):\n",
    "    print(num,'X',i,'=',num*i)\n",
    "    print()"
   ]
  },
  {
   "cell_type": "markdown",
   "metadata": {},
   "source": [
    "#### Write a Python program to calculate the sum and average of n integer numbers"
   ]
  },
  {
   "cell_type": "code",
   "execution_count": 22,
   "metadata": {},
   "outputs": [
    {
     "name": "stdout",
     "output_type": "stream",
     "text": [
      "Enter the Number: 10\n",
      "Sum:  55\n",
      "Avg:  5.5\n"
     ]
    }
   ],
   "source": [
    "n5 = int(input('Enter the Number: '))\n",
    "sum = 0\n",
    "for i in range(1,n5+1):\n",
    "    sum = sum + i\n",
    "print('Sum: ',sum)\n",
    "print('Avg: ',sum/n5)"
   ]
  }
 ],
 "metadata": {
  "kernelspec": {
   "display_name": "Python 3",
   "language": "python",
   "name": "python3"
  },
  "language_info": {
   "codemirror_mode": {
    "name": "ipython",
    "version": 3
   },
   "file_extension": ".py",
   "mimetype": "text/x-python",
   "name": "python",
   "nbconvert_exporter": "python",
   "pygments_lexer": "ipython3",
   "version": "3.7.3"
  }
 },
 "nbformat": 4,
 "nbformat_minor": 2
}
